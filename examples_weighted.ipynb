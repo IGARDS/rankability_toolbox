{
 "cells": [
  {
   "cell_type": "markdown",
   "metadata": {},
   "source": [
    "# Examples of the pyrankability package"
   ]
  },
  {
   "cell_type": "code",
   "execution_count": 10,
   "metadata": {},
   "outputs": [
    {
     "name": "stdout",
     "output_type": "stream",
     "text": [
      "The autoreload extension is already loaded. To reload it, use:\n",
      "  %reload_ext autoreload\n"
     ]
    }
   ],
   "source": [
    "from IPython.core.display import display, HTML\n",
    "import pandas as pd\n",
    "import numpy as np\n",
    "import copy\n",
    "import os\n",
    "%load_ext autoreload\n",
    "%autoreload 2\n",
    "%matplotlib inline"
   ]
  },
  {
   "cell_type": "code",
   "execution_count": 3,
   "metadata": {},
   "outputs": [],
   "source": [
    "import networkx as nx\n",
    "from numpy import ix_\n",
    "import numpy as np"
   ]
  },
  {
   "cell_type": "code",
   "execution_count": 6,
   "metadata": {},
   "outputs": [],
   "source": [
    "import sys\n",
    "sys.path.insert(0,\"~/rankability_toolbox\")"
   ]
  },
  {
   "cell_type": "code",
   "execution_count": 7,
   "metadata": {},
   "outputs": [],
   "source": [
    "import pyrankability"
   ]
  },
  {
   "cell_type": "code",
   "execution_count": 23,
   "metadata": {},
   "outputs": [
    {
     "data": {
      "text/plain": [
       "OutMultiEdgeDataView([(0, 1, {}), (0, 3, {}), (0, 6, {}), (1, 3, {}), (1, 3, {}), (1, 6, {}), (2, 4, {}), (2, 9, {}), (2, 9, {}), (3, 3, {}), (3, 3, {}), (3, 5, {}), (4, 3, {}), (4, 3, {}), (4, 1, {}), (5, 3, {}), (5, 3, {}), (5, 5, {}), (6, 3, {}), (6, 4, {}), (6, 2, {}), (7, 3, {}), (7, 3, {}), (7, 3, {}), (8, 9, {}), (8, 3, {}), (8, 3, {}), (9, 6, {}), (9, 6, {}), (9, 5, {})])"
      ]
     },
     "execution_count": 23,
     "metadata": {},
     "output_type": "execute_result"
    }
   ],
   "source": [
    "G.edges()"
   ]
  },
  {
   "cell_type": "code",
   "execution_count": 41,
   "metadata": {},
   "outputs": [
    {
     "data": {
      "image/png": "[encoded data removed]",
      "text/plain": [
       "<Figure size 432x288 with 1 Axes>"
      ]
     },
     "metadata": {},
     "output_type": "display_data"
    }
   ],
   "source": [
    "import matplotlib as mpl\n",
    "import matplotlib.pyplot as plt\n",
    "import networkx as nx\n",
    "\n",
    "G = nx.generators.directed.random_k_out_graph(10, 5, 0.5,self_loops=False,seed=42)\n",
    "pos = nx.layout.circular_layout(G)\n",
    "\n",
    "nodes = nx.draw_networkx_nodes(G, pos, node_color='blue')\n",
    "nodes = nx.draw_networkx_edges(G, pos, node_color='blue')\n",
    "\n",
    "ax = plt.gca()\n",
    "ax.set_axis_off()\n",
    "plt.show()"
   ]
  },
  {
   "cell_type": "code",
   "execution_count": 46,
   "metadata": {},
   "outputs": [
    {
     "data": {
      "text/html": [
       "<div>\n",
       "<style scoped>\n",
       "    .dataframe tbody tr th:only-of-type {\n",
       "        vertical-align: middle;\n",
       "    }\n",
       "\n",
       "    .dataframe tbody tr th {\n",
       "        vertical-align: top;\n",
       "    }\n",
       "\n",
       "    .dataframe thead th {\n",
       "        text-align: right;\n",
       "    }\n",
       "</style>\n",
       "<table border=\"1\" class=\"dataframe\">\n",
       "  <thead>\n",
       "    <tr style=\"text-align: right;\">\n",
       "      <th></th>\n",
       "      <th>0</th>\n",
       "      <th>1</th>\n",
       "      <th>2</th>\n",
       "      <th>3</th>\n",
       "      <th>4</th>\n",
       "      <th>5</th>\n",
       "      <th>6</th>\n",
       "      <th>7</th>\n",
       "      <th>8</th>\n",
       "      <th>9</th>\n",
       "    </tr>\n",
       "  </thead>\n",
       "  <tbody>\n",
       "    <tr>\n",
       "      <td>0</td>\n",
       "      <td>NaN</td>\n",
       "      <td>NaN</td>\n",
       "      <td>1.0</td>\n",
       "      <td>NaN</td>\n",
       "      <td>NaN</td>\n",
       "      <td>1.0</td>\n",
       "      <td>3.0</td>\n",
       "      <td>NaN</td>\n",
       "      <td>NaN</td>\n",
       "      <td>NaN</td>\n",
       "    </tr>\n",
       "    <tr>\n",
       "      <td>1</td>\n",
       "      <td>4.0</td>\n",
       "      <td>NaN</td>\n",
       "      <td>NaN</td>\n",
       "      <td>NaN</td>\n",
       "      <td>NaN</td>\n",
       "      <td>NaN</td>\n",
       "      <td>1.0</td>\n",
       "      <td>NaN</td>\n",
       "      <td>NaN</td>\n",
       "      <td>NaN</td>\n",
       "    </tr>\n",
       "    <tr>\n",
       "      <td>2</td>\n",
       "      <td>1.0</td>\n",
       "      <td>NaN</td>\n",
       "      <td>NaN</td>\n",
       "      <td>NaN</td>\n",
       "      <td>NaN</td>\n",
       "      <td>2.0</td>\n",
       "      <td>1.0</td>\n",
       "      <td>1.0</td>\n",
       "      <td>NaN</td>\n",
       "      <td>NaN</td>\n",
       "    </tr>\n",
       "    <tr>\n",
       "      <td>3</td>\n",
       "      <td>1.0</td>\n",
       "      <td>NaN</td>\n",
       "      <td>NaN</td>\n",
       "      <td>NaN</td>\n",
       "      <td>NaN</td>\n",
       "      <td>1.0</td>\n",
       "      <td>1.0</td>\n",
       "      <td>NaN</td>\n",
       "      <td>1.0</td>\n",
       "      <td>1.0</td>\n",
       "    </tr>\n",
       "    <tr>\n",
       "      <td>4</td>\n",
       "      <td>4.0</td>\n",
       "      <td>NaN</td>\n",
       "      <td>NaN</td>\n",
       "      <td>NaN</td>\n",
       "      <td>NaN</td>\n",
       "      <td>NaN</td>\n",
       "      <td>1.0</td>\n",
       "      <td>NaN</td>\n",
       "      <td>NaN</td>\n",
       "      <td>NaN</td>\n",
       "    </tr>\n",
       "    <tr>\n",
       "      <td>5</td>\n",
       "      <td>2.0</td>\n",
       "      <td>2.0</td>\n",
       "      <td>1.0</td>\n",
       "      <td>NaN</td>\n",
       "      <td>NaN</td>\n",
       "      <td>NaN</td>\n",
       "      <td>NaN</td>\n",
       "      <td>NaN</td>\n",
       "      <td>NaN</td>\n",
       "      <td>NaN</td>\n",
       "    </tr>\n",
       "    <tr>\n",
       "      <td>6</td>\n",
       "      <td>5.0</td>\n",
       "      <td>NaN</td>\n",
       "      <td>NaN</td>\n",
       "      <td>NaN</td>\n",
       "      <td>NaN</td>\n",
       "      <td>NaN</td>\n",
       "      <td>NaN</td>\n",
       "      <td>NaN</td>\n",
       "      <td>NaN</td>\n",
       "      <td>NaN</td>\n",
       "    </tr>\n",
       "    <tr>\n",
       "      <td>7</td>\n",
       "      <td>2.0</td>\n",
       "      <td>1.0</td>\n",
       "      <td>1.0</td>\n",
       "      <td>NaN</td>\n",
       "      <td>NaN</td>\n",
       "      <td>1.0</td>\n",
       "      <td>NaN</td>\n",
       "      <td>NaN</td>\n",
       "      <td>NaN</td>\n",
       "      <td>NaN</td>\n",
       "    </tr>\n",
       "    <tr>\n",
       "      <td>8</td>\n",
       "      <td>4.0</td>\n",
       "      <td>NaN</td>\n",
       "      <td>1.0</td>\n",
       "      <td>NaN</td>\n",
       "      <td>NaN</td>\n",
       "      <td>NaN</td>\n",
       "      <td>NaN</td>\n",
       "      <td>NaN</td>\n",
       "      <td>NaN</td>\n",
       "      <td>NaN</td>\n",
       "    </tr>\n",
       "    <tr>\n",
       "      <td>9</td>\n",
       "      <td>NaN</td>\n",
       "      <td>NaN</td>\n",
       "      <td>3.0</td>\n",
       "      <td>NaN</td>\n",
       "      <td>1.0</td>\n",
       "      <td>NaN</td>\n",
       "      <td>1.0</td>\n",
       "      <td>NaN</td>\n",
       "      <td>NaN</td>\n",
       "      <td>NaN</td>\n",
       "    </tr>\n",
       "  </tbody>\n",
       "</table>\n",
       "</div>"
      ],
      "text/plain": [
       "     0    1    2   3    4    5    6    7    8    9\n",
       "0  NaN  NaN  1.0 NaN  NaN  1.0  3.0  NaN  NaN  NaN\n",
       "1  4.0  NaN  NaN NaN  NaN  NaN  1.0  NaN  NaN  NaN\n",
       "2  1.0  NaN  NaN NaN  NaN  2.0  1.0  1.0  NaN  NaN\n",
       "3  1.0  NaN  NaN NaN  NaN  1.0  1.0  NaN  1.0  1.0\n",
       "4  4.0  NaN  NaN NaN  NaN  NaN  1.0  NaN  NaN  NaN\n",
       "5  2.0  2.0  1.0 NaN  NaN  NaN  NaN  NaN  NaN  NaN\n",
       "6  5.0  NaN  NaN NaN  NaN  NaN  NaN  NaN  NaN  NaN\n",
       "7  2.0  1.0  1.0 NaN  NaN  1.0  NaN  NaN  NaN  NaN\n",
       "8  4.0  NaN  1.0 NaN  NaN  NaN  NaN  NaN  NaN  NaN\n",
       "9  NaN  NaN  3.0 NaN  1.0  NaN  1.0  NaN  NaN  NaN"
      ]
     },
     "execution_count": 46,
     "metadata": {},
     "output_type": "execute_result"
    }
   ],
   "source": [
    "Ddict = {}\n",
    "for u,v in G.edges():\n",
    "    if (u,v) not in Ddict:\n",
    "        Ddict[(u,v)] = 0\n",
    "    Ddict[(u,v)] += 1\n",
    "# Make sure there are entries in there for everything\n",
    "for u in G.nodes():\n",
    "    for v in G.nodes():\n",
    "        if u!=v and (u,v) not in Ddict:\n",
    "            Ddict[(u,v)] = np.NaN\n",
    "D = pd.Series(list(Ddict.values()),index=pd.MultiIndex.from_tuples(list(Ddict.keys())))\n",
    "D.unstack()"
   ]
  },
  {
   "cell_type": "code",
   "execution_count": 47,
   "metadata": {},
   "outputs": [
    {
     "data": {
      "text/plain": [
       "array([[0., 0., 1., 0., 0., 1., 3., 0., 0., 0.],\n",
       "       [4., 0., 0., 0., 0., 0., 1., 0., 0., 0.],\n",
       "       [1., 0., 0., 0., 0., 2., 1., 1., 0., 0.],\n",
       "       [1., 0., 0., 0., 0., 1., 1., 0., 1., 1.],\n",
       "       [4., 0., 0., 0., 0., 0., 1., 0., 0., 0.],\n",
       "       [2., 2., 1., 0., 0., 0., 0., 0., 0., 0.],\n",
       "       [5., 0., 0., 0., 0., 0., 0., 0., 0., 0.],\n",
       "       [2., 1., 1., 0., 0., 1., 0., 0., 0., 0.],\n",
       "       [4., 0., 1., 0., 0., 0., 0., 0., 0., 0.],\n",
       "       [0., 0., 3., 0., 1., 0., 1., 0., 0., 0.]])"
      ]
     },
     "execution_count": 47,
     "metadata": {},
     "output_type": "execute_result"
    }
   ],
   "source": [
    "D.unstack().fillna(0).values"
   ]
  },
  {
   "cell_type": "code",
   "execution_count": 50,
   "metadata": {},
   "outputs": [
    {
     "data": {
      "text/plain": [
       "43.00000000000276"
      ]
     },
     "execution_count": 50,
     "metadata": {},
     "output_type": "execute_result"
    }
   ],
   "source": [
    "k,details = pyrankability.lop.lp(D.unstack().fillna(0).values)\n",
    "k"
   ]
  },
  {
   "cell_type": "code",
   "execution_count": 51,
   "metadata": {},
   "outputs": [
    {
     "data": {
      "text/plain": [
       "43.00000000000276"
      ]
     },
     "execution_count": 51,
     "metadata": {},
     "output_type": "execute_result"
    }
   ],
   "source": [
    "k_bilp,details_bilp = pyrankability.lop.lp(D.unstack().fillna(0).values)\n",
    "k_bilp"
   ]
  },
  {
   "cell_type": "code",
   "execution_count": 55,
   "metadata": {},
   "outputs": [
    {
     "data": {
      "text/html": [
       "<div>\n",
       "<style scoped>\n",
       "    .dataframe tbody tr th:only-of-type {\n",
       "        vertical-align: middle;\n",
       "    }\n",
       "\n",
       "    .dataframe tbody tr th {\n",
       "        vertical-align: top;\n",
       "    }\n",
       "\n",
       "    .dataframe thead th {\n",
       "        text-align: right;\n",
       "    }\n",
       "</style>\n",
       "<table border=\"1\" class=\"dataframe\">\n",
       "  <thead>\n",
       "    <tr style=\"text-align: right;\">\n",
       "      <th></th>\n",
       "      <th>0</th>\n",
       "      <th>1</th>\n",
       "      <th>2</th>\n",
       "      <th>3</th>\n",
       "      <th>4</th>\n",
       "      <th>5</th>\n",
       "      <th>6</th>\n",
       "      <th>7</th>\n",
       "      <th>8</th>\n",
       "      <th>9</th>\n",
       "    </tr>\n",
       "  </thead>\n",
       "  <tbody>\n",
       "    <tr>\n",
       "      <td>0</td>\n",
       "      <td>1.000000</td>\n",
       "      <td>1.000000</td>\n",
       "      <td>1.000000</td>\n",
       "      <td>0.714734</td>\n",
       "      <td>1.000000</td>\n",
       "      <td>1.000000</td>\n",
       "      <td>1.000000</td>\n",
       "      <td>1.000000</td>\n",
       "      <td>1.0</td>\n",
       "      <td>1.0</td>\n",
       "    </tr>\n",
       "    <tr>\n",
       "      <td>1</td>\n",
       "      <td>0.000000</td>\n",
       "      <td>1.000000</td>\n",
       "      <td>0.690078</td>\n",
       "      <td>0.611643</td>\n",
       "      <td>1.000000</td>\n",
       "      <td>1.000000</td>\n",
       "      <td>1.000000</td>\n",
       "      <td>1.000000</td>\n",
       "      <td>1.0</td>\n",
       "      <td>1.0</td>\n",
       "    </tr>\n",
       "    <tr>\n",
       "      <td>2</td>\n",
       "      <td>0.000000</td>\n",
       "      <td>0.309922</td>\n",
       "      <td>1.000000</td>\n",
       "      <td>0.595635</td>\n",
       "      <td>1.000000</td>\n",
       "      <td>0.753600</td>\n",
       "      <td>1.000000</td>\n",
       "      <td>1.000000</td>\n",
       "      <td>1.0</td>\n",
       "      <td>1.0</td>\n",
       "    </tr>\n",
       "    <tr>\n",
       "      <td>3</td>\n",
       "      <td>0.285266</td>\n",
       "      <td>0.388357</td>\n",
       "      <td>0.404365</td>\n",
       "      <td>1.000000</td>\n",
       "      <td>0.692366</td>\n",
       "      <td>0.766697</td>\n",
       "      <td>1.000000</td>\n",
       "      <td>1.000000</td>\n",
       "      <td>1.0</td>\n",
       "      <td>1.0</td>\n",
       "    </tr>\n",
       "    <tr>\n",
       "      <td>4</td>\n",
       "      <td>0.000000</td>\n",
       "      <td>0.000000</td>\n",
       "      <td>0.000000</td>\n",
       "      <td>0.307634</td>\n",
       "      <td>1.000000</td>\n",
       "      <td>0.538228</td>\n",
       "      <td>1.000000</td>\n",
       "      <td>1.000000</td>\n",
       "      <td>1.0</td>\n",
       "      <td>1.0</td>\n",
       "    </tr>\n",
       "    <tr>\n",
       "      <td>5</td>\n",
       "      <td>0.000000</td>\n",
       "      <td>0.000000</td>\n",
       "      <td>0.246400</td>\n",
       "      <td>0.233303</td>\n",
       "      <td>0.461772</td>\n",
       "      <td>1.000000</td>\n",
       "      <td>0.529289</td>\n",
       "      <td>0.753869</td>\n",
       "      <td>1.0</td>\n",
       "      <td>1.0</td>\n",
       "    </tr>\n",
       "    <tr>\n",
       "      <td>6</td>\n",
       "      <td>0.000000</td>\n",
       "      <td>0.000000</td>\n",
       "      <td>0.000000</td>\n",
       "      <td>0.000000</td>\n",
       "      <td>0.000000</td>\n",
       "      <td>0.470711</td>\n",
       "      <td>1.000000</td>\n",
       "      <td>1.000000</td>\n",
       "      <td>1.0</td>\n",
       "      <td>1.0</td>\n",
       "    </tr>\n",
       "    <tr>\n",
       "      <td>7</td>\n",
       "      <td>0.000000</td>\n",
       "      <td>0.000000</td>\n",
       "      <td>0.000000</td>\n",
       "      <td>0.000000</td>\n",
       "      <td>0.000000</td>\n",
       "      <td>0.246131</td>\n",
       "      <td>0.000000</td>\n",
       "      <td>1.000000</td>\n",
       "      <td>1.0</td>\n",
       "      <td>1.0</td>\n",
       "    </tr>\n",
       "    <tr>\n",
       "      <td>8</td>\n",
       "      <td>0.000000</td>\n",
       "      <td>0.000000</td>\n",
       "      <td>0.000000</td>\n",
       "      <td>0.000000</td>\n",
       "      <td>0.000000</td>\n",
       "      <td>0.000000</td>\n",
       "      <td>0.000000</td>\n",
       "      <td>0.000000</td>\n",
       "      <td>1.0</td>\n",
       "      <td>1.0</td>\n",
       "    </tr>\n",
       "    <tr>\n",
       "      <td>9</td>\n",
       "      <td>0.000000</td>\n",
       "      <td>0.000000</td>\n",
       "      <td>0.000000</td>\n",
       "      <td>0.000000</td>\n",
       "      <td>0.000000</td>\n",
       "      <td>0.000000</td>\n",
       "      <td>0.000000</td>\n",
       "      <td>0.000000</td>\n",
       "      <td>0.0</td>\n",
       "      <td>1.0</td>\n",
       "    </tr>\n",
       "  </tbody>\n",
       "</table>\n",
       "</div>"
      ],
      "text/plain": [
       "          0         1         2         3         4         5         6  \\\n",
       "0  1.000000  1.000000  1.000000  0.714734  1.000000  1.000000  1.000000   \n",
       "1  0.000000  1.000000  0.690078  0.611643  1.000000  1.000000  1.000000   \n",
       "2  0.000000  0.309922  1.000000  0.595635  1.000000  0.753600  1.000000   \n",
       "3  0.285266  0.388357  0.404365  1.000000  0.692366  0.766697  1.000000   \n",
       "4  0.000000  0.000000  0.000000  0.307634  1.000000  0.538228  1.000000   \n",
       "5  0.000000  0.000000  0.246400  0.233303  0.461772  1.000000  0.529289   \n",
       "6  0.000000  0.000000  0.000000  0.000000  0.000000  0.470711  1.000000   \n",
       "7  0.000000  0.000000  0.000000  0.000000  0.000000  0.246131  0.000000   \n",
       "8  0.000000  0.000000  0.000000  0.000000  0.000000  0.000000  0.000000   \n",
       "9  0.000000  0.000000  0.000000  0.000000  0.000000  0.000000  0.000000   \n",
       "\n",
       "          7    8    9  \n",
       "0  1.000000  1.0  1.0  \n",
       "1  1.000000  1.0  1.0  \n",
       "2  1.000000  1.0  1.0  \n",
       "3  1.000000  1.0  1.0  \n",
       "4  1.000000  1.0  1.0  \n",
       "5  0.753869  1.0  1.0  \n",
       "6  1.000000  1.0  1.0  \n",
       "7  1.000000  1.0  1.0  \n",
       "8  0.000000  1.0  1.0  \n",
       "9  0.000000  0.0  1.0  "
      ]
     },
     "execution_count": 55,
     "metadata": {},
     "output_type": "execute_result"
    }
   ],
   "source": [
    "pd.DataFrame(Xstar)"
   ]
  },
  {
   "cell_type": "code",
   "execution_count": 52,
   "metadata": {},
   "outputs": [],
   "source": [
    "Xstar = pyrankability.lop.threshold_x(details['x'],lower_cut=1e-3,upper_cut=1-1e-3)\n",
    "\n",
    "record_ixs = []\n",
    "r = np.sum(Xstar,axis=1)\n",
    "ixs = np.argsort(-1*r)\n",
    "record_ixs.append(ixs)\n",
    "Xstar_rowsum = Xstar[np.ix_(ixs,ixs)]\n",
    "\n",
    "r = np.sum(details_bilp['x'],axis=1)\n",
    "ixs = np.argsort(-1*r)\n",
    "record_ixs.append(ixs)\n",
    "Xstar_bilp = Xstar[np.ix_(ixs,ixs)]\n",
    "\n",
    "labels = [\"A. BILP by rowsum\", \"B. Ordered by rowsum\"]\n",
    "Xstars = [Xstar_bilp,Xstar_rowsum]"
   ]
  },
  {
   "cell_type": "code",
   "execution_count": 56,
   "metadata": {},
   "outputs": [
    {
     "data": {
      "application/vnd.vegalite.v3+json": {
       "$schema": "https://vega.github.io/schema/vega-lite/v3.4.0.json",
       "config": {
        "mark": {
         "tooltip": null
        },
        "view": {
         "height": 300,
         "width": 400
        }
       },
       "data": {
        "name": "data-df84cabd972bb2c405a8b88785787fb7"
       },
       "datasets": {
        "data-df84cabd972bb2c405a8b88785787fb7": [
         {
          "Label": "A. BILP by rowsum",
          "i": 3,
          "j": 3,
          "oi": 0,
          "oj": 0,
          "x": 1
         },
         {
          "Label": "A. BILP by rowsum",
          "i": 3,
          "j": 9,
          "oi": 0,
          "oj": 1,
          "x": 1
         },
         {
          "Label": "A. BILP by rowsum",
          "i": 3,
          "j": 8,
          "oi": 0,
          "oj": 2,
          "x": 1
         },
         {
          "Label": "A. BILP by rowsum",
          "i": 3,
          "j": 7,
          "oi": 0,
          "oj": 3,
          "x": 0.7147343884975187
         },
         {
          "Label": "A. BILP by rowsum",
          "i": 3,
          "j": 2,
          "oi": 0,
          "oj": 4,
          "x": 1
         },
         {
          "Label": "A. BILP by rowsum",
          "i": 3,
          "j": 4,
          "oi": 0,
          "oj": 5,
          "x": 1
         },
         {
          "Label": "A. BILP by rowsum",
          "i": 3,
          "j": 5,
          "oi": 0,
          "oj": 6,
          "x": 1
         },
         {
          "Label": "A. BILP by rowsum",
          "i": 3,
          "j": 1,
          "oi": 0,
          "oj": 7,
          "x": 1
         },
         {
          "Label": "A. BILP by rowsum",
          "i": 3,
          "j": 6,
          "oi": 0,
          "oj": 8,
          "x": 1
         },
         {
          "Label": "A. BILP by rowsum",
          "i": 3,
          "j": 0,
          "oi": 0,
          "oj": 9,
          "x": 1
         },
         {
          "Label": "A. BILP by rowsum",
          "i": 9,
          "j": 3,
          "oi": 1,
          "oj": 0,
          "x": 0
         },
         {
          "Label": "A. BILP by rowsum",
          "i": 9,
          "j": 9,
          "oi": 1,
          "oj": 1,
          "x": 1
         },
         {
          "Label": "A. BILP by rowsum",
          "i": 9,
          "j": 8,
          "oi": 1,
          "oj": 2,
          "x": 0.69007816406111
         },
         {
          "Label": "A. BILP by rowsum",
          "i": 9,
          "j": 7,
          "oi": 1,
          "oj": 3,
          "x": 0.6116426967232325
         },
         {
          "Label": "A. BILP by rowsum",
          "i": 9,
          "j": 2,
          "oi": 1,
          "oj": 4,
          "x": 1
         },
         {
          "Label": "A. BILP by rowsum",
          "i": 9,
          "j": 4,
          "oi": 1,
          "oj": 5,
          "x": 1
         },
         {
          "Label": "A. BILP by rowsum",
          "i": 9,
          "j": 5,
          "oi": 1,
          "oj": 6,
          "x": 1
         },
         {
          "Label": "A. BILP by rowsum",
          "i": 9,
          "j": 1,
          "oi": 1,
          "oj": 7,
          "x": 1
         },
         {
          "Label": "A. BILP by rowsum",
          "i": 9,
          "j": 6,
          "oi": 1,
          "oj": 8,
          "x": 1
         },
         {
          "Label": "A. BILP by rowsum",
          "i": 9,
          "j": 0,
          "oi": 1,
          "oj": 9,
          "x": 1
         },
         {
          "Label": "A. BILP by rowsum",
          "i": 8,
          "j": 3,
          "oi": 2,
          "oj": 0,
          "x": 0
         },
         {
          "Label": "A. BILP by rowsum",
          "i": 8,
          "j": 9,
          "oi": 2,
          "oj": 1,
          "x": 0.30992183593889
         },
         {
          "Label": "A. BILP by rowsum",
          "i": 8,
          "j": 8,
          "oi": 2,
          "oj": 2,
          "x": 1
         },
         {
          "Label": "A. BILP by rowsum",
          "i": 8,
          "j": 7,
          "oi": 2,
          "oj": 3,
          "x": 0.5956352311825264
         },
         {
          "Label": "A. BILP by rowsum",
          "i": 8,
          "j": 2,
          "oi": 2,
          "oj": 4,
          "x": 1
         },
         {
          "Label": "A. BILP by rowsum",
          "i": 8,
          "j": 4,
          "oi": 2,
          "oj": 5,
          "x": 0.7535995742767357
         },
         {
          "Label": "A. BILP by rowsum",
          "i": 8,
          "j": 5,
          "oi": 2,
          "oj": 6,
          "x": 1
         },
         {
          "Label": "A. BILP by rowsum",
          "i": 8,
          "j": 1,
          "oi": 2,
          "oj": 7,
          "x": 1
         },
         {
          "Label": "A. BILP by rowsum",
          "i": 8,
          "j": 6,
          "oi": 2,
          "oj": 8,
          "x": 1
         },
         {
          "Label": "A. BILP by rowsum",
          "i": 8,
          "j": 0,
          "oi": 2,
          "oj": 9,
          "x": 1
         },
         {
          "Label": "A. BILP by rowsum",
          "i": 7,
          "j": 3,
          "oi": 3,
          "oj": 0,
          "x": 0.2852656115024813
         },
         {
          "Label": "A. BILP by rowsum",
          "i": 7,
          "j": 9,
          "oi": 3,
          "oj": 1,
          "x": 0.3883573032767676
         },
         {
          "Label": "A. BILP by rowsum",
          "i": 7,
          "j": 8,
          "oi": 3,
          "oj": 2,
          "x": 0.40436476881747363
         },
         {
          "Label": "A. BILP by rowsum",
          "i": 7,
          "j": 7,
          "oi": 3,
          "oj": 3,
          "x": 1
         },
         {
          "Label": "A. BILP by rowsum",
          "i": 7,
          "j": 2,
          "oi": 3,
          "oj": 4,
          "x": 0.6923659129478685
         },
         {
          "Label": "A. BILP by rowsum",
          "i": 7,
          "j": 4,
          "oi": 3,
          "oj": 5,
          "x": 0.7666974358735589
         },
         {
          "Label": "A. BILP by rowsum",
          "i": 7,
          "j": 5,
          "oi": 3,
          "oj": 6,
          "x": 1
         },
         {
          "Label": "A. BILP by rowsum",
          "i": 7,
          "j": 1,
          "oi": 3,
          "oj": 7,
          "x": 1
         },
         {
          "Label": "A. BILP by rowsum",
          "i": 7,
          "j": 6,
          "oi": 3,
          "oj": 8,
          "x": 1
         },
         {
          "Label": "A. BILP by rowsum",
          "i": 7,
          "j": 0,
          "oi": 3,
          "oj": 9,
          "x": 1
         },
         {
          "Label": "A. BILP by rowsum",
          "i": 2,
          "j": 3,
          "oi": 4,
          "oj": 0,
          "x": 0
         },
         {
          "Label": "A. BILP by rowsum",
          "i": 2,
          "j": 9,
          "oi": 4,
          "oj": 1,
          "x": 0
         },
         {
          "Label": "A. BILP by rowsum",
          "i": 2,
          "j": 8,
          "oi": 4,
          "oj": 2,
          "x": 0
         },
         {
          "Label": "A. BILP by rowsum",
          "i": 2,
          "j": 7,
          "oi": 4,
          "oj": 3,
          "x": 0.3076340870521315
         },
         {
          "Label": "A. BILP by rowsum",
          "i": 2,
          "j": 2,
          "oi": 4,
          "oj": 4,
          "x": 1
         },
         {
          "Label": "A. BILP by rowsum",
          "i": 2,
          "j": 4,
          "oi": 4,
          "oj": 5,
          "x": 0.5382281544523403
         },
         {
          "Label": "A. BILP by rowsum",
          "i": 2,
          "j": 5,
          "oi": 4,
          "oj": 6,
          "x": 1
         },
         {
          "Label": "A. BILP by rowsum",
          "i": 2,
          "j": 1,
          "oi": 4,
          "oj": 7,
          "x": 1
         },
         {
          "Label": "A. BILP by rowsum",
          "i": 2,
          "j": 6,
          "oi": 4,
          "oj": 8,
          "x": 1
         },
         {
          "Label": "A. BILP by rowsum",
          "i": 2,
          "j": 0,
          "oi": 4,
          "oj": 9,
          "x": 1
         },
         {
          "Label": "A. BILP by rowsum",
          "i": 4,
          "j": 3,
          "oi": 5,
          "oj": 0,
          "x": 0
         },
         {
          "Label": "A. BILP by rowsum",
          "i": 4,
          "j": 9,
          "oi": 5,
          "oj": 1,
          "x": 0
         },
         {
          "Label": "A. BILP by rowsum",
          "i": 4,
          "j": 8,
          "oi": 5,
          "oj": 2,
          "x": 0.24640042572326426
         },
         {
          "Label": "A. BILP by rowsum",
          "i": 4,
          "j": 7,
          "oi": 5,
          "oj": 3,
          "x": 0.23330256412644115
         },
         {
          "Label": "A. BILP by rowsum",
          "i": 4,
          "j": 2,
          "oi": 5,
          "oj": 4,
          "x": 0.4617718455476597
         },
         {
          "Label": "A. BILP by rowsum",
          "i": 4,
          "j": 4,
          "oi": 5,
          "oj": 5,
          "x": 1
         },
         {
          "Label": "A. BILP by rowsum",
          "i": 4,
          "j": 5,
          "oi": 5,
          "oj": 6,
          "x": 0.5292886393286692
         },
         {
          "Label": "A. BILP by rowsum",
          "i": 4,
          "j": 1,
          "oi": 5,
          "oj": 7,
          "x": 0.7538687082948545
         },
         {
          "Label": "A. BILP by rowsum",
          "i": 4,
          "j": 6,
          "oi": 5,
          "oj": 8,
          "x": 1
         },
         {
          "Label": "A. BILP by rowsum",
          "i": 4,
          "j": 0,
          "oi": 5,
          "oj": 9,
          "x": 1
         },
         {
          "Label": "A. BILP by rowsum",
          "i": 5,
          "j": 3,
          "oi": 6,
          "oj": 0,
          "x": 0
         },
         {
          "Label": "A. BILP by rowsum",
          "i": 5,
          "j": 9,
          "oi": 6,
          "oj": 1,
          "x": 0
         },
         {
          "Label": "A. BILP by rowsum",
          "i": 5,
          "j": 8,
          "oi": 6,
          "oj": 2,
          "x": 0
         },
         {
          "Label": "A. BILP by rowsum",
          "i": 5,
          "j": 7,
          "oi": 6,
          "oj": 3,
          "x": 0
         },
         {
          "Label": "A. BILP by rowsum",
          "i": 5,
          "j": 2,
          "oi": 6,
          "oj": 4,
          "x": 0
         },
         {
          "Label": "A. BILP by rowsum",
          "i": 5,
          "j": 4,
          "oi": 6,
          "oj": 5,
          "x": 0.4707113606713308
         },
         {
          "Label": "A. BILP by rowsum",
          "i": 5,
          "j": 5,
          "oi": 6,
          "oj": 6,
          "x": 1
         },
         {
          "Label": "A. BILP by rowsum",
          "i": 5,
          "j": 1,
          "oi": 6,
          "oj": 7,
          "x": 1
         },
         {
          "Label": "A. BILP by rowsum",
          "i": 5,
          "j": 6,
          "oi": 6,
          "oj": 8,
          "x": 1
         },
         {
          "Label": "A. BILP by rowsum",
          "i": 5,
          "j": 0,
          "oi": 6,
          "oj": 9,
          "x": 1
         },
         {
          "Label": "A. BILP by rowsum",
          "i": 1,
          "j": 3,
          "oi": 7,
          "oj": 0,
          "x": 0
         },
         {
          "Label": "A. BILP by rowsum",
          "i": 1,
          "j": 9,
          "oi": 7,
          "oj": 1,
          "x": 0
         },
         {
          "Label": "A. BILP by rowsum",
          "i": 1,
          "j": 8,
          "oi": 7,
          "oj": 2,
          "x": 0
         },
         {
          "Label": "A. BILP by rowsum",
          "i": 1,
          "j": 7,
          "oi": 7,
          "oj": 3,
          "x": 0
         },
         {
          "Label": "A. BILP by rowsum",
          "i": 1,
          "j": 2,
          "oi": 7,
          "oj": 4,
          "x": 0
         },
         {
          "Label": "A. BILP by rowsum",
          "i": 1,
          "j": 4,
          "oi": 7,
          "oj": 5,
          "x": 0.24613129170514553
         },
         {
          "Label": "A. BILP by rowsum",
          "i": 1,
          "j": 5,
          "oi": 7,
          "oj": 6,
          "x": 0
         },
         {
          "Label": "A. BILP by rowsum",
          "i": 1,
          "j": 1,
          "oi": 7,
          "oj": 7,
          "x": 1
         },
         {
          "Label": "A. BILP by rowsum",
          "i": 1,
          "j": 6,
          "oi": 7,
          "oj": 8,
          "x": 1
         },
         {
          "Label": "A. BILP by rowsum",
          "i": 1,
          "j": 0,
          "oi": 7,
          "oj": 9,
          "x": 1
         },
         {
          "Label": "A. BILP by rowsum",
          "i": 6,
          "j": 3,
          "oi": 8,
          "oj": 0,
          "x": 0
         },
         {
          "Label": "A. BILP by rowsum",
          "i": 6,
          "j": 9,
          "oi": 8,
          "oj": 1,
          "x": 0
         },
         {
          "Label": "A. BILP by rowsum",
          "i": 6,
          "j": 8,
          "oi": 8,
          "oj": 2,
          "x": 0
         },
         {
          "Label": "A. BILP by rowsum",
          "i": 6,
          "j": 7,
          "oi": 8,
          "oj": 3,
          "x": 0
         },
         {
          "Label": "A. BILP by rowsum",
          "i": 6,
          "j": 2,
          "oi": 8,
          "oj": 4,
          "x": 0
         },
         {
          "Label": "A. BILP by rowsum",
          "i": 6,
          "j": 4,
          "oi": 8,
          "oj": 5,
          "x": 0
         },
         {
          "Label": "A. BILP by rowsum",
          "i": 6,
          "j": 5,
          "oi": 8,
          "oj": 6,
          "x": 0
         },
         {
          "Label": "A. BILP by rowsum",
          "i": 6,
          "j": 1,
          "oi": 8,
          "oj": 7,
          "x": 0
         },
         {
          "Label": "A. BILP by rowsum",
          "i": 6,
          "j": 6,
          "oi": 8,
          "oj": 8,
          "x": 1
         },
         {
          "Label": "A. BILP by rowsum",
          "i": 6,
          "j": 0,
          "oi": 8,
          "oj": 9,
          "x": 1
         },
         {
          "Label": "A. BILP by rowsum",
          "i": 0,
          "j": 3,
          "oi": 9,
          "oj": 0,
          "x": 0
         },
         {
          "Label": "A. BILP by rowsum",
          "i": 0,
          "j": 9,
          "oi": 9,
          "oj": 1,
          "x": 0
         },
         {
          "Label": "A. BILP by rowsum",
          "i": 0,
          "j": 8,
          "oi": 9,
          "oj": 2,
          "x": 0
         },
         {
          "Label": "A. BILP by rowsum",
          "i": 0,
          "j": 7,
          "oi": 9,
          "oj": 3,
          "x": 0
         },
         {
          "Label": "A. BILP by rowsum",
          "i": 0,
          "j": 2,
          "oi": 9,
          "oj": 4,
          "x": 0
         },
         {
          "Label": "A. BILP by rowsum",
          "i": 0,
          "j": 4,
          "oi": 9,
          "oj": 5,
          "x": 0
         },
         {
          "Label": "A. BILP by rowsum",
          "i": 0,
          "j": 5,
          "oi": 9,
          "oj": 6,
          "x": 0
         },
         {
          "Label": "A. BILP by rowsum",
          "i": 0,
          "j": 1,
          "oi": 9,
          "oj": 7,
          "x": 0
         },
         {
          "Label": "A. BILP by rowsum",
          "i": 0,
          "j": 6,
          "oi": 9,
          "oj": 8,
          "x": 0
         },
         {
          "Label": "A. BILP by rowsum",
          "i": 0,
          "j": 0,
          "oi": 9,
          "oj": 9,
          "x": 1
         },
         {
          "Label": "B. Ordered by rowsum",
          "i": 3,
          "j": 3,
          "oi": 0,
          "oj": 0,
          "x": 1
         },
         {
          "Label": "B. Ordered by rowsum",
          "i": 3,
          "j": 9,
          "oi": 0,
          "oj": 1,
          "x": 1
         },
         {
          "Label": "B. Ordered by rowsum",
          "i": 3,
          "j": 8,
          "oi": 0,
          "oj": 2,
          "x": 1
         },
         {
          "Label": "B. Ordered by rowsum",
          "i": 3,
          "j": 7,
          "oi": 0,
          "oj": 3,
          "x": 0.7147343884975187
         },
         {
          "Label": "B. Ordered by rowsum",
          "i": 3,
          "j": 2,
          "oi": 0,
          "oj": 4,
          "x": 1
         },
         {
          "Label": "B. Ordered by rowsum",
          "i": 3,
          "j": 4,
          "oi": 0,
          "oj": 5,
          "x": 1
         },
         {
          "Label": "B. Ordered by rowsum",
          "i": 3,
          "j": 5,
          "oi": 0,
          "oj": 6,
          "x": 1
         },
         {
          "Label": "B. Ordered by rowsum",
          "i": 3,
          "j": 1,
          "oi": 0,
          "oj": 7,
          "x": 1
         },
         {
          "Label": "B. Ordered by rowsum",
          "i": 3,
          "j": 6,
          "oi": 0,
          "oj": 8,
          "x": 1
         },
         {
          "Label": "B. Ordered by rowsum",
          "i": 3,
          "j": 0,
          "oi": 0,
          "oj": 9,
          "x": 1
         },
         {
          "Label": "B. Ordered by rowsum",
          "i": 9,
          "j": 3,
          "oi": 1,
          "oj": 0,
          "x": 0
         },
         {
          "Label": "B. Ordered by rowsum",
          "i": 9,
          "j": 9,
          "oi": 1,
          "oj": 1,
          "x": 1
         },
         {
          "Label": "B. Ordered by rowsum",
          "i": 9,
          "j": 8,
          "oi": 1,
          "oj": 2,
          "x": 0.69007816406111
         },
         {
          "Label": "B. Ordered by rowsum",
          "i": 9,
          "j": 7,
          "oi": 1,
          "oj": 3,
          "x": 0.6116426967232325
         },
         {
          "Label": "B. Ordered by rowsum",
          "i": 9,
          "j": 2,
          "oi": 1,
          "oj": 4,
          "x": 1
         },
         {
          "Label": "B. Ordered by rowsum",
          "i": 9,
          "j": 4,
          "oi": 1,
          "oj": 5,
          "x": 1
         },
         {
          "Label": "B. Ordered by rowsum",
          "i": 9,
          "j": 5,
          "oi": 1,
          "oj": 6,
          "x": 1
         },
         {
          "Label": "B. Ordered by rowsum",
          "i": 9,
          "j": 1,
          "oi": 1,
          "oj": 7,
          "x": 1
         },
         {
          "Label": "B. Ordered by rowsum",
          "i": 9,
          "j": 6,
          "oi": 1,
          "oj": 8,
          "x": 1
         },
         {
          "Label": "B. Ordered by rowsum",
          "i": 9,
          "j": 0,
          "oi": 1,
          "oj": 9,
          "x": 1
         },
         {
          "Label": "B. Ordered by rowsum",
          "i": 8,
          "j": 3,
          "oi": 2,
          "oj": 0,
          "x": 0
         },
         {
          "Label": "B. Ordered by rowsum",
          "i": 8,
          "j": 9,
          "oi": 2,
          "oj": 1,
          "x": 0.30992183593889
         },
         {
          "Label": "B. Ordered by rowsum",
          "i": 8,
          "j": 8,
          "oi": 2,
          "oj": 2,
          "x": 1
         },
         {
          "Label": "B. Ordered by rowsum",
          "i": 8,
          "j": 7,
          "oi": 2,
          "oj": 3,
          "x": 0.5956352311825264
         },
         {
          "Label": "B. Ordered by rowsum",
          "i": 8,
          "j": 2,
          "oi": 2,
          "oj": 4,
          "x": 1
         },
         {
          "Label": "B. Ordered by rowsum",
          "i": 8,
          "j": 4,
          "oi": 2,
          "oj": 5,
          "x": 0.7535995742767357
         },
         {
          "Label": "B. Ordered by rowsum",
          "i": 8,
          "j": 5,
          "oi": 2,
          "oj": 6,
          "x": 1
         },
         {
          "Label": "B. Ordered by rowsum",
          "i": 8,
          "j": 1,
          "oi": 2,
          "oj": 7,
          "x": 1
         },
         {
          "Label": "B. Ordered by rowsum",
          "i": 8,
          "j": 6,
          "oi": 2,
          "oj": 8,
          "x": 1
         },
         {
          "Label": "B. Ordered by rowsum",
          "i": 8,
          "j": 0,
          "oi": 2,
          "oj": 9,
          "x": 1
         },
         {
          "Label": "B. Ordered by rowsum",
          "i": 7,
          "j": 3,
          "oi": 3,
          "oj": 0,
          "x": 0.2852656115024813
         },
         {
          "Label": "B. Ordered by rowsum",
          "i": 7,
          "j": 9,
          "oi": 3,
          "oj": 1,
          "x": 0.3883573032767676
         },
         {
          "Label": "B. Ordered by rowsum",
          "i": 7,
          "j": 8,
          "oi": 3,
          "oj": 2,
          "x": 0.40436476881747363
         },
         {
          "Label": "B. Ordered by rowsum",
          "i": 7,
          "j": 7,
          "oi": 3,
          "oj": 3,
          "x": 1
         },
         {
          "Label": "B. Ordered by rowsum",
          "i": 7,
          "j": 2,
          "oi": 3,
          "oj": 4,
          "x": 0.6923659129478685
         },
         {
          "Label": "B. Ordered by rowsum",
          "i": 7,
          "j": 4,
          "oi": 3,
          "oj": 5,
          "x": 0.7666974358735589
         },
         {
          "Label": "B. Ordered by rowsum",
          "i": 7,
          "j": 5,
          "oi": 3,
          "oj": 6,
          "x": 1
         },
         {
          "Label": "B. Ordered by rowsum",
          "i": 7,
          "j": 1,
          "oi": 3,
          "oj": 7,
          "x": 1
         },
         {
          "Label": "B. Ordered by rowsum",
          "i": 7,
          "j": 6,
          "oi": 3,
          "oj": 8,
          "x": 1
         },
         {
          "Label": "B. Ordered by rowsum",
          "i": 7,
          "j": 0,
          "oi": 3,
          "oj": 9,
          "x": 1
         },
         {
          "Label": "B. Ordered by rowsum",
          "i": 2,
          "j": 3,
          "oi": 4,
          "oj": 0,
          "x": 0
         },
         {
          "Label": "B. Ordered by rowsum",
          "i": 2,
          "j": 9,
          "oi": 4,
          "oj": 1,
          "x": 0
         },
         {
          "Label": "B. Ordered by rowsum",
          "i": 2,
          "j": 8,
          "oi": 4,
          "oj": 2,
          "x": 0
         },
         {
          "Label": "B. Ordered by rowsum",
          "i": 2,
          "j": 7,
          "oi": 4,
          "oj": 3,
          "x": 0.3076340870521315
         },
         {
          "Label": "B. Ordered by rowsum",
          "i": 2,
          "j": 2,
          "oi": 4,
          "oj": 4,
          "x": 1
         },
         {
          "Label": "B. Ordered by rowsum",
          "i": 2,
          "j": 4,
          "oi": 4,
          "oj": 5,
          "x": 0.5382281544523403
         },
         {
          "Label": "B. Ordered by rowsum",
          "i": 2,
          "j": 5,
          "oi": 4,
          "oj": 6,
          "x": 1
         },
         {
          "Label": "B. Ordered by rowsum",
          "i": 2,
          "j": 1,
          "oi": 4,
          "oj": 7,
          "x": 1
         },
         {
          "Label": "B. Ordered by rowsum",
          "i": 2,
          "j": 6,
          "oi": 4,
          "oj": 8,
          "x": 1
         },
         {
          "Label": "B. Ordered by rowsum",
          "i": 2,
          "j": 0,
          "oi": 4,
          "oj": 9,
          "x": 1
         },
         {
          "Label": "B. Ordered by rowsum",
          "i": 4,
          "j": 3,
          "oi": 5,
          "oj": 0,
          "x": 0
         },
         {
          "Label": "B. Ordered by rowsum",
          "i": 4,
          "j": 9,
          "oi": 5,
          "oj": 1,
          "x": 0
         },
         {
          "Label": "B. Ordered by rowsum",
          "i": 4,
          "j": 8,
          "oi": 5,
          "oj": 2,
          "x": 0.24640042572326426
         },
         {
          "Label": "B. Ordered by rowsum",
          "i": 4,
          "j": 7,
          "oi": 5,
          "oj": 3,
          "x": 0.23330256412644115
         },
         {
          "Label": "B. Ordered by rowsum",
          "i": 4,
          "j": 2,
          "oi": 5,
          "oj": 4,
          "x": 0.4617718455476597
         },
         {
          "Label": "B. Ordered by rowsum",
          "i": 4,
          "j": 4,
          "oi": 5,
          "oj": 5,
          "x": 1
         },
         {
          "Label": "B. Ordered by rowsum",
          "i": 4,
          "j": 5,
          "oi": 5,
          "oj": 6,
          "x": 0.5292886393286692
         },
         {
          "Label": "B. Ordered by rowsum",
          "i": 4,
          "j": 1,
          "oi": 5,
          "oj": 7,
          "x": 0.7538687082948545
         },
         {
          "Label": "B. Ordered by rowsum",
          "i": 4,
          "j": 6,
          "oi": 5,
          "oj": 8,
          "x": 1
         },
         {
          "Label": "B. Ordered by rowsum",
          "i": 4,
          "j": 0,
          "oi": 5,
          "oj": 9,
          "x": 1
         },
         {
          "Label": "B. Ordered by rowsum",
          "i": 5,
          "j": 3,
          "oi": 6,
          "oj": 0,
          "x": 0
         },
         {
          "Label": "B. Ordered by rowsum",
          "i": 5,
          "j": 9,
          "oi": 6,
          "oj": 1,
          "x": 0
         },
         {
          "Label": "B. Ordered by rowsum",
          "i": 5,
          "j": 8,
          "oi": 6,
          "oj": 2,
          "x": 0
         },
         {
          "Label": "B. Ordered by rowsum",
          "i": 5,
          "j": 7,
          "oi": 6,
          "oj": 3,
          "x": 0
         },
         {
          "Label": "B. Ordered by rowsum",
          "i": 5,
          "j": 2,
          "oi": 6,
          "oj": 4,
          "x": 0
         },
         {
          "Label": "B. Ordered by rowsum",
          "i": 5,
          "j": 4,
          "oi": 6,
          "oj": 5,
          "x": 0.4707113606713308
         },
         {
          "Label": "B. Ordered by rowsum",
          "i": 5,
          "j": 5,
          "oi": 6,
          "oj": 6,
          "x": 1
         },
         {
          "Label": "B. Ordered by rowsum",
          "i": 5,
          "j": 1,
          "oi": 6,
          "oj": 7,
          "x": 1
         },
         {
          "Label": "B. Ordered by rowsum",
          "i": 5,
          "j": 6,
          "oi": 6,
          "oj": 8,
          "x": 1
         },
         {
          "Label": "B. Ordered by rowsum",
          "i": 5,
          "j": 0,
          "oi": 6,
          "oj": 9,
          "x": 1
         },
         {
          "Label": "B. Ordered by rowsum",
          "i": 1,
          "j": 3,
          "oi": 7,
          "oj": 0,
          "x": 0
         },
         {
          "Label": "B. Ordered by rowsum",
          "i": 1,
          "j": 9,
          "oi": 7,
          "oj": 1,
          "x": 0
         },
         {
          "Label": "B. Ordered by rowsum",
          "i": 1,
          "j": 8,
          "oi": 7,
          "oj": 2,
          "x": 0
         },
         {
          "Label": "B. Ordered by rowsum",
          "i": 1,
          "j": 7,
          "oi": 7,
          "oj": 3,
          "x": 0
         },
         {
          "Label": "B. Ordered by rowsum",
          "i": 1,
          "j": 2,
          "oi": 7,
          "oj": 4,
          "x": 0
         },
         {
          "Label": "B. Ordered by rowsum",
          "i": 1,
          "j": 4,
          "oi": 7,
          "oj": 5,
          "x": 0.24613129170514553
         },
         {
          "Label": "B. Ordered by rowsum",
          "i": 1,
          "j": 5,
          "oi": 7,
          "oj": 6,
          "x": 0
         },
         {
          "Label": "B. Ordered by rowsum",
          "i": 1,
          "j": 1,
          "oi": 7,
          "oj": 7,
          "x": 1
         },
         {
          "Label": "B. Ordered by rowsum",
          "i": 1,
          "j": 6,
          "oi": 7,
          "oj": 8,
          "x": 1
         },
         {
          "Label": "B. Ordered by rowsum",
          "i": 1,
          "j": 0,
          "oi": 7,
          "oj": 9,
          "x": 1
         },
         {
          "Label": "B. Ordered by rowsum",
          "i": 6,
          "j": 3,
          "oi": 8,
          "oj": 0,
          "x": 0
         },
         {
          "Label": "B. Ordered by rowsum",
          "i": 6,
          "j": 9,
          "oi": 8,
          "oj": 1,
          "x": 0
         },
         {
          "Label": "B. Ordered by rowsum",
          "i": 6,
          "j": 8,
          "oi": 8,
          "oj": 2,
          "x": 0
         },
         {
          "Label": "B. Ordered by rowsum",
          "i": 6,
          "j": 7,
          "oi": 8,
          "oj": 3,
          "x": 0
         },
         {
          "Label": "B. Ordered by rowsum",
          "i": 6,
          "j": 2,
          "oi": 8,
          "oj": 4,
          "x": 0
         },
         {
          "Label": "B. Ordered by rowsum",
          "i": 6,
          "j": 4,
          "oi": 8,
          "oj": 5,
          "x": 0
         },
         {
          "Label": "B. Ordered by rowsum",
          "i": 6,
          "j": 5,
          "oi": 8,
          "oj": 6,
          "x": 0
         },
         {
          "Label": "B. Ordered by rowsum",
          "i": 6,
          "j": 1,
          "oi": 8,
          "oj": 7,
          "x": 0
         },
         {
          "Label": "B. Ordered by rowsum",
          "i": 6,
          "j": 6,
          "oi": 8,
          "oj": 8,
          "x": 1
         },
         {
          "Label": "B. Ordered by rowsum",
          "i": 6,
          "j": 0,
          "oi": 8,
          "oj": 9,
          "x": 1
         },
         {
          "Label": "B. Ordered by rowsum",
          "i": 0,
          "j": 3,
          "oi": 9,
          "oj": 0,
          "x": 0
         },
         {
          "Label": "B. Ordered by rowsum",
          "i": 0,
          "j": 9,
          "oi": 9,
          "oj": 1,
          "x": 0
         },
         {
          "Label": "B. Ordered by rowsum",
          "i": 0,
          "j": 8,
          "oi": 9,
          "oj": 2,
          "x": 0
         },
         {
          "Label": "B. Ordered by rowsum",
          "i": 0,
          "j": 7,
          "oi": 9,
          "oj": 3,
          "x": 0
         },
         {
          "Label": "B. Ordered by rowsum",
          "i": 0,
          "j": 2,
          "oi": 9,
          "oj": 4,
          "x": 0
         },
         {
          "Label": "B. Ordered by rowsum",
          "i": 0,
          "j": 4,
          "oi": 9,
          "oj": 5,
          "x": 0
         },
         {
          "Label": "B. Ordered by rowsum",
          "i": 0,
          "j": 5,
          "oi": 9,
          "oj": 6,
          "x": 0
         },
         {
          "Label": "B. Ordered by rowsum",
          "i": 0,
          "j": 1,
          "oi": 9,
          "oj": 7,
          "x": 0
         },
         {
          "Label": "B. Ordered by rowsum",
          "i": 0,
          "j": 6,
          "oi": 9,
          "oj": 8,
          "x": 0
         },
         {
          "Label": "B. Ordered by rowsum",
          "i": 0,
          "j": 0,
          "oi": 9,
          "oj": 9,
          "x": 1
         }
        ]
       },
       "facet": {
        "column": {
         "field": "Label",
         "title": null,
         "type": "nominal"
        }
       },
       "resolve": {
        "scale": {
         "x": "independent",
         "y": "independent"
        }
       },
       "spec": {
        "encoding": {
         "color": {
          "field": "x",
          "scale": {
           "scheme": "greys"
          },
          "type": "quantitative"
         },
         "x": {
          "axis": {
           "labelOverlap": "parity"
          },
          "field": "i",
          "sort": {
           "field": "oi",
           "order": "ascending"
          },
          "title": "r",
          "type": "nominal"
         },
         "y": {
          "axis": {
           "labelOverlap": "parity"
          },
          "field": "j",
          "sort": {
           "field": "oj",
           "order": "ascending"
          },
          "title": "r",
          "type": "nominal"
         }
        },
        "height": 180,
        "mark": "square",
        "width": 180
       }
      },
      "image/png": "[encoded data removed]",
      "text/plain": [
       "<VegaLite 3 object>\n",
       "\n",
       "If you see this message, it means the renderer has not been properly enabled\n",
       "for the frontend that you are using. For more information, see\n",
       "https://altair-viz.github.io/user_guide/troubleshooting.html\n"
      ]
     },
     "execution_count": 56,
     "metadata": {},
     "output_type": "execute_result"
    }
   ],
   "source": [
    "import altair as alt\n",
    "alt.data_transformers.disable_max_rows()\n",
    "\n",
    "all_df = pd.DataFrame(columns=[\"i\",\"j\",\"x\",\"Label\",\"oi\",\"oj\"])\n",
    "for ix,Xstar in enumerate(Xstars):\n",
    "    x = pd.DataFrame(Xstar)\n",
    "    df = x.stack().reset_index()\n",
    "    df.columns=[\"i\",\"j\",\"x\"]\n",
    "    df[\"oi\"] = df[\"i\"].copy()\n",
    "    df[\"oj\"] = df[\"j\"].copy()\n",
    "    df[\"i\"] = record_ixs[ix][df[\"i\"]]\n",
    "    df[\"j\"] = record_ixs[ix][df[\"j\"]]\n",
    "    df[\"Label\"] = labels[ix]\n",
    "    all_df = all_df.append(df)\n",
    "\n",
    "#all_df = all_df.loc[(all_df.x != 0) & (all_df.x != 1)]\n",
    "alt.Chart(all_df).mark_square().encode(\n",
    "    x=alt.X(\n",
    "        'i:N',\n",
    "        axis=alt.Axis(labelOverlap=\"parity\"),\n",
    "        title=\"r\",\n",
    "        sort=alt.EncodingSortField(field=\"oi\",order=\"ascending\") # The order to sort in\n",
    "    ),\n",
    "    y=alt.Y(\n",
    "        'j:N',\n",
    "        axis=alt.Axis(labelOverlap=\"parity\"),\n",
    "        title=\"r\",\n",
    "        sort=alt.EncodingSortField(field=\"oj\",order=\"ascending\") # The order to sort in\n",
    "    ),\n",
    "    color=alt.Color(\"x\",scale=alt.Scale(scheme='greys'))\n",
    ").properties(\n",
    "    width=180,\n",
    "    height=180\n",
    ").facet(\n",
    "    column=alt.Column(\"Label:N\", title=None)\n",
    ").resolve_scale(x='independent',y='independent')"
   ]
  },
  {
   "cell_type": "code",
   "execution_count": 99,
   "metadata": {},
   "outputs": [],
   "source": [
    "k_exhaustive,details_exhaustive = pyrankability.lop.objective_count_exhaustive(D.unstack().fillna(0).values,details['x'])"
   ]
  },
  {
   "cell_type": "code",
   "execution_count": 100,
   "metadata": {},
   "outputs": [
    {
     "data": {
      "text/plain": [
       "(43.00000000000276, 43.0, 50)"
      ]
     },
     "execution_count": 100,
     "metadata": {},
     "output_type": "execute_result"
    }
   ],
   "source": [
    "k,k_exhaustive,len(details_exhaustive['P'])"
   ]
  },
  {
   "cell_type": "code",
   "execution_count": 115,
   "metadata": {},
   "outputs": [
    {
     "name": "stdout",
     "output_type": "stream",
     "text": [
      "Going to loop for 128.0\n"
     ]
    }
   ],
   "source": [
    "P,info = pyrankability.lop.find_P_from_x(D.unstack().fillna(0).values,k,details)"
   ]
  },
  {
   "cell_type": "code",
   "execution_count": 116,
   "metadata": {},
   "outputs": [
    {
     "data": {
      "text/plain": [
       "50"
      ]
     },
     "execution_count": 116,
     "metadata": {},
     "output_type": "execute_result"
    }
   ],
   "source": [
    "len(P)"
   ]
  },
  {
   "cell_type": "code",
   "execution_count": 117,
   "metadata": {},
   "outputs": [
    {
     "data": {
      "text/plain": [
       "515"
      ]
     },
     "execution_count": 117,
     "metadata": {},
     "output_type": "execute_result"
    }
   ],
   "source": [
    "info['num_removed']"
   ]
  },
  {
   "cell_type": "code",
   "execution_count": 94,
   "metadata": {},
   "outputs": [
    {
     "data": {
      "text/plain": [
       "3628800"
      ]
     },
     "execution_count": 94,
     "metadata": {},
     "output_type": "execute_result"
    }
   ],
   "source": [
    "len(set(details_exhaustive['P'])-set([tuple(Pspec) for Pspec in P]))+len(P)"
   ]
  },
  {
   "cell_type": "code",
   "execution_count": 91,
   "metadata": {},
   "outputs": [
    {
     "data": {
      "text/plain": [
       "[0, 6, 1, 2, 5, 8, 4, 3, 9, 7]"
      ]
     },
     "execution_count": 91,
     "metadata": {},
     "output_type": "execute_result"
    }
   ],
   "source": []
  },
  {
   "cell_type": "code",
   "execution_count": 92,
   "metadata": {},
   "outputs": [
    {
     "data": {
      "text/plain": [
       "(0, 1, 2, 3, 4, 5, 6, 7, 8, 9)"
      ]
     },
     "execution_count": 92,
     "metadata": {},
     "output_type": "execute_result"
    }
   ],
   "source": [
    "details_exhaustive['P'][0]"
   ]
  },
  {
   "cell_type": "code",
   "execution_count": null,
   "metadata": {},
   "outputs": [],
   "source": []
  }
 ],
 "metadata": {
  "kernelspec": {
   "display_name": "Python 3",
   "language": "python",
   "name": "python3"
  },
  "language_info": {
   "codemirror_mode": {
    "name": "ipython",
    "version": 3
   },
   "file_extension": ".py",
   "mimetype": "text/x-python",
   "name": "python",
   "nbconvert_exporter": "python",
   "pygments_lexer": "ipython3",
   "version": "3.6.8"
  }
 },
 "nbformat": 4,
 "nbformat_minor": 4
}
