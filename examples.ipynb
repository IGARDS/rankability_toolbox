{
 "cells": [
  {
   "cell_type": "markdown",
   "metadata": {},
   "source": [
    "# Examples of the pyrankability package"
   ]
  },
  {
   "cell_type": "code",
   "execution_count": 1,
   "metadata": {},
   "outputs": [],
   "source": [
    "%load_ext autoreload\n",
    "%autoreload 2"
   ]
  },
  {
   "cell_type": "code",
   "execution_count": 2,
   "metadata": {},
   "outputs": [],
   "source": [
    "from IPython.core.display import display, HTML\n",
    "import pandas as pd\n",
    "import numpy as np\n",
    "import copy\n",
    "import os"
   ]
  },
  {
   "cell_type": "code",
   "execution_count": 3,
   "metadata": {},
   "outputs": [],
   "source": [
    "import sys\n",
    "sys.path.insert(0,\".\")"
   ]
  },
  {
   "cell_type": "code",
   "execution_count": 4,
   "metadata": {},
   "outputs": [],
   "source": [
    "import pyrankability"
   ]
  },
  {
   "cell_type": "markdown",
   "metadata": {},
   "source": [
    "## Simple examples"
   ]
  },
  {
   "cell_type": "code",
   "execution_count": 5,
   "metadata": {},
   "outputs": [
    {
     "data": {
      "text/plain": [
       "array([[0., 1., 1., 1., 1., 1., 1., 1.],\n",
       "       [0., 0., 1., 1., 1., 1., 1., 1.],\n",
       "       [0., 0., 0., 1., 1., 1., 1., 1.],\n",
       "       [1., 1., 1., 1., 0., 0., 0., 0.],\n",
       "       [0., 0., 0., 0., 0., 1., 1., 1.],\n",
       "       [1., 1., 1., 1., 1., 1., 0., 0.],\n",
       "       [0., 0., 0., 0., 0., 0., 0., 1.],\n",
       "       [1., 1., 1., 1., 1., 1., 1., 1.]])"
      ]
     },
     "execution_count": 5,
     "metadata": {},
     "output_type": "execute_result"
    }
   ],
   "source": [
    "n=8\n",
    "D=np.zeros((n,n))\n",
    "D[np.triu_indices(n,1)]=1\n",
    "D[[5,3,7]] = 1-D[[5,3,7]]\n",
    "D"
   ]
  },
  {
   "cell_type": "markdown",
   "metadata": {},
   "source": [
    "### Hillside"
   ]
  },
  {
   "cell_type": "code",
   "execution_count": 6,
   "metadata": {},
   "outputs": [
    {
     "name": "stdout",
     "output_type": "stream",
     "text": [
      "Academic license - for non-commercial use only\n"
     ]
    },
    {
     "data": {
      "text/plain": [
       "54"
      ]
     },
     "execution_count": 6,
     "metadata": {},
     "output_type": "execute_result"
    }
   ],
   "source": [
    "k_hillside,details_hillside = pyrankability.hillside.bilp(D)\n",
    "k_hillside"
   ]
  },
  {
   "cell_type": "code",
   "execution_count": 7,
   "metadata": {},
   "outputs": [
    {
     "data": {
      "text/plain": [
       "[(0, 7, 1, 5, 2, 4, 3, 6)]"
      ]
     },
     "execution_count": 7,
     "metadata": {},
     "output_type": "execute_result"
    }
   ],
   "source": [
    "details_hillside['P']"
   ]
  },
  {
   "cell_type": "markdown",
   "metadata": {},
   "source": [
    "### LOP"
   ]
  },
  {
   "cell_type": "code",
   "execution_count": 8,
   "metadata": {},
   "outputs": [
    {
     "data": {
      "text/plain": [
       "25.0"
      ]
     },
     "execution_count": 8,
     "metadata": {},
     "output_type": "execute_result"
    }
   ],
   "source": [
    "k_lop,details_lop = pyrankability.lop.bilp(D)\n",
    "k_lop"
   ]
  },
  {
   "cell_type": "code",
   "execution_count": 9,
   "metadata": {},
   "outputs": [
    {
     "data": {
      "text/plain": [
       "[(7, 0, 1, 2, 4, 6, 5, 3)]"
      ]
     },
     "execution_count": 9,
     "metadata": {},
     "output_type": "execute_result"
    }
   ],
   "source": [
    "details_lop['P']"
   ]
  },
  {
   "cell_type": "markdown",
   "metadata": {},
   "source": [
    "### Multiple solutions with random restarts"
   ]
  },
  {
   "cell_type": "code",
   "execution_count": 10,
   "metadata": {},
   "outputs": [
    {
     "name": "stdout",
     "output_type": "stream",
     "text": [
      "Read MPS format model from file /tmp/tmpu_k_wd2v/model.mps\n",
      "Reading time = 0.00 seconds\n",
      "lop: 400 rows, 64 columns, 1128 nonzeros\n",
      "Read MPS format model from file /tmp/tmpu_k_wd2v/model.mps\n",
      "Reading time = 0.00 seconds\n",
      "lop: 400 rows, 64 columns, 1128 nonzeros\n",
      "Read MPS format model from file /tmp/tmpu_k_wd2v/model.mps\n",
      "Reading time = 0.00 seconds\n",
      "lop: 400 rows, 64 columns, 1128 nonzeros\n",
      "Read MPS format model from file /tmp/tmpu_k_wd2v/model.mps\n",
      "Reading time = 0.00 seconds\n",
      "lop: 400 rows, 64 columns, 1128 nonzeros\n",
      "Read MPS format model from file /tmp/tmpu_k_wd2v/model.mps\n",
      "Reading time = 0.00 seconds\n",
      "lop: 400 rows, 64 columns, 1128 nonzeros\n",
      "Read MPS format model from file /tmp/tmpu_k_wd2v/model.mps\n",
      "Reading time = 0.00 seconds\n",
      "lop: 400 rows, 64 columns, 1128 nonzeros\n",
      "Read MPS format model from file /tmp/tmpu_k_wd2v/model.mps\n",
      "Reading time = 0.00 seconds\n",
      "lop: 400 rows, 64 columns, 1128 nonzeros\n",
      "Read MPS format model from file /tmp/tmpu_k_wd2v/model.mps\n",
      "Reading time = 0.00 seconds\n",
      "lop: 400 rows, 64 columns, 1128 nonzeros\n",
      "Read MPS format model from file /tmp/tmpu_k_wd2v/model.mps\n",
      "Reading time = 0.00 seconds\n",
      "lop: 400 rows, 64 columns, 1128 nonzeros\n",
      "Read MPS format model from file /tmp/tmpu_k_wd2v/model.mps\n",
      "Reading time = 0.00 seconds\n",
      "lop: 400 rows, 64 columns, 1128 nonzeros\n"
     ]
    },
    {
     "data": {
      "text/plain": [
       "54"
      ]
     },
     "execution_count": 10,
     "metadata": {},
     "output_type": "execute_result"
    }
   ],
   "source": [
    "k_hillside_10,details_hillside_10 = pyrankability.hillside.bilp(D,num_random_restarts=10)\n",
    "k_hillside_10"
   ]
  },
  {
   "cell_type": "code",
   "execution_count": 11,
   "metadata": {},
   "outputs": [
    {
     "data": {
      "text/plain": [
       "[(0, 7, 1, 5, 2, 4, 3, 6),\n",
       " (0, 7, 1, 2, 5, 3, 4, 6),\n",
       " (0, 1, 7, 5, 2, 4, 3, 6),\n",
       " (0, 7, 1, 5, 2, 4, 3, 6),\n",
       " (0, 1, 7, 5, 2, 3, 4, 6),\n",
       " (0, 7, 1, 5, 2, 4, 3, 6),\n",
       " (0, 7, 1, 5, 2, 4, 3, 6),\n",
       " (0, 7, 1, 5, 2, 4, 3, 6),\n",
       " (0, 1, 7, 5, 2, 3, 4, 6),\n",
       " (0, 7, 1, 2, 5, 4, 3, 6),\n",
       " (0, 7, 1, 5, 2, 3, 4, 6)]"
      ]
     },
     "execution_count": 11,
     "metadata": {},
     "output_type": "execute_result"
    }
   ],
   "source": [
    "details_hillside_10['P']"
   ]
  },
  {
   "cell_type": "code",
   "execution_count": 12,
   "metadata": {},
   "outputs": [
    {
     "name": "stdout",
     "output_type": "stream",
     "text": [
      "Read MPS format model from file /tmp/tmpg1mfei2o/model.mps\n",
      "Reading time = 0.00 seconds\n",
      "lop: 400 rows, 64 columns, 1128 nonzeros\n",
      "Read MPS format model from file /tmp/tmpg1mfei2o/model.mps\n",
      "Reading time = 0.00 seconds\n",
      "lop: 400 rows, 64 columns, 1128 nonzeros\n",
      "Read MPS format model from file /tmp/tmpg1mfei2o/model.mps\n",
      "Reading time = 0.00 seconds\n",
      "lop: 400 rows, 64 columns, 1128 nonzeros\n",
      "Read MPS format model from file /tmp/tmpg1mfei2o/model.mps\n",
      "Reading time = 0.00 seconds\n",
      "lop: 400 rows, 64 columns, 1128 nonzeros\n",
      "Read MPS format model from file /tmp/tmpg1mfei2o/model.mps\n",
      "Reading time = 0.00 seconds\n",
      "lop: 400 rows, 64 columns, 1128 nonzeros\n",
      "Read MPS format model from file /tmp/tmpg1mfei2o/model.mps\n",
      "Reading time = 0.00 seconds\n",
      "lop: 400 rows, 64 columns, 1128 nonzeros\n",
      "Read MPS format model from file /tmp/tmpg1mfei2o/model.mps\n",
      "Reading time = 0.00 seconds\n",
      "lop: 400 rows, 64 columns, 1128 nonzeros\n",
      "Read MPS format model from file /tmp/tmpg1mfei2o/model.mps\n",
      "Reading time = 0.00 seconds\n",
      "lop: 400 rows, 64 columns, 1128 nonzeros\n",
      "Read MPS format model from file /tmp/tmpg1mfei2o/model.mps\n",
      "Reading time = 0.00 seconds\n",
      "lop: 400 rows, 64 columns, 1128 nonzeros\n",
      "Read MPS format model from file /tmp/tmpg1mfei2o/model.mps\n",
      "Reading time = 0.00 seconds\n",
      "lop: 400 rows, 64 columns, 1128 nonzeros\n"
     ]
    },
    {
     "data": {
      "text/plain": [
       "25.0"
      ]
     },
     "execution_count": 12,
     "metadata": {},
     "output_type": "execute_result"
    }
   ],
   "source": [
    "k_lop_10,details_lop_10 = pyrankability.lop.bilp(D,num_random_restarts=10)\n",
    "k_lop_10"
   ]
  },
  {
   "cell_type": "code",
   "execution_count": 13,
   "metadata": {},
   "outputs": [
    {
     "data": {
      "text/plain": [
       "[(7, 0, 1, 2, 4, 6, 5, 3),\n",
       " (0, 7, 1, 2, 5, 4, 3, 6),\n",
       " (0, 7, 1, 5, 2, 4, 3, 6),\n",
       " (0, 7, 1, 5, 2, 4, 3, 6),\n",
       " (0, 7, 1, 5, 2, 4, 3, 6),\n",
       " (0, 7, 1, 2, 5, 4, 3, 6),\n",
       " (0, 7, 1, 2, 5, 4, 3, 6),\n",
       " (0, 7, 1, 2, 5, 4, 3, 6),\n",
       " (0, 7, 1, 2, 5, 4, 3, 6),\n",
       " (0, 7, 1, 5, 2, 4, 3, 6),\n",
       " (0, 7, 1, 2, 5, 4, 3, 6)]"
      ]
     },
     "execution_count": 13,
     "metadata": {},
     "output_type": "execute_result"
    }
   ],
   "source": [
    "details_lop_10['P']"
   ]
  },
  {
   "cell_type": "markdown",
   "metadata": {},
   "source": [
    "### Multiple solutions with pairs"
   ]
  },
  {
   "cell_type": "code",
   "execution_count": 14,
   "metadata": {},
   "outputs": [
    {
     "name": "stdout",
     "output_type": "stream",
     "text": [
      "Read MPS format model from file /tmp/tmpmxadv2v_/model.mps\n",
      "Reading time = 0.00 seconds\n",
      "lop: 400 rows, 64 columns, 1128 nonzeros\n",
      "Read MPS format model from file /tmp/tmpmxadv2v_/model.mps\n",
      "Reading time = 0.00 seconds\n",
      "lop: 400 rows, 64 columns, 1128 nonzeros\n",
      "Read MPS format model from file /tmp/tmpmxadv2v_/model.mps\n",
      "Reading time = 0.00 seconds\n",
      "lop: 400 rows, 64 columns, 1128 nonzeros\n",
      "Read MPS format model from file /tmp/tmpmxadv2v_/model.mps\n",
      "Reading time = 0.00 seconds\n",
      "lop: 400 rows, 64 columns, 1128 nonzeros\n",
      "Read MPS format model from file /tmp/tmpmxadv2v_/model.mps\n",
      "Reading time = 0.00 seconds\n",
      "lop: 400 rows, 64 columns, 1128 nonzeros\n",
      "Read MPS format model from file /tmp/tmpmxadv2v_/model.mps\n",
      "Reading time = 0.00 seconds\n",
      "lop: 400 rows, 64 columns, 1128 nonzeros\n",
      "Read MPS format model from file /tmp/tmpmxadv2v_/model.mps\n",
      "Reading time = 0.00 seconds\n",
      "lop: 400 rows, 64 columns, 1128 nonzeros\n",
      "Read MPS format model from file /tmp/tmpmxadv2v_/model.mps\n",
      "Reading time = 0.00 seconds\n",
      "lop: 400 rows, 64 columns, 1128 nonzeros\n",
      "Read MPS format model from file /tmp/tmpmxadv2v_/model.mps\n",
      "Reading time = 0.00 seconds\n",
      "lop: 400 rows, 64 columns, 1128 nonzeros\n",
      "Read MPS format model from file /tmp/tmpmxadv2v_/model.mps\n",
      "Reading time = 0.00 seconds\n",
      "lop: 400 rows, 64 columns, 1128 nonzeros\n",
      "Read MPS format model from file /tmp/tmpmxadv2v_/model.mps\n",
      "Reading time = 0.00 seconds\n",
      "lop: 400 rows, 64 columns, 1128 nonzeros\n",
      "Read MPS format model from file /tmp/tmpmxadv2v_/model.mps\n",
      "Reading time = 0.00 seconds\n",
      "lop: 400 rows, 64 columns, 1128 nonzeros\n",
      "Read MPS format model from file /tmp/tmpmxadv2v_/model.mps\n",
      "Reading time = 0.00 seconds\n",
      "lop: 400 rows, 64 columns, 1128 nonzeros\n",
      "Read MPS format model from file /tmp/tmpmxadv2v_/model.mps\n",
      "Reading time = 0.00 seconds\n",
      "lop: 400 rows, 64 columns, 1128 nonzeros\n",
      "Read MPS format model from file /tmp/tmpmxadv2v_/model.mps\n",
      "Reading time = 0.00 seconds\n",
      "lop: 400 rows, 64 columns, 1128 nonzeros\n",
      "Read MPS format model from file /tmp/tmpmxadv2v_/model.mps\n",
      "Reading time = 0.00 seconds\n",
      "lop: 400 rows, 64 columns, 1128 nonzeros\n",
      "Read MPS format model from file /tmp/tmpmxadv2v_/model.mps\n",
      "Reading time = 0.00 seconds\n",
      "lop: 400 rows, 64 columns, 1128 nonzeros\n",
      "Read MPS format model from file /tmp/tmpmxadv2v_/model.mps\n",
      "Reading time = 0.00 seconds\n",
      "lop: 400 rows, 64 columns, 1128 nonzeros\n",
      "Read MPS format model from file /tmp/tmpmxadv2v_/model.mps\n",
      "Reading time = 0.00 seconds\n",
      "lop: 400 rows, 64 columns, 1128 nonzeros\n",
      "Read MPS format model from file /tmp/tmpmxadv2v_/model.mps\n",
      "Reading time = 0.00 seconds\n",
      "lop: 400 rows, 64 columns, 1128 nonzeros\n",
      "Read MPS format model from file /tmp/tmpmxadv2v_/model.mps\n",
      "Reading time = 0.00 seconds\n",
      "lop: 400 rows, 64 columns, 1128 nonzeros\n"
     ]
    },
    {
     "data": {
      "text/plain": [
       "54.0"
      ]
     },
     "execution_count": 14,
     "metadata": {},
     "output_type": "execute_result"
    }
   ],
   "source": [
    "k_hillside_10_paired,details_hillside_10_paired = pyrankability.hillside.bilp(D,num_random_restarts=10,find_pair=True)\n",
    "k_hillside_10_paired"
   ]
  },
  {
   "cell_type": "code",
   "execution_count": 15,
   "metadata": {},
   "outputs": [
    {
     "data": {
      "text/plain": [
       "dict_keys(['Pfirst', 'P', 'x', 'objs', 'xs', 'pair_details'])"
      ]
     },
     "execution_count": 15,
     "metadata": {},
     "output_type": "execute_result"
    }
   ],
   "source": [
    "details_hillside_10_paired.keys()"
   ]
  },
  {
   "cell_type": "markdown",
   "metadata": {},
   "source": [
    "If you want to check out the second pair:"
   ]
  },
  {
   "cell_type": "code",
   "execution_count": 16,
   "metadata": {},
   "outputs": [
    {
     "data": {
      "text/plain": [
       "((0, 1, 7, 5, 2, 3, 4, 6), (0, 7, 1, 2, 5, 4, 3, 6))"
      ]
     },
     "execution_count": 16,
     "metadata": {},
     "output_type": "execute_result"
    }
   ],
   "source": [
    "details_hillside_10_paired['P'][1],details_hillside_10_paired['pair_details']['P'][1]"
   ]
  },
  {
   "cell_type": "markdown",
   "metadata": {},
   "source": [
    "Visualize it"
   ]
  },
  {
   "cell_type": "code",
   "execution_count": 17,
   "metadata": {},
   "outputs": [
    {
     "name": "stderr",
     "output_type": "stream",
     "text": [
      "/data/env/lib/python3.6/site-packages/networkx/drawing/nx_pylab.py:579: MatplotlibDeprecationWarning: \n",
      "The iterable function was deprecated in Matplotlib 3.1 and will be removed in 3.3. Use np.iterable instead.\n",
      "  if not cb.iterable(width):\n"
     ]
    },
    {
     "data": {
      "image/png": "[encoded data removed]",
      "text/plain": [
       "<Figure size 360x720 with 1 Axes>"
      ]
     },
     "metadata": {},
     "output_type": "display_data"
    }
   ],
   "source": [
    "pyrankability.plot.spider(pyrankability.plot.AB_to_P2(details_hillside_10_paired['P'][1],details_hillside_10_paired['pair_details']['P'][1]))"
   ]
  },
  {
   "cell_type": "code",
   "execution_count": 18,
   "metadata": {},
   "outputs": [
    {
     "name": "stdout",
     "output_type": "stream",
     "text": [
      "Read MPS format model from file /tmp/tmp2t54ptw4/model.mps\n",
      "Reading time = 0.00 seconds\n",
      "lop: 400 rows, 64 columns, 1128 nonzeros\n",
      "Read MPS format model from file /tmp/tmp2t54ptw4/model.mps\n",
      "Reading time = 0.00 seconds\n",
      "lop: 400 rows, 64 columns, 1128 nonzeros\n",
      "Read MPS format model from file /tmp/tmp2t54ptw4/model.mps\n",
      "Reading time = 0.00 seconds\n",
      "lop: 400 rows, 64 columns, 1128 nonzeros\n",
      "Read MPS format model from file /tmp/tmp2t54ptw4/model.mps\n",
      "Reading time = 0.00 seconds\n",
      "lop: 400 rows, 64 columns, 1128 nonzeros\n",
      "Read MPS format model from file /tmp/tmp2t54ptw4/model.mps\n",
      "Reading time = 0.00 seconds\n",
      "lop: 400 rows, 64 columns, 1128 nonzeros\n",
      "Read MPS format model from file /tmp/tmp2t54ptw4/model.mps\n",
      "Reading time = 0.00 seconds\n",
      "lop: 400 rows, 64 columns, 1128 nonzeros\n",
      "Read MPS format model from file /tmp/tmp2t54ptw4/model.mps\n",
      "Reading time = 0.00 seconds\n",
      "lop: 400 rows, 64 columns, 1128 nonzeros\n",
      "Read MPS format model from file /tmp/tmp2t54ptw4/model.mps\n",
      "Reading time = 0.00 seconds\n",
      "lop: 400 rows, 64 columns, 1128 nonzeros\n",
      "Read MPS format model from file /tmp/tmp2t54ptw4/model.mps\n",
      "Reading time = 0.00 seconds\n",
      "lop: 400 rows, 64 columns, 1128 nonzeros\n",
      "Read MPS format model from file /tmp/tmp2t54ptw4/model.mps\n",
      "Reading time = 0.00 seconds\n",
      "lop: 400 rows, 64 columns, 1128 nonzeros\n",
      "Read MPS format model from file /tmp/tmp2t54ptw4/model.mps\n",
      "Reading time = 0.00 seconds\n",
      "lop: 400 rows, 64 columns, 1128 nonzeros\n",
      "Read MPS format model from file /tmp/tmp2t54ptw4/model.mps\n",
      "Reading time = 0.00 seconds\n",
      "lop: 400 rows, 64 columns, 1128 nonzeros\n",
      "Read MPS format model from file /tmp/tmp2t54ptw4/model.mps\n",
      "Reading time = 0.00 seconds\n",
      "lop: 400 rows, 64 columns, 1128 nonzeros\n",
      "Read MPS format model from file /tmp/tmp2t54ptw4/model.mps\n",
      "Reading time = 0.00 seconds\n",
      "lop: 400 rows, 64 columns, 1128 nonzeros\n",
      "Read MPS format model from file /tmp/tmp2t54ptw4/model.mps\n",
      "Reading time = 0.00 seconds\n",
      "lop: 400 rows, 64 columns, 1128 nonzeros\n",
      "Read MPS format model from file /tmp/tmp2t54ptw4/model.mps\n",
      "Reading time = 0.00 seconds\n",
      "lop: 400 rows, 64 columns, 1128 nonzeros\n",
      "Read MPS format model from file /tmp/tmp2t54ptw4/model.mps\n",
      "Reading time = 0.00 seconds\n",
      "lop: 400 rows, 64 columns, 1128 nonzeros\n",
      "Read MPS format model from file /tmp/tmp2t54ptw4/model.mps\n",
      "Reading time = 0.00 seconds\n",
      "lop: 400 rows, 64 columns, 1128 nonzeros\n",
      "Read MPS format model from file /tmp/tmp2t54ptw4/model.mps\n",
      "Reading time = 0.00 seconds\n",
      "lop: 400 rows, 64 columns, 1128 nonzeros\n",
      "Read MPS format model from file /tmp/tmp2t54ptw4/model.mps\n",
      "Reading time = 0.00 seconds\n",
      "lop: 400 rows, 64 columns, 1128 nonzeros\n",
      "Read MPS format model from file /tmp/tmp2t54ptw4/model.mps\n",
      "Reading time = 0.00 seconds\n",
      "lop: 400 rows, 64 columns, 1128 nonzeros\n"
     ]
    },
    {
     "data": {
      "text/plain": [
       "25.0"
      ]
     },
     "execution_count": 18,
     "metadata": {},
     "output_type": "execute_result"
    }
   ],
   "source": [
    "k_lop_10_paired,details_lop_10_paired = pyrankability.lop.bilp(D,num_random_restarts=10,find_pair=True)\n",
    "k_lop_10_paired"
   ]
  },
  {
   "cell_type": "code",
   "execution_count": 19,
   "metadata": {},
   "outputs": [
    {
     "data": {
      "image/png": "[encoded data removed]",
      "text/plain": [
       "<Figure size 360x720 with 1 Axes>"
      ]
     },
     "metadata": {},
     "output_type": "display_data"
    }
   ],
   "source": [
    "pyrankability.plot.spider(pyrankability.plot.AB_to_P2(details_lop_10_paired['P'][1],details_lop_10_paired['pair_details']['P'][1]))"
   ]
  },
  {
   "cell_type": "markdown",
   "metadata": {},
   "source": [
    "### Find the two most distant"
   ]
  },
  {
   "cell_type": "code",
   "execution_count": 307,
   "metadata": {},
   "outputs": [
    {
     "name": "stdout",
     "output_type": "stream",
     "text": [
      "Parameter OutputFlag unchanged\n",
      "   Value: 1  Min: 0  Max: 1  Default: 1\n",
      "Updating opjective in 0.0022 seconds\n",
      "Start optimization 0\n",
      "Optimize a model with 112 rows, 64 columns and 336 nonzeros\n",
      "Variable types: 0 continuous, 64 integer (64 binary)\n",
      "Coefficient statistics:\n",
      "  Matrix range     [1e+00, 1e+00]\n",
      "  Objective range  [1e+00, 1e+00]\n",
      "  Bounds range     [1e+00, 1e+00]\n",
      "  RHS range        [1e+00, 1e+00]\n",
      "Found heuristic solution: objective 18.0000000\n",
      "Found heuristic solution: objective 22.0000000\n",
      "Presolve removed 0 rows and 36 columns\n",
      "Presolve time: 0.00s\n",
      "Presolved: 112 rows, 28 columns, 336 nonzeros\n",
      "Variable types: 0 continuous, 28 integer (28 binary)\n",
      "\n",
      "Root relaxation: objective 2.500000e+01, 7 iterations, 0.00 seconds\n",
      "\n",
      "    Nodes    |    Current Node    |     Objective Bounds      |     Work\n",
      " Expl Unexpl |  Obj  Depth IntInf | Incumbent    BestBd   Gap | It/Node Time\n",
      "\n",
      "*    0     0               0      25.0000000   25.00000  0.00%     -    0s\n",
      "\n",
      "Explored 0 nodes (7 simplex iterations) in 0.01 seconds\n",
      "Thread count was 8 (of 8 available processors)\n",
      "\n",
      "Solution count 3: 25 22 18 \n",
      "\n",
      "Optimal solution found (tolerance 1.00e-04)\n",
      "Best objective 2.500000000000e+01, best bound 2.500000000000e+01, gap 0.0000%\n",
      "Optimization in 0.0158 seconds\n",
      "End optimization 0\n",
      "Finished first optimization\n",
      "Parameter OutputFlag unchanged\n",
      "   Value: 1  Min: 0  Max: 1  Default: 1\n",
      "Start optimization\n",
      "Optimize a model with 310 rows, 140 columns and 922 nonzeros\n",
      "Variable types: 56 continuous, 84 integer (84 binary)\n",
      "Coefficient statistics:\n",
      "  Matrix range     [1e+00, 1e+00]\n",
      "  Objective range  [1e+00, 1e+00]\n",
      "  Bounds range     [1e+00, 1e+00]\n",
      "  RHS range        [1e+00, 1e+01]\n",
      "Found heuristic solution: objective -0.0000000\n",
      "Presolve removed 201 rows and 65 columns\n",
      "Presolve time: 0.00s\n",
      "Presolved: 109 rows, 75 columns, 248 nonzeros\n",
      "Variable types: 30 continuous, 45 integer (45 binary)\n",
      "\n",
      "Root relaxation: objective 1.500000e+01, 59 iterations, 0.00 seconds\n",
      "\n",
      "    Nodes    |    Current Node    |     Objective Bounds      |     Work\n",
      " Expl Unexpl |  Obj  Depth IntInf | Incumbent    BestBd   Gap | It/Node Time\n",
      "\n",
      "H    0     0                      15.0000000   30.00000   100%     -    0s\n",
      "     0     0          -    0        15.00000   15.00000  0.00%     -    0s\n",
      "\n",
      "Explored 0 nodes (77 simplex iterations) in 0.02 seconds\n",
      "Thread count was 8 (of 8 available processors)\n",
      "\n",
      "Solution count 2: 15 -0 \n",
      "\n",
      "Optimal solution found (tolerance 1.00e-04)\n",
      "Best objective 1.500000000000e+01, best bound 1.500000000000e+01, gap 0.0000%\n",
      "Optimization in 0.0208 seconds\n",
      "End optimization\n"
     ]
    },
    {
     "data": {
      "text/plain": [
       "25.0"
      ]
     },
     "execution_count": 307,
     "metadata": {},
     "output_type": "execute_result"
    }
   ],
   "source": [
    "k_two_distant,details_two_distant = pyrankability.lop.bilp_two_most_distant(D,verbose=True)\n",
    "k_two_distant"
   ]
  },
  {
   "cell_type": "code",
   "execution_count": 308,
   "metadata": {},
   "outputs": [
    {
     "data": {
      "text/plain": [
       "{'k_x': 25.0,\n",
       " 'k_y': 25.0,\n",
       " 'perm_x': (0, 1, 2, 4, 6, 7, 5, 3),\n",
       " 'perm_y': (7, 5, 3, 0, 1, 2, 4, 6),\n",
       " 'x': array([[0, 1, 1, 1, 1, 1, 1, 1],\n",
       "        [0, 0, 1, 1, 1, 1, 1, 1],\n",
       "        [0, 0, 0, 1, 1, 1, 1, 1],\n",
       "        [0, 0, 0, 0, 0, 0, 0, 0],\n",
       "        [0, 0, 0, 1, 0, 1, 1, 1],\n",
       "        [0, 0, 0, 1, 0, 0, 0, 0],\n",
       "        [0, 0, 0, 1, 0, 1, 0, 1],\n",
       "        [0, 0, 0, 1, 0, 1, 0, 0]]),\n",
       " 'y': array([[0, 1, 1, 0, 1, 0, 1, 0],\n",
       "        [0, 0, 1, 0, 1, 0, 1, 0],\n",
       "        [0, 0, 0, 0, 1, 0, 1, 0],\n",
       "        [1, 1, 1, 0, 1, 0, 1, 0],\n",
       "        [0, 0, 0, 0, 0, 0, 1, 0],\n",
       "        [1, 1, 1, 1, 1, 0, 1, 0],\n",
       "        [0, 0, 0, 0, 0, 0, 0, 0],\n",
       "        [1, 1, 1, 1, 1, 1, 1, 0]]),\n",
       " 'u': array([[0, 0, 0, 1, 0, 1, 0, 1],\n",
       "        [1, 0, 0, 1, 0, 1, 0, 1],\n",
       "        [1, 1, 0, 1, 0, 1, 0, 1],\n",
       "        [0, 0, 0, 0, 0, 0, 0, 0],\n",
       "        [1, 1, 1, 1, 0, 1, 0, 1],\n",
       "        [0, 0, 0, 1, 0, 0, 0, 0],\n",
       "        [1, 1, 1, 1, 1, 1, 0, 1],\n",
       "        [0, 0, 0, 1, 0, 1, 0, 0]]),\n",
       " 'v': array([[0, 0, 0, 0, 0, 0, 0, 0],\n",
       "        [1, 0, 0, 0, 0, 0, 0, 0],\n",
       "        [1, 1, 0, 0, 0, 0, 0, 0],\n",
       "        [1, 1, 1, 0, 1, 0, 1, 0],\n",
       "        [1, 1, 1, 0, 0, 0, 0, 0],\n",
       "        [1, 1, 1, 1, 1, 0, 1, 0],\n",
       "        [1, 1, 1, 0, 1, 0, 0, 0],\n",
       "        [1, 1, 1, 1, 1, 1, 1, 0]])}"
      ]
     },
     "execution_count": 308,
     "metadata": {},
     "output_type": "execute_result"
    }
   ],
   "source": [
    "details_two_distant"
   ]
  },
  {
   "cell_type": "code",
   "execution_count": 309,
   "metadata": {},
   "outputs": [],
   "source": [
    "from scipy import stats\n",
    "rho,pval1=stats.spearmanr(details_two_distant['perm_x'], details_two_distant['perm_y'])"
   ]
  },
  {
   "cell_type": "code",
   "execution_count": 310,
   "metadata": {},
   "outputs": [
    {
     "data": {
      "text/plain": [
       "-0.6904761904761906"
      ]
     },
     "execution_count": 310,
     "metadata": {},
     "output_type": "execute_result"
    }
   ],
   "source": [
    "rho"
   ]
  },
  {
   "cell_type": "code",
   "execution_count": null,
   "metadata": {},
   "outputs": [],
   "source": []
  },
  {
   "cell_type": "code",
   "execution_count": 328,
   "metadata": {},
   "outputs": [],
   "source": [
    "tau,pval2=stats.kendalltau(details_two_distant['perm_x'], details_two_distant['perm_y'])"
   ]
  },
  {
   "cell_type": "code",
   "execution_count": 329,
   "metadata": {},
   "outputs": [
    {
     "data": {
      "text/plain": [
       "0.4871794871794871"
      ]
     },
     "execution_count": 329,
     "metadata": {},
     "output_type": "execute_result"
    }
   ],
   "source": [
    "tau"
   ]
  },
  {
   "cell_type": "code",
   "execution_count": 313,
   "metadata": {},
   "outputs": [
    {
     "name": "stdout",
     "output_type": "stream",
     "text": [
      "Updating opjective in 0.0027 seconds\n",
      "Start optimization 0\n",
      "Optimization in 0.0021 seconds\n",
      "End optimization 0\n",
      "Start optimization\n",
      "Optimization in 0.0038 seconds\n",
      "End optimization\n"
     ]
    },
    {
     "data": {
      "text/plain": [
       "54"
      ]
     },
     "execution_count": 313,
     "metadata": {},
     "output_type": "execute_result"
    }
   ],
   "source": [
    "k_two_distant,details_two_distant = pyrankability.hillside.bilp_two_most_distant(D,verbose=True)\n",
    "k_two_distant"
   ]
  },
  {
   "cell_type": "code",
   "execution_count": 314,
   "metadata": {},
   "outputs": [
    {
     "data": {
      "text/plain": [
       "{'k_x': 54.0, 'k_y': 54.0, 'x': array([[0, 1, 1, 1, 1, 1, 1, 1],\n",
       "        [0, 0, 1, 0, 1, 1, 1, 1],\n",
       "        [0, 0, 0, 0, 0, 0, 1, 1],\n",
       "        [0, 0, 0, 0, 1, 1, 1, 1],\n",
       "        [0, 0, 0, 0, 0, 0, 1, 1],\n",
       "        [0, 0, 0, 0, 0, 0, 1, 1],\n",
       "        [0, 0, 0, 0, 0, 0, 0, 0],\n",
       "        [0, 0, 0, 0, 0, 0, 0, 0]]), 'y': array([[0, 0, 0, 0, 0, 0, 0, 0],\n",
       "        [1, 0, 0, 1, 0, 0, 0, 0],\n",
       "        [1, 1, 0, 1, 1, 1, 0, 0],\n",
       "        [0, 0, 0, 0, 0, 0, 0, 0],\n",
       "        [0, 0, 1, 0, 0, 1, 0, 0],\n",
       "        [0, 0, 1, 1, 1, 0, 0, 0],\n",
       "        [0, 0, 0, 0, 0, 0, 0, 1],\n",
       "        [0, 1, 1, 1, 1, 1, 1, 0]]), 'perm_x': (0,\n",
       "  1,\n",
       "  3,\n",
       "  2,\n",
       "  4,\n",
       "  5,\n",
       "  6,\n",
       "  7), 'perm_y': (6, 7, 0, 1, 2, 4, 5, 3)}"
      ]
     },
     "execution_count": 314,
     "metadata": {},
     "output_type": "execute_result"
    }
   ],
   "source": [
    "details_two_distant"
   ]
  },
  {
   "cell_type": "code",
   "execution_count": 32,
   "metadata": {},
   "outputs": [],
   "source": [
    "tau,pval2=stats.kendalltau(details_two_distant['perm_x'], details_two_distant['perm_y'])"
   ]
  },
  {
   "cell_type": "code",
   "execution_count": 33,
   "metadata": {},
   "outputs": [
    {
     "data": {
      "text/plain": [
       "-0.07142857142857142"
      ]
     },
     "execution_count": 33,
     "metadata": {},
     "output_type": "execute_result"
    }
   ],
   "source": [
    "tau"
   ]
  },
  {
   "cell_type": "markdown",
   "metadata": {},
   "source": [
    "### N-pal 13 example"
   ]
  },
  {
   "cell_type": "code",
   "execution_count": 770,
   "metadata": {},
   "outputs": [
    {
     "data": {
      "text/html": [
       "<div>\n",
       "<style scoped>\n",
       "    .dataframe tbody tr th:only-of-type {\n",
       "        vertical-align: middle;\n",
       "    }\n",
       "\n",
       "    .dataframe tbody tr th {\n",
       "        vertical-align: top;\n",
       "    }\n",
       "\n",
       "    .dataframe thead th {\n",
       "        text-align: right;\n",
       "    }\n",
       "</style>\n",
       "<table border=\"1\" class=\"dataframe\">\n",
       "  <thead>\n",
       "    <tr style=\"text-align: right;\">\n",
       "      <th></th>\n",
       "      <th>0</th>\n",
       "      <th>1</th>\n",
       "      <th>2</th>\n",
       "      <th>3</th>\n",
       "      <th>4</th>\n",
       "      <th>5</th>\n",
       "      <th>6</th>\n",
       "      <th>7</th>\n",
       "      <th>8</th>\n",
       "      <th>9</th>\n",
       "      <th>10</th>\n",
       "      <th>11</th>\n",
       "      <th>12</th>\n",
       "    </tr>\n",
       "  </thead>\n",
       "  <tbody>\n",
       "    <tr>\n",
       "      <td>0</td>\n",
       "      <td>0</td>\n",
       "      <td>1</td>\n",
       "      <td>0</td>\n",
       "      <td>1</td>\n",
       "      <td>1</td>\n",
       "      <td>0</td>\n",
       "      <td>0</td>\n",
       "      <td>0</td>\n",
       "      <td>0</td>\n",
       "      <td>1</td>\n",
       "      <td>1</td>\n",
       "      <td>0</td>\n",
       "      <td>1</td>\n",
       "    </tr>\n",
       "    <tr>\n",
       "      <td>1</td>\n",
       "      <td>0</td>\n",
       "      <td>0</td>\n",
       "      <td>1</td>\n",
       "      <td>0</td>\n",
       "      <td>1</td>\n",
       "      <td>1</td>\n",
       "      <td>0</td>\n",
       "      <td>0</td>\n",
       "      <td>0</td>\n",
       "      <td>0</td>\n",
       "      <td>1</td>\n",
       "      <td>1</td>\n",
       "      <td>0</td>\n",
       "    </tr>\n",
       "    <tr>\n",
       "      <td>2</td>\n",
       "      <td>1</td>\n",
       "      <td>0</td>\n",
       "      <td>0</td>\n",
       "      <td>1</td>\n",
       "      <td>0</td>\n",
       "      <td>1</td>\n",
       "      <td>1</td>\n",
       "      <td>0</td>\n",
       "      <td>0</td>\n",
       "      <td>0</td>\n",
       "      <td>0</td>\n",
       "      <td>1</td>\n",
       "      <td>1</td>\n",
       "    </tr>\n",
       "    <tr>\n",
       "      <td>3</td>\n",
       "      <td>0</td>\n",
       "      <td>1</td>\n",
       "      <td>0</td>\n",
       "      <td>0</td>\n",
       "      <td>1</td>\n",
       "      <td>0</td>\n",
       "      <td>1</td>\n",
       "      <td>1</td>\n",
       "      <td>0</td>\n",
       "      <td>0</td>\n",
       "      <td>0</td>\n",
       "      <td>0</td>\n",
       "      <td>1</td>\n",
       "    </tr>\n",
       "    <tr>\n",
       "      <td>4</td>\n",
       "      <td>0</td>\n",
       "      <td>0</td>\n",
       "      <td>1</td>\n",
       "      <td>0</td>\n",
       "      <td>0</td>\n",
       "      <td>1</td>\n",
       "      <td>0</td>\n",
       "      <td>1</td>\n",
       "      <td>1</td>\n",
       "      <td>0</td>\n",
       "      <td>0</td>\n",
       "      <td>0</td>\n",
       "      <td>0</td>\n",
       "    </tr>\n",
       "    <tr>\n",
       "      <td>5</td>\n",
       "      <td>1</td>\n",
       "      <td>0</td>\n",
       "      <td>0</td>\n",
       "      <td>1</td>\n",
       "      <td>0</td>\n",
       "      <td>0</td>\n",
       "      <td>1</td>\n",
       "      <td>0</td>\n",
       "      <td>1</td>\n",
       "      <td>1</td>\n",
       "      <td>0</td>\n",
       "      <td>0</td>\n",
       "      <td>0</td>\n",
       "    </tr>\n",
       "    <tr>\n",
       "      <td>6</td>\n",
       "      <td>1</td>\n",
       "      <td>1</td>\n",
       "      <td>0</td>\n",
       "      <td>0</td>\n",
       "      <td>1</td>\n",
       "      <td>0</td>\n",
       "      <td>0</td>\n",
       "      <td>1</td>\n",
       "      <td>0</td>\n",
       "      <td>1</td>\n",
       "      <td>1</td>\n",
       "      <td>0</td>\n",
       "      <td>0</td>\n",
       "    </tr>\n",
       "    <tr>\n",
       "      <td>7</td>\n",
       "      <td>1</td>\n",
       "      <td>1</td>\n",
       "      <td>1</td>\n",
       "      <td>0</td>\n",
       "      <td>0</td>\n",
       "      <td>1</td>\n",
       "      <td>0</td>\n",
       "      <td>0</td>\n",
       "      <td>1</td>\n",
       "      <td>0</td>\n",
       "      <td>1</td>\n",
       "      <td>1</td>\n",
       "      <td>0</td>\n",
       "    </tr>\n",
       "    <tr>\n",
       "      <td>8</td>\n",
       "      <td>1</td>\n",
       "      <td>1</td>\n",
       "      <td>1</td>\n",
       "      <td>1</td>\n",
       "      <td>0</td>\n",
       "      <td>0</td>\n",
       "      <td>1</td>\n",
       "      <td>0</td>\n",
       "      <td>0</td>\n",
       "      <td>1</td>\n",
       "      <td>0</td>\n",
       "      <td>1</td>\n",
       "      <td>1</td>\n",
       "    </tr>\n",
       "    <tr>\n",
       "      <td>9</td>\n",
       "      <td>0</td>\n",
       "      <td>1</td>\n",
       "      <td>1</td>\n",
       "      <td>1</td>\n",
       "      <td>1</td>\n",
       "      <td>0</td>\n",
       "      <td>0</td>\n",
       "      <td>1</td>\n",
       "      <td>0</td>\n",
       "      <td>0</td>\n",
       "      <td>1</td>\n",
       "      <td>0</td>\n",
       "      <td>1</td>\n",
       "    </tr>\n",
       "    <tr>\n",
       "      <td>10</td>\n",
       "      <td>0</td>\n",
       "      <td>0</td>\n",
       "      <td>1</td>\n",
       "      <td>1</td>\n",
       "      <td>1</td>\n",
       "      <td>1</td>\n",
       "      <td>0</td>\n",
       "      <td>0</td>\n",
       "      <td>1</td>\n",
       "      <td>0</td>\n",
       "      <td>0</td>\n",
       "      <td>1</td>\n",
       "      <td>0</td>\n",
       "    </tr>\n",
       "    <tr>\n",
       "      <td>11</td>\n",
       "      <td>1</td>\n",
       "      <td>0</td>\n",
       "      <td>0</td>\n",
       "      <td>1</td>\n",
       "      <td>1</td>\n",
       "      <td>1</td>\n",
       "      <td>1</td>\n",
       "      <td>0</td>\n",
       "      <td>0</td>\n",
       "      <td>1</td>\n",
       "      <td>0</td>\n",
       "      <td>0</td>\n",
       "      <td>1</td>\n",
       "    </tr>\n",
       "    <tr>\n",
       "      <td>12</td>\n",
       "      <td>0</td>\n",
       "      <td>1</td>\n",
       "      <td>0</td>\n",
       "      <td>0</td>\n",
       "      <td>1</td>\n",
       "      <td>1</td>\n",
       "      <td>1</td>\n",
       "      <td>1</td>\n",
       "      <td>0</td>\n",
       "      <td>0</td>\n",
       "      <td>1</td>\n",
       "      <td>0</td>\n",
       "      <td>0</td>\n",
       "    </tr>\n",
       "  </tbody>\n",
       "</table>\n",
       "</div>"
      ],
      "text/plain": [
       "    0  1  2  3  4  5  6  7  8  9  10  11  12\n",
       "0   0  1  0  1  1  0  0  0  0  1   1   0   1\n",
       "1   0  0  1  0  1  1  0  0  0  0   1   1   0\n",
       "2   1  0  0  1  0  1  1  0  0  0   0   1   1\n",
       "3   0  1  0  0  1  0  1  1  0  0   0   0   1\n",
       "4   0  0  1  0  0  1  0  1  1  0   0   0   0\n",
       "5   1  0  0  1  0  0  1  0  1  1   0   0   0\n",
       "6   1  1  0  0  1  0  0  1  0  1   1   0   0\n",
       "7   1  1  1  0  0  1  0  0  1  0   1   1   0\n",
       "8   1  1  1  1  0  0  1  0  0  1   0   1   1\n",
       "9   0  1  1  1  1  0  0  1  0  0   1   0   1\n",
       "10  0  0  1  1  1  1  0  0  1  0   0   1   0\n",
       "11  1  0  0  1  1  1  1  0  0  1   0   0   1\n",
       "12  0  1  0  0  1  1  1  1  0  0   1   0   0"
      ]
     },
     "execution_count": 770,
     "metadata": {},
     "output_type": "execute_result"
    }
   ],
   "source": [
    "data=open(\"../N-pal13\").read().split(\"\\n\")\n",
    "data=data[1:-1]\n",
    "dt = []\n",
    "for line in data:\n",
    "    dt.append([int(k) for k in line.split()])\n",
    "D_N_pal13 = pd.DataFrame(dt)\n",
    "D_N_pal13"
   ]
  },
  {
   "cell_type": "code",
   "execution_count": 1190,
   "metadata": {},
   "outputs": [
    {
     "name": "stdout",
     "output_type": "stream",
     "text": [
      "Parameter OutputFlag unchanged\n",
      "   Value: 1  Min: 0  Max: 1  Default: 1\n",
      "Updating opjective in 0.0045 seconds\n",
      "Start optimization 0\n",
      "Optimize a model with 572 rows, 78 columns and 1716 nonzeros\n",
      "Variable types: 0 continuous, 78 integer (78 binary)\n",
      "Coefficient statistics:\n",
      "  Matrix range     [1e+00, 1e+00]\n",
      "  Objective range  [1e+00, 1e+00]\n",
      "  Bounds range     [1e+00, 1e+00]\n",
      "  RHS range        [1e+00, 1e+00]\n",
      "Found heuristic solution: objective 45.0000000\n",
      "Found heuristic solution: objective 50.0000000\n",
      "Presolve time: 0.00s\n",
      "Presolved: 572 rows, 78 columns, 1716 nonzeros\n",
      "Variable types: 0 continuous, 78 integer (78 binary)\n",
      "\n",
      "Root relaxation: objective 5.700000e+01, 49 iterations, 0.00 seconds\n",
      "\n",
      "    Nodes    |    Current Node    |     Objective Bounds      |     Work\n",
      " Expl Unexpl |  Obj  Depth IntInf | Incumbent    BestBd   Gap | It/Node Time\n",
      "\n",
      "*    0     0               0      57.0000000   57.00000  0.00%     -    0s\n",
      "\n",
      "Explored 0 nodes (49 simplex iterations) in 0.02 seconds\n",
      "Thread count was 8 (of 8 available processors)\n",
      "\n",
      "Solution count 3: 57 50 45 \n",
      "\n",
      "Optimal solution found (tolerance 1.00e-04)\n",
      "Best objective 5.700000000000e+01, best bound 5.700000000000e+01, gap 0.0000%\n",
      "Optimization in 0.0287 seconds\n",
      "End optimization 0\n",
      "Finished first optimization. Obj: 57.0\n",
      "Parameter OutputFlag unchanged\n",
      "   Value: 1  Min: 0  Max: 1  Default: 1\n",
      "Start optimization\n",
      "Optimize a model with 1302 rows, 312 columns and 4056 nonzeros\n",
      "Variable types: 0 continuous, 312 integer (312 binary)\n",
      "Coefficient statistics:\n",
      "  Matrix range     [1e+00, 1e+00]\n",
      "  Objective range  [1e+00, 1e+00]\n",
      "  Bounds range     [1e+00, 1e+00]\n",
      "  RHS range        [1e+00, 2e+01]\n",
      "Presolve time: 0.00s\n",
      "Presolved: 1302 rows, 312 columns, 4056 nonzeros\n",
      "Variable types: 0 continuous, 312 integer (312 binary)\n",
      "\n",
      "Root relaxation: objective 7.800000e+01, 340 iterations, 0.01 seconds\n",
      "\n",
      "    Nodes    |    Current Node    |     Objective Bounds      |     Work\n",
      " Expl Unexpl |  Obj  Depth IntInf | Incumbent    BestBd   Gap | It/Node Time\n",
      "\n",
      "     0     0   78.00000    0  116          -   78.00000      -     -    0s\n",
      "H    0     0                      20.0000000   78.00000   290%     -    0s\n",
      "     0     0   36.00000    0   44   20.00000   36.00000  80.0%     -    0s\n",
      "H    0     0                      34.0000000   36.00000  5.88%     -    0s\n",
      "     0     0   35.00000    0    2   34.00000   35.00000  2.94%     -    0s\n",
      "     0     0   35.00000    0    6   34.00000   35.00000  2.94%     -    0s\n",
      "     0     0 infeasible    0        34.00000   34.00000  0.00%     -    0s\n",
      "\n",
      "Cutting planes:\n",
      "  Gomory: 3\n",
      "  Clique: 8\n",
      "  Zero half: 2\n",
      "\n",
      "Explored 1 nodes (902 simplex iterations) in 0.12 seconds\n",
      "Thread count was 8 (of 8 available processors)\n",
      "\n",
      "Solution count 2: 34 20 \n",
      "\n",
      "Optimal solution found (tolerance 1.00e-04)\n",
      "Best objective 3.400000000000e+01, best bound 3.400000000000e+01, gap 0.0000%\n",
      "Optimization in 0.1279 seconds\n",
      "End optimization\n"
     ]
    },
    {
     "data": {
      "text/plain": [
       "57.0"
      ]
     },
     "execution_count": 1190,
     "metadata": {},
     "output_type": "execute_result"
    }
   ],
   "source": [
    "k_two_distant,details_two_distant = pyrankability.lop.bilp_two_most_distant(D_N_pal13.values,verbose=True)\n",
    "\n",
    "k_two_distant"
   ]
  },
  {
   "cell_type": "code",
   "execution_count": 1170,
   "metadata": {},
   "outputs": [
    {
     "data": {
      "text/plain": [
       "{'obj': 34.0,\n",
       " 'k_x': 57,\n",
       " 'k_y': 57,\n",
       " 'perm_x': (8, 11, 0, 9, 3, 12, 6, 7, 1, 10, 4, 2, 5),\n",
       " 'perm_y': (7, 10, 8, 2, 11, 5, 6, 0, 9, 3, 12, 1, 4),\n",
       " 'x': array([[0, 1, 1, 1, 1, 1, 1, 1, 0, 1, 1, 0, 1],\n",
       "        [0, 0, 1, 0, 1, 1, 0, 0, 0, 0, 1, 0, 0],\n",
       "        [0, 0, 0, 0, 0, 1, 0, 0, 0, 0, 0, 0, 0],\n",
       "        [0, 1, 1, 0, 1, 1, 1, 1, 0, 0, 1, 0, 1],\n",
       "        [0, 0, 1, 0, 0, 1, 0, 0, 0, 0, 0, 0, 0],\n",
       "        [0, 0, 0, 0, 0, 0, 0, 0, 0, 0, 0, 0, 0],\n",
       "        [0, 1, 1, 0, 1, 1, 0, 1, 0, 0, 1, 0, 0],\n",
       "        [0, 1, 1, 0, 1, 1, 0, 0, 0, 0, 1, 0, 0],\n",
       "        [1, 1, 1, 1, 1, 1, 1, 1, 0, 1, 1, 1, 1],\n",
       "        [0, 1, 1, 1, 1, 1, 1, 1, 0, 0, 1, 0, 1],\n",
       "        [0, 0, 1, 0, 1, 1, 0, 0, 0, 0, 0, 0, 0],\n",
       "        [1, 1, 1, 1, 1, 1, 1, 1, 0, 1, 1, 0, 1],\n",
       "        [0, 1, 1, 0, 1, 1, 1, 1, 0, 0, 1, 0, 0]]),\n",
       " 'y': array([[0, 1, 0, 1, 1, 0, 0, 0, 0, 1, 0, 0, 1],\n",
       "        [0, 0, 0, 0, 1, 0, 0, 0, 0, 0, 0, 0, 0],\n",
       "        [1, 1, 0, 1, 1, 1, 1, 0, 0, 1, 0, 1, 1],\n",
       "        [0, 1, 0, 0, 1, 0, 0, 0, 0, 0, 0, 0, 1],\n",
       "        [0, 0, 0, 0, 0, 0, 0, 0, 0, 0, 0, 0, 0],\n",
       "        [1, 1, 0, 1, 1, 0, 1, 0, 0, 1, 0, 0, 1],\n",
       "        [1, 1, 0, 1, 1, 0, 0, 0, 0, 1, 0, 0, 1],\n",
       "        [1, 1, 1, 1, 1, 1, 1, 0, 1, 1, 1, 1, 1],\n",
       "        [1, 1, 1, 1, 1, 1, 1, 0, 0, 1, 0, 1, 1],\n",
       "        [0, 1, 0, 1, 1, 0, 0, 0, 0, 0, 0, 0, 1],\n",
       "        [1, 1, 1, 1, 1, 1, 1, 0, 1, 1, 0, 1, 1],\n",
       "        [1, 1, 0, 1, 1, 1, 1, 0, 0, 1, 0, 0, 1],\n",
       "        [0, 1, 0, 0, 1, 0, 0, 0, 0, 0, 0, 0, 0]]),\n",
       " 'u': array([[0, 0, 1, 0, 0, 1, 1, 1, 0, 0, 1, 0, 0],\n",
       "        [0, 0, 1, 0, 0, 1, 0, 0, 0, 0, 1, 0, 0],\n",
       "        [0, 0, 0, 0, 0, 0, 0, 0, 0, 0, 0, 0, 0],\n",
       "        [0, 0, 0, 0, 0, 1, 1, 1, 0, 0, 1, 0, 0],\n",
       "        [0, 0, 0, 0, 0, 1, 0, 0, 0, 0, 0, 0, 0],\n",
       "        [0, 0, 0, 0, 0, 0, 0, 0, 0, 0, 0, 0, 0],\n",
       "        [0, 0, 0, 0, 0, 0, 0, 1, 0, 0, 1, 0, 0],\n",
       "        [0, 0, 0, 0, 0, 0, 0, 0, 0, 0, 0, 0, 0],\n",
       "        [0, 0, 0, 0, 0, 0, 0, 0, 0, 0, 1, 0, 0],\n",
       "        [0, 0, 0, 0, 0, 0, 0, 0, 0, 0, 1, 0, 0],\n",
       "        [0, 0, 0, 0, 0, 0, 0, 0, 0, 0, 0, 0, 0],\n",
       "        [0, 0, 0, 0, 0, 0, 0, 0, 0, 0, 0, 0, 0],\n",
       "        [0, 0, 0, 0, 0, 0, 0, 0, 0, 0, 0, 0, 0]]),\n",
       " 'v': array([[0, 0, 0, 0, 0, 0, 0, 0, 0, 0, 0, 0, 0],\n",
       "        [0, 0, 0, 0, 0, 0, 0, 0, 0, 0, 0, 0, 0],\n",
       "        [0, 0, 0, 1, 1, 0, 1, 0, 0, 1, 0, 1, 1],\n",
       "        [0, 0, 0, 0, 0, 0, 0, 0, 0, 0, 0, 0, 0],\n",
       "        [0, 0, 0, 0, 0, 0, 0, 0, 0, 0, 0, 0, 0],\n",
       "        [0, 0, 0, 0, 0, 0, 1, 0, 0, 1, 0, 0, 1],\n",
       "        [0, 0, 0, 0, 0, 0, 0, 0, 0, 1, 0, 0, 1],\n",
       "        [0, 0, 0, 0, 0, 0, 0, 0, 1, 1, 0, 1, 1],\n",
       "        [0, 0, 0, 0, 0, 0, 0, 0, 0, 0, 0, 0, 0],\n",
       "        [0, 0, 0, 0, 0, 0, 0, 0, 0, 0, 0, 0, 0],\n",
       "        [0, 0, 0, 0, 0, 0, 0, 0, 0, 0, 0, 1, 1],\n",
       "        [0, 0, 0, 0, 0, 0, 0, 0, 0, 0, 0, 0, 0],\n",
       "        [0, 0, 0, 0, 0, 0, 0, 0, 0, 0, 0, 0, 0]])}"
      ]
     },
     "execution_count": 1170,
     "metadata": {},
     "output_type": "execute_result"
    }
   ],
   "source": [
    "details_two_distant"
   ]
  },
  {
   "cell_type": "markdown",
   "metadata": {},
   "source": [
    "For this example we've found the full P set:"
   ]
  },
  {
   "cell_type": "code",
   "execution_count": 1171,
   "metadata": {},
   "outputs": [
    {
     "data": {
      "text/plain": [
       "[[7, 8, 2, 11, 5, 6, 0, 9, 3, 12, 1, 10, 4],\n",
       " [7, 10, 8, 2, 11, 5, 6, 0, 9, 3, 12, 1, 4],\n",
       " [7, 10, 8, 2, 11, 5, 0, 9, 3, 12, 6, 1, 4],\n",
       " [7, 8, 2, 11, 5, 0, 9, 3, 12, 6, 1, 10, 4],\n",
       " [7, 8, 2, 11, 0, 9, 3, 12, 6, 1, 10, 4, 5],\n",
       " [7, 8, 2, 11, 6, 0, 9, 3, 12, 1, 10, 4, 5],\n",
       " [8, 2, 11, 0, 9, 3, 12, 6, 7, 1, 10, 4, 5],\n",
       " [8, 2, 11, 6, 0, 9, 3, 12, 7, 1, 10, 4, 5],\n",
       " [8, 11, 6, 0, 9, 3, 12, 7, 1, 10, 4, 2, 5],\n",
       " [8, 11, 0, 9, 3, 12, 6, 7, 1, 10, 4, 2, 5]]"
      ]
     },
     "execution_count": 1171,
     "metadata": {},
     "output_type": "execute_result"
    }
   ],
   "source": [
    "full_P = [[4, 10, 1, 12, 3, 9, 0, 6, 5, 11, 2, 8, 7],\n",
    "[4, 1, 12, 3, 9, 0, 6, 5, 11, 2, 8, 10, 7],\n",
    "[4, 1, 6, 12, 3, 9, 0, 5, 11, 2, 8, 10, 7],\n",
    "[4, 10, 1, 6, 12, 3, 9, 0, 5, 11, 2, 8, 7],\n",
    "[5, 4, 10, 1, 6, 12, 3, 9, 0, 11, 2, 8, 7],\n",
    "[5, 4, 10, 1, 12, 3, 9, 0, 6, 11, 2, 8, 7],\n",
    "[5, 4, 10, 1, 7, 6, 12, 3, 9, 0, 11, 2, 8],\n",
    "[5, 4, 10, 1, 7, 12, 3, 9, 0, 6, 11, 2, 8],\n",
    "[5, 2, 4, 10, 1, 7, 12, 3, 9, 0, 6, 11, 8],\n",
    "[5, 2, 4, 10, 1, 7, 6, 12, 3, 9, 0, 11, 8]]\n",
    "for i in range(len(full_P)):\n",
    "    full_P[i] = full_P[i][::-1]\n",
    "full_P"
   ]
  },
  {
   "cell_type": "code",
   "execution_count": 1172,
   "metadata": {},
   "outputs": [
    {
     "data": {
      "text/plain": [
       "10"
      ]
     },
     "execution_count": 1172,
     "metadata": {},
     "output_type": "execute_result"
    }
   ],
   "source": [
    "len(full_P)"
   ]
  },
  {
   "cell_type": "markdown",
   "metadata": {},
   "source": [
    "Find all concordant pairs and discordant pairs"
   ]
  },
  {
   "cell_type": "code",
   "execution_count": 1177,
   "metadata": {},
   "outputs": [],
   "source": [
    "uc=np.zeros((n,n))\n",
    "vc=np.zeros((n,n))\n",
    "ncons = np.zeros((len(full_P),len(full_P)))\n",
    "ndiss = np.zeros((len(full_P),len(full_P)))\n",
    "for k,perm_x in enumerate(full_P):\n",
    "    for z,perm_y in enumerate(full_P):\n",
    "        ncon = 0\n",
    "        ndis = 0\n",
    "        for i in range(n): # i is an item\n",
    "            i_x = np.where(np.array(perm_x)==i)[0] # location of i in perm_x\n",
    "            i_y = np.where(np.array(perm_y)==i)[0] # location of i in perm_y\n",
    "            for j in range(i+1,n): # j is another item\n",
    "                j_x = np.where(np.array(perm_x)==j)[0] # location of j in perm_x\n",
    "                j_y = np.where(np.array(perm_y)==j)[0] # location of j in perm_y\n",
    "                if i_x-j_x > 0 and i_y-j_y < 0:\n",
    "                    vc[i,j] = 1\n",
    "                    ndis += 1\n",
    "                elif i_x-j_x < 0 and i_y-j_y > 0:\n",
    "                    uc[i,j] = 1\n",
    "                    ndis += 1\n",
    "                elif i_x-j_x > 0 and i_y-j_y > 0:\n",
    "                    ncon += 1\n",
    "                elif i_x-j_x < 0 and i_y-j_y < 0:\n",
    "                    ncon += 1\n",
    "        ncons[k,z] = ncon\n",
    "        ndiss[k,z] = ndis\n",
    "ncons = pd.DataFrame(ncons).astype(int)\n",
    "ndiss = pd.DataFrame(ndiss).astype(int)"
   ]
  },
  {
   "cell_type": "code",
   "execution_count": 1178,
   "metadata": {},
   "outputs": [
    {
     "data": {
      "text/html": [
       "<div>\n",
       "<style scoped>\n",
       "    .dataframe tbody tr th:only-of-type {\n",
       "        vertical-align: middle;\n",
       "    }\n",
       "\n",
       "    .dataframe tbody tr th {\n",
       "        vertical-align: top;\n",
       "    }\n",
       "\n",
       "    .dataframe thead th {\n",
       "        text-align: right;\n",
       "    }\n",
       "</style>\n",
       "<table border=\"1\" class=\"dataframe\">\n",
       "  <thead>\n",
       "    <tr style=\"text-align: right;\">\n",
       "      <th></th>\n",
       "      <th>0</th>\n",
       "      <th>1</th>\n",
       "      <th>2</th>\n",
       "      <th>3</th>\n",
       "      <th>4</th>\n",
       "      <th>5</th>\n",
       "      <th>6</th>\n",
       "      <th>7</th>\n",
       "      <th>8</th>\n",
       "      <th>9</th>\n",
       "    </tr>\n",
       "  </thead>\n",
       "  <tbody>\n",
       "    <tr>\n",
       "      <td>0</td>\n",
       "      <td>78</td>\n",
       "      <td>68</td>\n",
       "      <td>64</td>\n",
       "      <td>74</td>\n",
       "      <td>66</td>\n",
       "      <td>70</td>\n",
       "      <td>58</td>\n",
       "      <td>62</td>\n",
       "      <td>54</td>\n",
       "      <td>50</td>\n",
       "    </tr>\n",
       "    <tr>\n",
       "      <td>1</td>\n",
       "      <td>68</td>\n",
       "      <td>78</td>\n",
       "      <td>74</td>\n",
       "      <td>64</td>\n",
       "      <td>58</td>\n",
       "      <td>62</td>\n",
       "      <td>50</td>\n",
       "      <td>54</td>\n",
       "      <td>48</td>\n",
       "      <td>44</td>\n",
       "    </tr>\n",
       "    <tr>\n",
       "      <td>2</td>\n",
       "      <td>64</td>\n",
       "      <td>74</td>\n",
       "      <td>78</td>\n",
       "      <td>68</td>\n",
       "      <td>62</td>\n",
       "      <td>58</td>\n",
       "      <td>54</td>\n",
       "      <td>50</td>\n",
       "      <td>44</td>\n",
       "      <td>48</td>\n",
       "    </tr>\n",
       "    <tr>\n",
       "      <td>3</td>\n",
       "      <td>74</td>\n",
       "      <td>64</td>\n",
       "      <td>68</td>\n",
       "      <td>78</td>\n",
       "      <td>70</td>\n",
       "      <td>66</td>\n",
       "      <td>62</td>\n",
       "      <td>58</td>\n",
       "      <td>50</td>\n",
       "      <td>54</td>\n",
       "    </tr>\n",
       "    <tr>\n",
       "      <td>4</td>\n",
       "      <td>66</td>\n",
       "      <td>58</td>\n",
       "      <td>62</td>\n",
       "      <td>70</td>\n",
       "      <td>78</td>\n",
       "      <td>74</td>\n",
       "      <td>70</td>\n",
       "      <td>66</td>\n",
       "      <td>58</td>\n",
       "      <td>62</td>\n",
       "    </tr>\n",
       "    <tr>\n",
       "      <td>5</td>\n",
       "      <td>70</td>\n",
       "      <td>62</td>\n",
       "      <td>58</td>\n",
       "      <td>66</td>\n",
       "      <td>74</td>\n",
       "      <td>78</td>\n",
       "      <td>66</td>\n",
       "      <td>70</td>\n",
       "      <td>62</td>\n",
       "      <td>58</td>\n",
       "    </tr>\n",
       "    <tr>\n",
       "      <td>6</td>\n",
       "      <td>58</td>\n",
       "      <td>50</td>\n",
       "      <td>54</td>\n",
       "      <td>62</td>\n",
       "      <td>70</td>\n",
       "      <td>66</td>\n",
       "      <td>78</td>\n",
       "      <td>74</td>\n",
       "      <td>64</td>\n",
       "      <td>68</td>\n",
       "    </tr>\n",
       "    <tr>\n",
       "      <td>7</td>\n",
       "      <td>62</td>\n",
       "      <td>54</td>\n",
       "      <td>50</td>\n",
       "      <td>58</td>\n",
       "      <td>66</td>\n",
       "      <td>70</td>\n",
       "      <td>74</td>\n",
       "      <td>78</td>\n",
       "      <td>68</td>\n",
       "      <td>64</td>\n",
       "    </tr>\n",
       "    <tr>\n",
       "      <td>8</td>\n",
       "      <td>54</td>\n",
       "      <td>48</td>\n",
       "      <td>44</td>\n",
       "      <td>50</td>\n",
       "      <td>58</td>\n",
       "      <td>62</td>\n",
       "      <td>64</td>\n",
       "      <td>68</td>\n",
       "      <td>78</td>\n",
       "      <td>74</td>\n",
       "    </tr>\n",
       "    <tr>\n",
       "      <td>9</td>\n",
       "      <td>50</td>\n",
       "      <td>44</td>\n",
       "      <td>48</td>\n",
       "      <td>54</td>\n",
       "      <td>62</td>\n",
       "      <td>58</td>\n",
       "      <td>68</td>\n",
       "      <td>64</td>\n",
       "      <td>74</td>\n",
       "      <td>78</td>\n",
       "    </tr>\n",
       "  </tbody>\n",
       "</table>\n",
       "</div>"
      ],
      "text/plain": [
       "    0   1   2   3   4   5   6   7   8   9\n",
       "0  78  68  64  74  66  70  58  62  54  50\n",
       "1  68  78  74  64  58  62  50  54  48  44\n",
       "2  64  74  78  68  62  58  54  50  44  48\n",
       "3  74  64  68  78  70  66  62  58  50  54\n",
       "4  66  58  62  70  78  74  70  66  58  62\n",
       "5  70  62  58  66  74  78  66  70  62  58\n",
       "6  58  50  54  62  70  66  78  74  64  68\n",
       "7  62  54  50  58  66  70  74  78  68  64\n",
       "8  54  48  44  50  58  62  64  68  78  74\n",
       "9  50  44  48  54  62  58  68  64  74  78"
      ]
     },
     "execution_count": 1178,
     "metadata": {},
     "output_type": "execute_result"
    }
   ],
   "source": [
    "ncons"
   ]
  },
  {
   "cell_type": "code",
   "execution_count": 1179,
   "metadata": {},
   "outputs": [
    {
     "data": {
      "text/html": [
       "<div>\n",
       "<style scoped>\n",
       "    .dataframe tbody tr th:only-of-type {\n",
       "        vertical-align: middle;\n",
       "    }\n",
       "\n",
       "    .dataframe tbody tr th {\n",
       "        vertical-align: top;\n",
       "    }\n",
       "\n",
       "    .dataframe thead th {\n",
       "        text-align: right;\n",
       "    }\n",
       "</style>\n",
       "<table border=\"1\" class=\"dataframe\">\n",
       "  <thead>\n",
       "    <tr style=\"text-align: right;\">\n",
       "      <th></th>\n",
       "      <th>0</th>\n",
       "      <th>1</th>\n",
       "      <th>2</th>\n",
       "      <th>3</th>\n",
       "      <th>4</th>\n",
       "      <th>5</th>\n",
       "      <th>6</th>\n",
       "      <th>7</th>\n",
       "      <th>8</th>\n",
       "      <th>9</th>\n",
       "    </tr>\n",
       "  </thead>\n",
       "  <tbody>\n",
       "    <tr>\n",
       "      <td>0</td>\n",
       "      <td>0</td>\n",
       "      <td>10</td>\n",
       "      <td>14</td>\n",
       "      <td>4</td>\n",
       "      <td>12</td>\n",
       "      <td>8</td>\n",
       "      <td>20</td>\n",
       "      <td>16</td>\n",
       "      <td>24</td>\n",
       "      <td>28</td>\n",
       "    </tr>\n",
       "    <tr>\n",
       "      <td>1</td>\n",
       "      <td>10</td>\n",
       "      <td>0</td>\n",
       "      <td>4</td>\n",
       "      <td>14</td>\n",
       "      <td>20</td>\n",
       "      <td>16</td>\n",
       "      <td>28</td>\n",
       "      <td>24</td>\n",
       "      <td>30</td>\n",
       "      <td>34</td>\n",
       "    </tr>\n",
       "    <tr>\n",
       "      <td>2</td>\n",
       "      <td>14</td>\n",
       "      <td>4</td>\n",
       "      <td>0</td>\n",
       "      <td>10</td>\n",
       "      <td>16</td>\n",
       "      <td>20</td>\n",
       "      <td>24</td>\n",
       "      <td>28</td>\n",
       "      <td>34</td>\n",
       "      <td>30</td>\n",
       "    </tr>\n",
       "    <tr>\n",
       "      <td>3</td>\n",
       "      <td>4</td>\n",
       "      <td>14</td>\n",
       "      <td>10</td>\n",
       "      <td>0</td>\n",
       "      <td>8</td>\n",
       "      <td>12</td>\n",
       "      <td>16</td>\n",
       "      <td>20</td>\n",
       "      <td>28</td>\n",
       "      <td>24</td>\n",
       "    </tr>\n",
       "    <tr>\n",
       "      <td>4</td>\n",
       "      <td>12</td>\n",
       "      <td>20</td>\n",
       "      <td>16</td>\n",
       "      <td>8</td>\n",
       "      <td>0</td>\n",
       "      <td>4</td>\n",
       "      <td>8</td>\n",
       "      <td>12</td>\n",
       "      <td>20</td>\n",
       "      <td>16</td>\n",
       "    </tr>\n",
       "    <tr>\n",
       "      <td>5</td>\n",
       "      <td>8</td>\n",
       "      <td>16</td>\n",
       "      <td>20</td>\n",
       "      <td>12</td>\n",
       "      <td>4</td>\n",
       "      <td>0</td>\n",
       "      <td>12</td>\n",
       "      <td>8</td>\n",
       "      <td>16</td>\n",
       "      <td>20</td>\n",
       "    </tr>\n",
       "    <tr>\n",
       "      <td>6</td>\n",
       "      <td>20</td>\n",
       "      <td>28</td>\n",
       "      <td>24</td>\n",
       "      <td>16</td>\n",
       "      <td>8</td>\n",
       "      <td>12</td>\n",
       "      <td>0</td>\n",
       "      <td>4</td>\n",
       "      <td>14</td>\n",
       "      <td>10</td>\n",
       "    </tr>\n",
       "    <tr>\n",
       "      <td>7</td>\n",
       "      <td>16</td>\n",
       "      <td>24</td>\n",
       "      <td>28</td>\n",
       "      <td>20</td>\n",
       "      <td>12</td>\n",
       "      <td>8</td>\n",
       "      <td>4</td>\n",
       "      <td>0</td>\n",
       "      <td>10</td>\n",
       "      <td>14</td>\n",
       "    </tr>\n",
       "    <tr>\n",
       "      <td>8</td>\n",
       "      <td>24</td>\n",
       "      <td>30</td>\n",
       "      <td>34</td>\n",
       "      <td>28</td>\n",
       "      <td>20</td>\n",
       "      <td>16</td>\n",
       "      <td>14</td>\n",
       "      <td>10</td>\n",
       "      <td>0</td>\n",
       "      <td>4</td>\n",
       "    </tr>\n",
       "    <tr>\n",
       "      <td>9</td>\n",
       "      <td>28</td>\n",
       "      <td>34</td>\n",
       "      <td>30</td>\n",
       "      <td>24</td>\n",
       "      <td>16</td>\n",
       "      <td>20</td>\n",
       "      <td>10</td>\n",
       "      <td>14</td>\n",
       "      <td>4</td>\n",
       "      <td>0</td>\n",
       "    </tr>\n",
       "  </tbody>\n",
       "</table>\n",
       "</div>"
      ],
      "text/plain": [
       "    0   1   2   3   4   5   6   7   8   9\n",
       "0   0  10  14   4  12   8  20  16  24  28\n",
       "1  10   0   4  14  20  16  28  24  30  34\n",
       "2  14   4   0  10  16  20  24  28  34  30\n",
       "3   4  14  10   0   8  12  16  20  28  24\n",
       "4  12  20  16   8   0   4   8  12  20  16\n",
       "5   8  16  20  12   4   0  12   8  16  20\n",
       "6  20  28  24  16   8  12   0   4  14  10\n",
       "7  16  24  28  20  12   8   4   0  10  14\n",
       "8  24  30  34  28  20  16  14  10   0   4\n",
       "9  28  34  30  24  16  20  10  14   4   0"
      ]
     },
     "execution_count": 1179,
     "metadata": {},
     "output_type": "execute_result"
    }
   ],
   "source": [
    "ndiss"
   ]
  },
  {
   "cell_type": "markdown",
   "metadata": {},
   "source": [
    "What is the best pair? Best in this case being the farthest away."
   ]
  },
  {
   "cell_type": "code",
   "execution_count": 1181,
   "metadata": {},
   "outputs": [
    {
     "data": {
      "text/plain": [
       "(1, 9)"
      ]
     },
     "execution_count": 1181,
     "metadata": {},
     "output_type": "execute_result"
    }
   ],
   "source": [
    "best_pair = ndiss.stack().idxmax()\n",
    "best_pair"
   ]
  },
  {
   "cell_type": "code",
   "execution_count": 1183,
   "metadata": {},
   "outputs": [
    {
     "name": "stdout",
     "output_type": "stream",
     "text": [
      "[7, 10, 8, 2, 11, 5, 6, 0, 9, 3, 12, 1, 4]\n",
      "[8, 11, 0, 9, 3, 12, 6, 7, 1, 10, 4, 2, 5]\n"
     ]
    }
   ],
   "source": [
    "print(full_P[best_pair[0]])\n",
    "print(full_P[best_pair[1]])"
   ]
  },
  {
   "cell_type": "markdown",
   "metadata": {},
   "source": [
    "What did we find using our algorithm?"
   ]
  },
  {
   "cell_type": "code",
   "execution_count": 1185,
   "metadata": {},
   "outputs": [
    {
     "name": "stdout",
     "output_type": "stream",
     "text": [
      "(7, 10, 8, 2, 11, 5, 6, 0, 9, 3, 12, 1, 4)\n",
      "(8, 11, 0, 9, 3, 12, 6, 7, 1, 10, 4, 2, 5)\n"
     ]
    }
   ],
   "source": [
    "print(details_two_distant['perm_y'])\n",
    "print(details_two_distant['perm_x'])"
   ]
  },
  {
   "cell_type": "markdown",
   "metadata": {},
   "source": [
    "It's the same!"
   ]
  },
  {
   "cell_type": "markdown",
   "metadata": {},
   "source": [
    "### How does hillside compare?"
   ]
  },
  {
   "cell_type": "code",
   "execution_count": 1188,
   "metadata": {},
   "outputs": [
    {
     "name": "stdout",
     "output_type": "stream",
     "text": [
      "Updating opjective in 0.0070 seconds\n",
      "Start optimization 0\n",
      "Optimization in 0.0069 seconds\n",
      "End optimization 0\n",
      "Finished first optimization. Obj: 436\n",
      "Parameter OutputFlag unchanged\n",
      "   Value: 1  Min: 0  Max: 1  Default: 1\n",
      "Start optimization\n",
      "Optimize a model with 1302 rows, 312 columns and 4024 nonzeros\n",
      "Variable types: 0 continuous, 312 integer (312 binary)\n",
      "Coefficient statistics:\n",
      "  Matrix range     [1e+00, 8e+00]\n",
      "  Objective range  [1e+00, 1e+00]\n",
      "  Bounds range     [1e+00, 1e+00]\n",
      "  RHS range        [1e+00, 4e+01]\n",
      "Found heuristic solution: objective -0.0000000\n",
      "Presolve removed 1242 rows and 272 columns\n",
      "Presolve time: 0.00s\n",
      "Presolved: 60 rows, 40 columns, 180 nonzeros\n",
      "Found heuristic solution: objective 16.0000000\n",
      "Variable types: 0 continuous, 40 integer (40 binary)\n",
      "\n",
      "Root relaxation: cutoff, 0 iterations, 0.00 seconds\n",
      "\n",
      "Explored 0 nodes (0 simplex iterations) in 0.01 seconds\n",
      "Thread count was 8 (of 8 available processors)\n",
      "\n",
      "Solution count 2: 16 6 \n",
      "\n",
      "Optimal solution found (tolerance 1.00e-04)\n",
      "Best objective 1.600000000000e+01, best bound 1.600000000000e+01, gap 0.0000%\n",
      "Optimization in 0.0127 seconds\n",
      "End optimization\n"
     ]
    },
    {
     "data": {
      "text/plain": [
       "436"
      ]
     },
     "execution_count": 1188,
     "metadata": {},
     "output_type": "execute_result"
    }
   ],
   "source": [
    "k_two_distant_hillside,details_two_distant_hillside = pyrankability.hillside.bilp_two_most_distant(D_N_pal13.values,verbose=True)\n",
    "\n",
    "k_two_distant_hillside"
   ]
  },
  {
   "cell_type": "code",
   "execution_count": 1189,
   "metadata": {},
   "outputs": [
    {
     "name": "stdout",
     "output_type": "stream",
     "text": [
      "(8, 11, 9, 7, 12, 10, 6, 2, 0, 5, 3, 1, 4)\n",
      "(8, 7, 9, 11, 0, 2, 6, 10, 12, 1, 3, 5, 4)\n"
     ]
    }
   ],
   "source": [
    "print(details_two_distant_hillside['perm_y'])\n",
    "print(details_two_distant_hillside['perm_x'])"
   ]
  },
  {
   "cell_type": "markdown",
   "metadata": {},
   "source": [
    "# Please ignore everything lower than this for now"
   ]
  },
  {
   "cell_type": "code",
   "execution_count": 1174,
   "metadata": {},
   "outputs": [],
   "source": [
    "def get_x_from_perm(p):\n",
    "    xc = np.zeros((n,n))\n",
    "    p=perm_x\n",
    "    a=p[0]\n",
    "    s=0\n",
    "    for k,a in enumerate(p):\n",
    "        for b in p[k+1:]:\n",
    "            xc[a,b] = 1\n",
    "    return xc"
   ]
  },
  {
   "cell_type": "code",
   "execution_count": 1083,
   "metadata": {},
   "outputs": [
    {
     "data": {
      "text/plain": [
       "array([[0., 1., 1., 1., 1., 1., 1., 1., 1., 1., 1., 1., 1.],\n",
       "       [0., 0., 1., 1., 1., 1., 1., 1., 1., 1., 1., 1., 1.],\n",
       "       [0., 0., 0., 1., 1., 1., 1., 1., 1., 1., 1., 1., 1.],\n",
       "       [0., 0., 0., 0., 1., 1., 1., 1., 1., 1., 1., 1., 1.],\n",
       "       [0., 0., 0., 0., 0., 1., 1., 1., 1., 1., 1., 1., 1.],\n",
       "       [0., 0., 0., 0., 0., 0., 1., 1., 1., 1., 1., 1., 1.],\n",
       "       [0., 0., 0., 0., 0., 0., 0., 1., 1., 1., 1., 1., 1.],\n",
       "       [0., 0., 0., 0., 0., 0., 0., 0., 1., 1., 1., 1., 1.],\n",
       "       [0., 0., 0., 0., 0., 0., 0., 0., 0., 1., 1., 1., 1.],\n",
       "       [0., 0., 0., 0., 0., 0., 0., 0., 0., 0., 1., 1., 1.],\n",
       "       [0., 0., 0., 0., 0., 0., 0., 0., 0., 0., 0., 1., 1.],\n",
       "       [0., 0., 0., 0., 0., 0., 0., 0., 0., 0., 0., 0., 1.],\n",
       "       [0., 0., 0., 0., 0., 0., 0., 0., 0., 0., 0., 0., 0.]])"
      ]
     },
     "execution_count": 1083,
     "metadata": {},
     "output_type": "execute_result"
    }
   ],
   "source": [
    "xc1 = np.triu(np.ones((n,n)),1)\n",
    "xc1 = xc[np.ix_(perm_x,perm_x)]\n",
    "xc1"
   ]
  },
  {
   "cell_type": "code",
   "execution_count": 1079,
   "metadata": {},
   "outputs": [
    {
     "data": {
      "text/plain": [
       "57"
      ]
     },
     "execution_count": 1079,
     "metadata": {},
     "output_type": "execute_result"
    }
   ],
   "source": [
    "np.sum(np.triu(D_N_pal13.values[np.ix_(perm_x,perm_x)],1))"
   ]
  },
  {
   "cell_type": "code",
   "execution_count": 1084,
   "metadata": {},
   "outputs": [
    {
     "data": {
      "text/plain": [
       "39.0"
      ]
     },
     "execution_count": 1084,
     "metadata": {},
     "output_type": "execute_result"
    }
   ],
   "source": [
    "np.sum(xc1*D_N_pal13.values)"
   ]
  },
  {
   "cell_type": "code",
   "execution_count": 1085,
   "metadata": {},
   "outputs": [
    {
     "data": {
      "text/plain": [
       "57.0"
      ]
     },
     "execution_count": 1085,
     "metadata": {},
     "output_type": "execute_result"
    }
   ],
   "source": [
    "np.sum(xc*D_N_pal13.values)"
   ]
  },
  {
   "cell_type": "code",
   "execution_count": 929,
   "metadata": {},
   "outputs": [
    {
     "data": {
      "text/plain": [
       "([7, 8, 2, 11, 5, 6, 0, 9, 3, 12, 1, 10, 4],\n",
       " [7, 8, 2, 11, 5, 6, 0, 9, 3, 12, 1, 10, 4])"
      ]
     },
     "execution_count": 929,
     "metadata": {},
     "output_type": "execute_result"
    }
   ],
   "source": [
    "r = np.sum(xc,axis=0)\n",
    "ranking = np.argsort(r)\n",
    "list(ranking),perm_x"
   ]
  },
  {
   "cell_type": "code",
   "execution_count": 931,
   "metadata": {},
   "outputs": [
    {
     "data": {
      "text/plain": [
       "57.0"
      ]
     },
     "execution_count": 931,
     "metadata": {},
     "output_type": "execute_result"
    }
   ],
   "source": [
    "np.sum(xc*D_N_pal13.values)"
   ]
  },
  {
   "cell_type": "code",
   "execution_count": 932,
   "metadata": {},
   "outputs": [],
   "source": [
    "def compute_obj(p):\n",
    "    a=p[0]\n",
    "    s=0\n",
    "    for k,a in enumerate(p):\n",
    "        for b in p[k+1:]:\n",
    "            s+=D_N_pal13.values[a,b]\n",
    "    return s"
   ]
  },
  {
   "cell_type": "code",
   "execution_count": 933,
   "metadata": {},
   "outputs": [
    {
     "data": {
      "text/plain": [
       "57"
      ]
     },
     "execution_count": 933,
     "metadata": {},
     "output_type": "execute_result"
    }
   ],
   "source": [
    "compute_obj(perm_x)"
   ]
  },
  {
   "cell_type": "code",
   "execution_count": 934,
   "metadata": {},
   "outputs": [
    {
     "data": {
      "text/plain": [
       "57"
      ]
     },
     "execution_count": 934,
     "metadata": {},
     "output_type": "execute_result"
    }
   ],
   "source": [
    "compute_obj(perm_y)"
   ]
  },
  {
   "cell_type": "code",
   "execution_count": 1086,
   "metadata": {},
   "outputs": [
    {
     "data": {
      "text/plain": [
       "array([[0., 1., 0., 1., 1., 1., 1., 1., 0., 1., 1., 0., 1.],\n",
       "       [0., 0., 0., 0., 1., 1., 0., 0., 0., 0., 1., 0., 0.],\n",
       "       [1., 1., 0., 1., 1., 1., 1., 1., 0., 1., 1., 1., 1.],\n",
       "       [0., 1., 0., 0., 1., 1., 1., 1., 0., 0., 1., 0., 1.],\n",
       "       [0., 0., 0., 0., 0., 1., 0., 0., 0., 0., 0., 0., 0.],\n",
       "       [0., 0., 0., 0., 0., 0., 0., 0., 0., 0., 0., 0., 0.],\n",
       "       [0., 1., 0., 0., 1., 1., 0., 1., 0., 0., 1., 0., 0.],\n",
       "       [0., 1., 0., 0., 1., 1., 0., 0., 0., 0., 1., 0., 0.],\n",
       "       [1., 1., 1., 1., 1., 1., 1., 1., 0., 1., 1., 1., 1.],\n",
       "       [0., 1., 0., 1., 1., 1., 1., 1., 0., 0., 1., 0., 1.],\n",
       "       [0., 0., 0., 0., 1., 1., 0., 0., 0., 0., 0., 0., 0.],\n",
       "       [1., 1., 0., 1., 1., 1., 1., 1., 0., 1., 1., 0., 1.],\n",
       "       [0., 1., 0., 0., 1., 1., 1., 1., 0., 0., 1., 0., 0.]])"
      ]
     },
     "execution_count": 1086,
     "metadata": {},
     "output_type": "execute_result"
    }
   ],
   "source": [
    "#yc = np.triu(np.ones((n,n)),1)\n",
    "#yc = yc[np.ix_(perm_y,perm_y)]\n",
    "#yc\n",
    "yc = np.zeros((n,n))\n",
    "p=perm_y\n",
    "a=p[0]\n",
    "s=0\n",
    "for k,a in enumerate(p):\n",
    "    for b in p[k+1:]:\n",
    "        yc[a,b] = 1\n",
    "yc"
   ]
  },
  {
   "cell_type": "code",
   "execution_count": 936,
   "metadata": {},
   "outputs": [
    {
     "data": {
      "text/plain": [
       "57.0"
      ]
     },
     "execution_count": 936,
     "metadata": {},
     "output_type": "execute_result"
    }
   ],
   "source": [
    "np.sum(yc*D_N_pal13.values)"
   ]
  },
  {
   "cell_type": "code",
   "execution_count": 1072,
   "metadata": {},
   "outputs": [
    {
     "data": {
      "text/plain": [
       "([7, 8, 2, 11, 5, 6, 0, 9, 3, 12, 1, 10, 4],\n",
       " [8, 2, 11, 0, 9, 3, 12, 6, 7, 1, 10, 4, 5])"
      ]
     },
     "execution_count": 1072,
     "metadata": {},
     "output_type": "execute_result"
    }
   ],
   "source": [
    "perm_x,perm_y"
   ]
  },
  {
   "cell_type": "code",
   "execution_count": 1133,
   "metadata": {},
   "outputs": [
    {
     "data": {
      "text/plain": [
       "0.1282051282051282"
      ]
     },
     "execution_count": 1133,
     "metadata": {},
     "output_type": "execute_result"
    }
   ],
   "source": [
    "(44-34)/pyrankability.common.nCr(n,2)"
   ]
  },
  {
   "cell_type": "code",
   "execution_count": 1134,
   "metadata": {},
   "outputs": [
    {
     "data": {
      "text/plain": [
       "0.48717948717948717"
      ]
     },
     "execution_count": 1134,
     "metadata": {},
     "output_type": "execute_result"
    }
   ],
   "source": [
    "(44+14-20)/pyrankability.common.nCr(n,2)"
   ]
  },
  {
   "cell_type": "code",
   "execution_count": 1144,
   "metadata": {},
   "outputs": [],
   "source": [
    "#perm_x,perm_y=details_two_distant['perm_x'],details_two_distant['perm_y']\n",
    "perm_x = full_P[0]\n",
    "perm_y = full_P[6]"
   ]
  },
  {
   "cell_type": "code",
   "execution_count": 1164,
   "metadata": {},
   "outputs": [
    {
     "data": {
      "text/plain": [
       "0.4871794871794871"
      ]
     },
     "execution_count": 1164,
     "metadata": {},
     "output_type": "execute_result"
    }
   ],
   "source": [
    "rho,pval1=stats.kendalltau(np.sum(xc,axis=0), np.sum(yc,axis=0))\n",
    "rho"
   ]
  },
  {
   "cell_type": "code",
   "execution_count": 1153,
   "metadata": {},
   "outputs": [],
   "source": []
  },
  {
   "cell_type": "code",
   "execution_count": 1154,
   "metadata": {},
   "outputs": [
    {
     "data": {
      "text/plain": [
       "array([[78., 68., 64., 74., 66., 70., 58., 62., 54., 50.],\n",
       "       [68., 78., 74., 64., 58., 62., 50., 54., 48., 44.],\n",
       "       [64., 74., 78., 68., 62., 58., 54., 50., 44., 48.],\n",
       "       [74., 64., 68., 78., 70., 66., 62., 58., 50., 54.],\n",
       "       [66., 58., 62., 70., 78., 74., 70., 66., 58., 62.],\n",
       "       [70., 62., 58., 66., 74., 78., 66., 70., 62., 58.],\n",
       "       [58., 50., 54., 62., 70., 66., 78., 74., 64., 68.],\n",
       "       [62., 54., 50., 58., 66., 70., 74., 78., 68., 64.],\n",
       "       [54., 48., 44., 50., 58., 62., 64., 68., 78., 74.],\n",
       "       [50., 44., 48., 54., 62., 58., 68., 64., 74., 78.]])"
      ]
     },
     "execution_count": 1154,
     "metadata": {},
     "output_type": "execute_result"
    }
   ],
   "source": [
    "ncons"
   ]
  },
  {
   "cell_type": "code",
   "execution_count": 1155,
   "metadata": {},
   "outputs": [
    {
     "data": {
      "text/plain": [
       "array([[ 0., 10., 14.,  4., 12.,  8., 20., 16., 24., 28.],\n",
       "       [10.,  0.,  4., 14., 20., 16., 28., 24., 30., 34.],\n",
       "       [14.,  4.,  0., 10., 16., 20., 24., 28., 34., 30.],\n",
       "       [ 4., 14., 10.,  0.,  8., 12., 16., 20., 28., 24.],\n",
       "       [12., 20., 16.,  8.,  0.,  4.,  8., 12., 20., 16.],\n",
       "       [ 8., 16., 20., 12.,  4.,  0., 12.,  8., 16., 20.],\n",
       "       [20., 28., 24., 16.,  8., 12.,  0.,  4., 14., 10.],\n",
       "       [16., 24., 28., 20., 12.,  8.,  4.,  0., 10., 14.],\n",
       "       [24., 30., 34., 28., 20., 16., 14., 10.,  0.,  4.],\n",
       "       [28., 34., 30., 24., 16., 20., 10., 14.,  4.,  0.]])"
      ]
     },
     "execution_count": 1155,
     "metadata": {},
     "output_type": "execute_result"
    }
   ],
   "source": [
    "ndiss"
   ]
  },
  {
   "cell_type": "code",
   "execution_count": 1156,
   "metadata": {},
   "outputs": [
    {
     "data": {
      "text/html": [
       "<div>\n",
       "<style scoped>\n",
       "    .dataframe tbody tr th:only-of-type {\n",
       "        vertical-align: middle;\n",
       "    }\n",
       "\n",
       "    .dataframe tbody tr th {\n",
       "        vertical-align: top;\n",
       "    }\n",
       "\n",
       "    .dataframe thead th {\n",
       "        text-align: right;\n",
       "    }\n",
       "</style>\n",
       "<table border=\"1\" class=\"dataframe\">\n",
       "  <thead>\n",
       "    <tr style=\"text-align: right;\">\n",
       "      <th></th>\n",
       "      <th>0</th>\n",
       "      <th>1</th>\n",
       "      <th>2</th>\n",
       "      <th>3</th>\n",
       "      <th>4</th>\n",
       "      <th>5</th>\n",
       "      <th>6</th>\n",
       "      <th>7</th>\n",
       "      <th>8</th>\n",
       "      <th>9</th>\n",
       "    </tr>\n",
       "  </thead>\n",
       "  <tbody>\n",
       "    <tr>\n",
       "      <td>0</td>\n",
       "      <td>78.0</td>\n",
       "      <td>58.0</td>\n",
       "      <td>50.0</td>\n",
       "      <td>70.0</td>\n",
       "      <td>54.0</td>\n",
       "      <td>62.0</td>\n",
       "      <td>38.0</td>\n",
       "      <td>46.0</td>\n",
       "      <td>30.0</td>\n",
       "      <td>22.0</td>\n",
       "    </tr>\n",
       "    <tr>\n",
       "      <td>1</td>\n",
       "      <td>58.0</td>\n",
       "      <td>78.0</td>\n",
       "      <td>70.0</td>\n",
       "      <td>50.0</td>\n",
       "      <td>38.0</td>\n",
       "      <td>46.0</td>\n",
       "      <td>22.0</td>\n",
       "      <td>30.0</td>\n",
       "      <td>18.0</td>\n",
       "      <td>10.0</td>\n",
       "    </tr>\n",
       "    <tr>\n",
       "      <td>2</td>\n",
       "      <td>50.0</td>\n",
       "      <td>70.0</td>\n",
       "      <td>78.0</td>\n",
       "      <td>58.0</td>\n",
       "      <td>46.0</td>\n",
       "      <td>38.0</td>\n",
       "      <td>30.0</td>\n",
       "      <td>22.0</td>\n",
       "      <td>10.0</td>\n",
       "      <td>18.0</td>\n",
       "    </tr>\n",
       "    <tr>\n",
       "      <td>3</td>\n",
       "      <td>70.0</td>\n",
       "      <td>50.0</td>\n",
       "      <td>58.0</td>\n",
       "      <td>78.0</td>\n",
       "      <td>62.0</td>\n",
       "      <td>54.0</td>\n",
       "      <td>46.0</td>\n",
       "      <td>38.0</td>\n",
       "      <td>22.0</td>\n",
       "      <td>30.0</td>\n",
       "    </tr>\n",
       "    <tr>\n",
       "      <td>4</td>\n",
       "      <td>54.0</td>\n",
       "      <td>38.0</td>\n",
       "      <td>46.0</td>\n",
       "      <td>62.0</td>\n",
       "      <td>78.0</td>\n",
       "      <td>70.0</td>\n",
       "      <td>62.0</td>\n",
       "      <td>54.0</td>\n",
       "      <td>38.0</td>\n",
       "      <td>46.0</td>\n",
       "    </tr>\n",
       "    <tr>\n",
       "      <td>5</td>\n",
       "      <td>62.0</td>\n",
       "      <td>46.0</td>\n",
       "      <td>38.0</td>\n",
       "      <td>54.0</td>\n",
       "      <td>70.0</td>\n",
       "      <td>78.0</td>\n",
       "      <td>54.0</td>\n",
       "      <td>62.0</td>\n",
       "      <td>46.0</td>\n",
       "      <td>38.0</td>\n",
       "    </tr>\n",
       "    <tr>\n",
       "      <td>6</td>\n",
       "      <td>38.0</td>\n",
       "      <td>22.0</td>\n",
       "      <td>30.0</td>\n",
       "      <td>46.0</td>\n",
       "      <td>62.0</td>\n",
       "      <td>54.0</td>\n",
       "      <td>78.0</td>\n",
       "      <td>70.0</td>\n",
       "      <td>50.0</td>\n",
       "      <td>58.0</td>\n",
       "    </tr>\n",
       "    <tr>\n",
       "      <td>7</td>\n",
       "      <td>46.0</td>\n",
       "      <td>30.0</td>\n",
       "      <td>22.0</td>\n",
       "      <td>38.0</td>\n",
       "      <td>54.0</td>\n",
       "      <td>62.0</td>\n",
       "      <td>70.0</td>\n",
       "      <td>78.0</td>\n",
       "      <td>58.0</td>\n",
       "      <td>50.0</td>\n",
       "    </tr>\n",
       "    <tr>\n",
       "      <td>8</td>\n",
       "      <td>30.0</td>\n",
       "      <td>18.0</td>\n",
       "      <td>10.0</td>\n",
       "      <td>22.0</td>\n",
       "      <td>38.0</td>\n",
       "      <td>46.0</td>\n",
       "      <td>50.0</td>\n",
       "      <td>58.0</td>\n",
       "      <td>78.0</td>\n",
       "      <td>70.0</td>\n",
       "    </tr>\n",
       "    <tr>\n",
       "      <td>9</td>\n",
       "      <td>22.0</td>\n",
       "      <td>10.0</td>\n",
       "      <td>18.0</td>\n",
       "      <td>30.0</td>\n",
       "      <td>46.0</td>\n",
       "      <td>38.0</td>\n",
       "      <td>58.0</td>\n",
       "      <td>50.0</td>\n",
       "      <td>70.0</td>\n",
       "      <td>78.0</td>\n",
       "    </tr>\n",
       "  </tbody>\n",
       "</table>\n",
       "</div>"
      ],
      "text/plain": [
       "      0     1     2     3     4     5     6     7     8     9\n",
       "0  78.0  58.0  50.0  70.0  54.0  62.0  38.0  46.0  30.0  22.0\n",
       "1  58.0  78.0  70.0  50.0  38.0  46.0  22.0  30.0  18.0  10.0\n",
       "2  50.0  70.0  78.0  58.0  46.0  38.0  30.0  22.0  10.0  18.0\n",
       "3  70.0  50.0  58.0  78.0  62.0  54.0  46.0  38.0  22.0  30.0\n",
       "4  54.0  38.0  46.0  62.0  78.0  70.0  62.0  54.0  38.0  46.0\n",
       "5  62.0  46.0  38.0  54.0  70.0  78.0  54.0  62.0  46.0  38.0\n",
       "6  38.0  22.0  30.0  46.0  62.0  54.0  78.0  70.0  50.0  58.0\n",
       "7  46.0  30.0  22.0  38.0  54.0  62.0  70.0  78.0  58.0  50.0\n",
       "8  30.0  18.0  10.0  22.0  38.0  46.0  50.0  58.0  78.0  70.0\n",
       "9  22.0  10.0  18.0  30.0  46.0  38.0  58.0  50.0  70.0  78.0"
      ]
     },
     "execution_count": 1156,
     "metadata": {},
     "output_type": "execute_result"
    }
   ],
   "source": [
    "results = pd.DataFrame(ncons-ndiss)\n",
    "results"
   ]
  },
  {
   "cell_type": "code",
   "execution_count": 1161,
   "metadata": {},
   "outputs": [
    {
     "data": {
      "text/plain": [
       "(1, 9)"
      ]
     },
     "execution_count": 1161,
     "metadata": {},
     "output_type": "execute_result"
    }
   ],
   "source": [
    "results.stack().idxmin()"
   ]
  },
  {
   "cell_type": "code",
   "execution_count": 1162,
   "metadata": {},
   "outputs": [
    {
     "data": {
      "text/plain": [
       "([7, 10, 8, 2, 11, 5, 6, 0, 9, 3, 12, 1, 4],\n",
       " [8, 11, 0, 9, 3, 12, 6, 7, 1, 10, 4, 2, 5])"
      ]
     },
     "execution_count": 1162,
     "metadata": {},
     "output_type": "execute_result"
    }
   ],
   "source": [
    "full_P[1],full_P[9]"
   ]
  },
  {
   "cell_type": "code",
   "execution_count": 1163,
   "metadata": {},
   "outputs": [
    {
     "data": {
      "text/plain": [
       "((8, 11, 0, 9, 3, 12, 6, 7, 1, 10, 4, 2, 5),\n",
       " (7, 10, 8, 2, 11, 5, 6, 0, 9, 3, 12, 1, 4))"
      ]
     },
     "execution_count": 1163,
     "metadata": {},
     "output_type": "execute_result"
    }
   ],
   "source": [
    "details_two_distant['perm_x'],details_two_distant['perm_y']"
   ]
  },
  {
   "cell_type": "code",
   "execution_count": 1128,
   "metadata": {},
   "outputs": [
    {
     "data": {
      "text/plain": [
       "array([[ 0.,  0.,  0.,  0.,  0., -1., -1., -1.,  0.,  0.,  0.,  0.,  0.],\n",
       "       [ 0.,  0.,  0.,  0.,  0., -1.,  0.,  0.,  0.,  0.,  0.,  0.,  0.],\n",
       "       [ 0.,  0.,  0.,  0.,  0.,  0.,  0., -1.,  0.,  0.,  0.,  0.,  0.],\n",
       "       [ 0.,  0.,  0.,  0.,  0., -1., -1., -1.,  0.,  0.,  0.,  0.,  0.],\n",
       "       [ 0.,  0.,  0.,  0.,  0., -1.,  0.,  0.,  0.,  0.,  0.,  0.,  0.],\n",
       "       [ 1.,  1.,  0.,  1.,  1.,  0.,  1.,  0.,  0.,  1.,  1.,  0.,  1.],\n",
       "       [ 1.,  0.,  0.,  1.,  0., -1.,  0., -1.,  0.,  1.,  0.,  0.,  1.],\n",
       "       [ 1.,  0.,  1.,  1.,  0.,  0.,  1.,  0.,  1.,  1.,  0.,  1.,  1.],\n",
       "       [ 0.,  0.,  0.,  0.,  0.,  0.,  0., -1.,  0.,  0.,  0.,  0.,  0.],\n",
       "       [ 0.,  0.,  0.,  0.,  0., -1., -1., -1.,  0.,  0.,  0.,  0.,  0.],\n",
       "       [ 0.,  0.,  0.,  0.,  0., -1.,  0.,  0.,  0.,  0.,  0.,  0.,  0.],\n",
       "       [ 0.,  0.,  0.,  0.,  0.,  0.,  0., -1.,  0.,  0.,  0.,  0.,  0.],\n",
       "       [ 0.,  0.,  0.,  0.,  0., -1., -1., -1.,  0.,  0.,  0.,  0.,  0.]])"
      ]
     },
     "execution_count": 1128,
     "metadata": {},
     "output_type": "execute_result"
    }
   ],
   "source": [
    "xc-yc"
   ]
  },
  {
   "cell_type": "code",
   "execution_count": 1129,
   "metadata": {},
   "outputs": [
    {
     "data": {
      "text/plain": [
       "array([[0., 0., 1., 0., 0., 1., 1., 1., 0., 0., 1., 0., 0.],\n",
       "       [0., 0., 1., 0., 0., 1., 0., 0., 0., 0., 1., 0., 0.],\n",
       "       [0., 0., 0., 0., 0., 0., 0., 0., 0., 0., 0., 0., 0.],\n",
       "       [0., 0., 0., 0., 0., 1., 1., 1., 0., 0., 1., 0., 0.],\n",
       "       [0., 0., 0., 0., 0., 1., 0., 0., 0., 0., 0., 0., 0.],\n",
       "       [0., 0., 0., 0., 0., 0., 0., 0., 0., 0., 0., 0., 0.],\n",
       "       [0., 0., 0., 0., 0., 0., 0., 1., 0., 0., 1., 0., 0.],\n",
       "       [0., 0., 0., 0., 0., 0., 0., 0., 0., 0., 0., 0., 0.],\n",
       "       [0., 0., 0., 0., 0., 0., 0., 0., 0., 0., 1., 0., 0.],\n",
       "       [0., 0., 0., 0., 0., 0., 0., 0., 0., 0., 1., 0., 0.],\n",
       "       [0., 0., 0., 0., 0., 0., 0., 0., 0., 0., 0., 0., 0.],\n",
       "       [0., 0., 0., 0., 0., 0., 0., 0., 0., 0., 0., 0., 0.],\n",
       "       [0., 0., 0., 0., 0., 0., 0., 0., 0., 0., 0., 0., 0.]])"
      ]
     },
     "execution_count": 1129,
     "metadata": {},
     "output_type": "execute_result"
    }
   ],
   "source": [
    "uc"
   ]
  },
  {
   "cell_type": "code",
   "execution_count": 1130,
   "metadata": {},
   "outputs": [
    {
     "data": {
      "text/plain": [
       "array([[0., 0., 0., 0., 0., 0., 0., 0., 0., 0., 0., 0., 0.],\n",
       "       [0., 0., 0., 0., 0., 0., 0., 0., 0., 0., 0., 0., 0.],\n",
       "       [0., 0., 0., 1., 1., 0., 1., 0., 0., 1., 0., 1., 1.],\n",
       "       [0., 0., 0., 0., 0., 0., 0., 0., 0., 0., 0., 0., 0.],\n",
       "       [0., 0., 0., 0., 0., 0., 0., 0., 0., 0., 0., 0., 0.],\n",
       "       [0., 0., 0., 0., 0., 0., 1., 0., 0., 1., 0., 0., 1.],\n",
       "       [0., 0., 0., 0., 0., 0., 0., 0., 0., 1., 0., 0., 1.],\n",
       "       [0., 0., 0., 0., 0., 0., 0., 0., 1., 1., 0., 1., 1.],\n",
       "       [0., 0., 0., 0., 0., 0., 0., 0., 0., 0., 0., 0., 0.],\n",
       "       [0., 0., 0., 0., 0., 0., 0., 0., 0., 0., 0., 0., 0.],\n",
       "       [0., 0., 0., 0., 0., 0., 0., 0., 0., 0., 0., 1., 1.],\n",
       "       [0., 0., 0., 0., 0., 0., 0., 0., 0., 0., 0., 0., 0.],\n",
       "       [0., 0., 0., 0., 0., 0., 0., 0., 0., 0., 0., 0., 0.]])"
      ]
     },
     "execution_count": 1130,
     "metadata": {},
     "output_type": "execute_result"
    }
   ],
   "source": [
    "vc"
   ]
  },
  {
   "cell_type": "code",
   "execution_count": 1131,
   "metadata": {},
   "outputs": [
    {
     "data": {
      "text/plain": [
       "34.0"
      ]
     },
     "execution_count": 1131,
     "metadata": {},
     "output_type": "execute_result"
    }
   ],
   "source": [
    "np.sum(uc+vc)"
   ]
  },
  {
   "cell_type": "code",
   "execution_count": 1087,
   "metadata": {},
   "outputs": [
    {
     "data": {
      "text/plain": [
       "array([[0, 0, 0, 0, 0, 0, 0, 0, 0, 0, 0, 0, 0],\n",
       "       [0, 0, 0, 0, 0, 0, 0, 0, 0, 0, 0, 0, 0],\n",
       "       [0, 0, 0, 0, 0, 0, 0, 0, 0, 0, 0, 0, 0],\n",
       "       [0, 0, 0, 0, 0, 0, 0, 0, 0, 0, 0, 0, 0],\n",
       "       [0, 0, 0, 0, 0, 0, 0, 0, 0, 0, 0, 0, 0],\n",
       "       [0, 0, 0, 0, 0, 0, 1, 0, 0, 1, 1, 0, 1],\n",
       "       [0, 0, 0, 0, 0, 0, 0, 0, 0, 1, 0, 0, 1],\n",
       "       [0, 0, 0, 0, 0, 0, 0, 0, 1, 1, 0, 1, 1],\n",
       "       [0, 0, 0, 0, 0, 0, 0, 0, 0, 0, 0, 0, 0],\n",
       "       [0, 0, 0, 0, 0, 0, 0, 0, 0, 0, 0, 0, 0],\n",
       "       [0, 0, 0, 0, 0, 0, 0, 0, 0, 0, 0, 0, 0],\n",
       "       [0, 0, 0, 0, 0, 0, 0, 0, 0, 0, 0, 0, 0],\n",
       "       [0, 0, 0, 0, 0, 0, 0, 0, 0, 0, 0, 0, 0]])"
      ]
     },
     "execution_count": 1087,
     "metadata": {},
     "output_type": "execute_result"
    }
   ],
   "source": [
    "uc=np.triu(((xc-yc)>0),1)*1#+np.tril(((xc-yc)<0),1)*1\n",
    "uc"
   ]
  },
  {
   "cell_type": "code",
   "execution_count": 1088,
   "metadata": {},
   "outputs": [
    {
     "data": {
      "text/plain": [
       "array([[0, 0, 0, 0, 0, 1, 1, 1, 0, 0, 0, 0, 0],\n",
       "       [0, 0, 0, 0, 0, 1, 0, 0, 0, 0, 0, 0, 0],\n",
       "       [0, 0, 0, 0, 0, 0, 0, 1, 0, 0, 0, 0, 0],\n",
       "       [0, 0, 0, 0, 0, 1, 1, 1, 0, 0, 0, 0, 0],\n",
       "       [0, 0, 0, 0, 0, 1, 0, 0, 0, 0, 0, 0, 0],\n",
       "       [0, 0, 0, 0, 0, 0, 0, 0, 0, 0, 0, 0, 0],\n",
       "       [0, 0, 0, 0, 0, 0, 0, 1, 0, 0, 0, 0, 0],\n",
       "       [0, 0, 0, 0, 0, 0, 0, 0, 0, 0, 0, 0, 0],\n",
       "       [0, 0, 0, 0, 0, 0, 0, 0, 0, 0, 0, 0, 0],\n",
       "       [0, 0, 0, 0, 0, 0, 0, 0, 0, 0, 0, 0, 0],\n",
       "       [0, 0, 0, 0, 0, 0, 0, 0, 0, 0, 0, 0, 0],\n",
       "       [0, 0, 0, 0, 0, 0, 0, 0, 0, 0, 0, 0, 0],\n",
       "       [0, 0, 0, 0, 0, 0, 0, 0, 0, 0, 0, 0, 0]])"
      ]
     },
     "execution_count": 1088,
     "metadata": {},
     "output_type": "execute_result"
    }
   ],
   "source": [
    "vc=np.triu(((xc-yc)<0),1)*1#+np.tril(((xc-yc)>0),1)*1\n",
    "vc"
   ]
  },
  {
   "cell_type": "code",
   "execution_count": 1090,
   "metadata": {},
   "outputs": [
    {
     "data": {
      "text/plain": [
       "20"
      ]
     },
     "execution_count": 1090,
     "metadata": {},
     "output_type": "execute_result"
    }
   ],
   "source": [
    "np.sum(uc+vc)"
   ]
  },
  {
   "cell_type": "code",
   "execution_count": 1115,
   "metadata": {},
   "outputs": [],
   "source": [
    "to_check={'x':xc,'y':yc,'u':uc,'v':vc}"
   ]
  },
  {
   "cell_type": "code",
   "execution_count": 1116,
   "metadata": {},
   "outputs": [],
   "source": [
    "#first_k,first_details = pyrankability.lop.bilp(D_N_pal13.values,num_random_restarts=100)"
   ]
  },
  {
   "cell_type": "code",
   "execution_count": 1117,
   "metadata": {},
   "outputs": [
    {
     "data": {
      "text/plain": [
       "{(7, 8, 2, 11, 0, 9, 3, 12, 6, 1, 10, 4, 5),\n",
       " (7, 8, 2, 11, 5, 0, 9, 3, 12, 6, 1, 10, 4),\n",
       " (7, 8, 2, 11, 5, 6, 0, 9, 3, 12, 1, 10, 4),\n",
       " (7, 8, 2, 11, 6, 0, 9, 3, 12, 1, 10, 4, 5),\n",
       " (7, 10, 8, 2, 11, 5, 0, 9, 3, 12, 6, 1, 4),\n",
       " (7, 10, 8, 2, 11, 5, 6, 0, 9, 3, 12, 1, 4),\n",
       " (8, 2, 11, 0, 9, 3, 12, 6, 7, 1, 10, 4, 5),\n",
       " (8, 2, 11, 6, 0, 9, 3, 12, 7, 1, 10, 4, 5),\n",
       " (8, 11, 0, 9, 3, 12, 6, 7, 1, 10, 4, 2, 5),\n",
       " (8, 11, 6, 0, 9, 3, 12, 7, 1, 10, 4, 2, 5)}"
      ]
     },
     "execution_count": 1117,
     "metadata": {},
     "output_type": "execute_result"
    }
   ],
   "source": [
    "set(first_details['P'])"
   ]
  },
  {
   "cell_type": "code",
   "execution_count": 1094,
   "metadata": {},
   "outputs": [
    {
     "data": {
      "text/plain": [
       "10"
      ]
     },
     "execution_count": 1094,
     "metadata": {},
     "output_type": "execute_result"
    }
   ],
   "source": [
    "len(set(first_details['P']))"
   ]
  },
  {
   "cell_type": "code",
   "execution_count": 1095,
   "metadata": {},
   "outputs": [
    {
     "data": {
      "text/plain": [
       "array([[0, 1, 0, 1, 1, 0, 0, 0, 0, 1, 1, 0, 1],\n",
       "       [0, 0, 0, 0, 1, 0, 0, 0, 0, 0, 1, 0, 0],\n",
       "       [1, 1, 0, 1, 1, 1, 1, 0, 0, 1, 1, 1, 1],\n",
       "       [0, 1, 0, 0, 1, 0, 0, 0, 0, 0, 1, 0, 1],\n",
       "       [0, 0, 0, 0, 0, 0, 0, 0, 0, 0, 0, 0, 0],\n",
       "       [1, 1, 0, 1, 1, 0, 1, 0, 0, 1, 1, 0, 1],\n",
       "       [1, 1, 0, 1, 1, 0, 0, 0, 0, 1, 1, 0, 1],\n",
       "       [1, 1, 1, 1, 1, 1, 1, 0, 1, 1, 1, 1, 1],\n",
       "       [1, 1, 1, 1, 1, 1, 1, 0, 0, 1, 1, 1, 1],\n",
       "       [0, 1, 0, 1, 1, 0, 0, 0, 0, 0, 1, 0, 1],\n",
       "       [0, 0, 0, 0, 1, 0, 0, 0, 0, 0, 0, 0, 0],\n",
       "       [1, 1, 0, 1, 1, 1, 1, 0, 0, 1, 1, 0, 1],\n",
       "       [0, 1, 0, 0, 1, 0, 0, 0, 0, 0, 1, 0, 0]])"
      ]
     },
     "execution_count": 1095,
     "metadata": {},
     "output_type": "execute_result"
    }
   ],
   "source": [
    "for i,p in enumerate(first_details['P']):\n",
    "    if np.all(list(p) == list(perm_x)):\n",
    "        x_correct = first_details['xs'][i]\n",
    "        break\n",
    "x_correct"
   ]
  },
  {
   "cell_type": "code",
   "execution_count": 1096,
   "metadata": {},
   "outputs": [
    {
     "data": {
      "text/plain": [
       "(array([ 6, 10,  2,  8, 12,  4,  5,  0,  1,  7, 11,  3,  9]),\n",
       " array([ 6., 10.,  2.,  8., 12.,  4.,  5.,  0.,  1.,  7., 11.,  3.,  9.]))"
      ]
     },
     "execution_count": 1096,
     "metadata": {},
     "output_type": "execute_result"
    }
   ],
   "source": [
    "np.sum(x_correct,axis=0),np.sum(xc,axis=0)"
   ]
  },
  {
   "cell_type": "code",
   "execution_count": 1097,
   "metadata": {},
   "outputs": [
    {
     "data": {
      "text/plain": [
       "True"
      ]
     },
     "execution_count": 1097,
     "metadata": {},
     "output_type": "execute_result"
    }
   ],
   "source": [
    "np.all(x_correct==xc)"
   ]
  },
  {
   "cell_type": "code",
   "execution_count": 1098,
   "metadata": {},
   "outputs": [
    {
     "data": {
      "text/plain": [
       "array([[0., 1., 0., 1., 1., 0., 0., 0., 0., 1., 1., 0., 1.],\n",
       "       [0., 0., 0., 0., 1., 0., 0., 0., 0., 0., 1., 0., 0.],\n",
       "       [1., 1., 0., 1., 1., 1., 1., 0., 0., 1., 1., 1., 1.],\n",
       "       [0., 1., 0., 0., 1., 0., 0., 0., 0., 0., 1., 0., 1.],\n",
       "       [0., 0., 0., 0., 0., 0., 0., 0., 0., 0., 0., 0., 0.],\n",
       "       [1., 1., 0., 1., 1., 0., 1., 0., 0., 1., 1., 0., 1.],\n",
       "       [1., 1., 0., 1., 1., 0., 0., 0., 0., 1., 1., 0., 1.],\n",
       "       [1., 1., 1., 1., 1., 1., 1., 0., 1., 1., 1., 1., 1.],\n",
       "       [1., 1., 1., 1., 1., 1., 1., 0., 0., 1., 1., 1., 1.],\n",
       "       [0., 1., 0., 1., 1., 0., 0., 0., 0., 0., 1., 0., 1.],\n",
       "       [0., 0., 0., 0., 1., 0., 0., 0., 0., 0., 0., 0., 0.],\n",
       "       [1., 1., 0., 1., 1., 1., 1., 0., 0., 1., 1., 0., 1.],\n",
       "       [0., 1., 0., 0., 1., 0., 0., 0., 0., 0., 1., 0., 0.]])"
      ]
     },
     "execution_count": 1098,
     "metadata": {},
     "output_type": "execute_result"
    }
   ],
   "source": [
    "xc"
   ]
  },
  {
   "cell_type": "code",
   "execution_count": 1124,
   "metadata": {},
   "outputs": [
    {
     "name": "stdout",
     "output_type": "stream",
     "text": [
      "    0  1  2  3  4  5  6  7  8  9  10  11  12\n",
      "0   0  1  0  1  1  0  0  0  0  1   1   0   1\n",
      "1   0  0  1  0  1  1  0  0  0  0   1   1   0\n",
      "2   1  0  0  1  0  1  1  0  0  0   0   1   1\n",
      "3   0  1  0  0  1  0  1  1  0  0   0   0   1\n",
      "4   0  0  1  0  0  1  0  1  1  0   0   0   0\n",
      "5   1  0  0  1  0  0  1  0  1  1   0   0   0\n",
      "6   1  1  0  0  1  0  0  1  0  1   1   0   0\n",
      "7   1  1  1  0  0  1  0  0  1  0   1   1   0\n",
      "8   1  1  1  1  0  0  1  0  0  1   0   1   1\n",
      "9   0  1  1  1  1  0  0  1  0  0   1   0   1\n",
      "10  0  0  1  1  1  1  0  0  1  0   0   1   0\n",
      "11  1  0  0  1  1  1  1  0  0  1   0   0   1\n",
      "12  0  1  0  0  1  1  1  1  0  0   1   0   0\n",
      "Parameter OutputFlag unchanged\n",
      "   Value: 1  Min: 0  Max: 1  Default: 1\n",
      "Updating opjective in 0.0054 seconds\n",
      "Start optimization 0\n",
      "Optimize a model with 572 rows, 78 columns and 1716 nonzeros\n",
      "Variable types: 0 continuous, 78 integer (78 binary)\n",
      "Coefficient statistics:\n",
      "  Matrix range     [1e+00, 1e+00]\n",
      "  Objective range  [1e+00, 1e+00]\n",
      "  Bounds range     [1e+00, 1e+00]\n",
      "  RHS range        [1e+00, 1e+00]\n",
      "Found heuristic solution: objective 45.0000000\n",
      "Found heuristic solution: objective 50.0000000\n",
      "Presolve time: 0.00s\n",
      "Presolved: 572 rows, 78 columns, 1716 nonzeros\n",
      "Variable types: 0 continuous, 78 integer (78 binary)\n",
      "\n",
      "Root relaxation: objective 5.700000e+01, 49 iterations, 0.00 seconds\n",
      "\n",
      "    Nodes    |    Current Node    |     Objective Bounds      |     Work\n",
      " Expl Unexpl |  Obj  Depth IntInf | Incumbent    BestBd   Gap | It/Node Time\n",
      "\n",
      "*    0     0               0      57.0000000   57.00000  0.00%     -    0s\n",
      "\n",
      "Explored 0 nodes (49 simplex iterations) in 0.02 seconds\n",
      "Thread count was 8 (of 8 available processors)\n",
      "\n",
      "Solution count 3: 57 50 45 \n",
      "\n",
      "Optimal solution found (tolerance 1.00e-04)\n",
      "Best objective 5.700000000000e+01, best bound 5.700000000000e+01, gap 0.0000%\n",
      "Optimization in 0.0219 seconds\n",
      "End optimization 0\n",
      "    0  1  2  3  4  5  6  7  8  9  10  11  12\n",
      "0   0  1  0  1  1  0  0  0  0  1   1   0   1\n",
      "1   0  0  1  0  1  1  0  0  0  0   1   1   0\n",
      "2   1  0  0  1  0  1  1  0  0  0   0   1   1\n",
      "3   0  1  0  0  1  0  1  1  0  0   0   0   1\n",
      "4   0  0  1  0  0  1  0  1  1  0   0   0   0\n",
      "5   1  0  0  1  0  0  1  0  1  1   0   0   0\n",
      "6   1  1  0  0  1  0  0  1  0  1   1   0   0\n",
      "7   1  1  1  0  0  1  0  0  1  0   1   1   0\n",
      "8   1  1  1  1  0  0  1  0  0  1   0   1   1\n",
      "9   0  1  1  1  1  0  0  1  0  0   1   0   1\n",
      "10  0  0  1  1  1  1  0  0  1  0   0   1   0\n",
      "11  1  0  0  1  1  1  1  0  0  1   0   0   1\n",
      "12  0  1  0  0  1  1  1  1  0  0   1   0   0\n",
      "Finished first optimization. Obj: 57.0\n",
      "57.0\n",
      "57.0\n",
      "Parameter OutputFlag unchanged\n",
      "   Value: 1  Min: 0  Max: 1  Default: 1\n",
      "Start optimization\n",
      "Optimize a model with 1562 rows, 572 columns and 4550 nonzeros\n",
      "Variable types: 0 continuous, 572 integer (572 binary)\n",
      "Coefficient statistics:\n",
      "  Matrix range     [1e+00, 1e+00]\n",
      "  Objective range  [1e+00, 1e+00]\n",
      "  Bounds range     [1e+00, 1e+00]\n",
      "  RHS range        [1e+00, 6e+01]\n",
      "Presolve removed 260 rows and 260 columns\n",
      "Presolve time: 0.01s\n",
      "Presolved: 1302 rows, 312 columns, 4056 nonzeros\n",
      "Variable types: 0 continuous, 312 integer (312 binary)\n",
      "\n",
      "Root relaxation: objective 7.800000e+01, 310 iterations, 0.01 seconds\n",
      "\n",
      "    Nodes    |    Current Node    |     Objective Bounds      |     Work\n",
      " Expl Unexpl |  Obj  Depth IntInf | Incumbent    BestBd   Gap | It/Node Time\n",
      "\n",
      "     0     0   78.00000    0  116          -   78.00000      -     -    0s\n",
      "H    0     0                      20.0000000   78.00000   290%     -    0s\n",
      "H    0     0                      24.0000000   78.00000   225%     -    0s\n",
      "     0     0   36.00000    0   44   24.00000   36.00000  50.0%     -    0s\n",
      "H    0     0                      28.0000000   36.00000  28.6%     -    0s\n",
      "     0     0   35.00000    0    2   28.00000   35.00000  25.0%     -    0s\n",
      "     0     0   35.00000    0    4   28.00000   35.00000  25.0%     -    0s\n",
      "H    0     0                      34.0000000   35.00000  2.94%     -    0s\n",
      "     0     0   35.00000    0   10   34.00000   35.00000  2.94%     -    0s\n",
      "     0     0   35.00000    0    2   34.00000   35.00000  2.94%     -    0s\n",
      "     0     0 infeasible    0        34.00000   34.00000  0.00%     -    0s\n",
      "\n",
      "Cutting planes:\n",
      "  Gomory: 2\n",
      "  Clique: 9\n",
      "  Zero half: 2\n",
      "\n",
      "Explored 1 nodes (892 simplex iterations) in 0.14 seconds\n",
      "Thread count was 8 (of 8 available processors)\n",
      "\n",
      "Solution count 5: 34 28 28 ... 20\n",
      "\n",
      "Optimal solution found (tolerance 1.00e-04)\n",
      "Best objective 3.400000000000e+01, best bound 3.400000000000e+01, gap 0.0000%\n",
      "Optimization in 0.1409 seconds\n",
      "End optimization\n"
     ]
    },
    {
     "data": {
      "text/plain": [
       "57.0"
      ]
     },
     "execution_count": 1124,
     "metadata": {},
     "output_type": "execute_result"
    }
   ],
   "source": [
    "k_two_distant,details_two_distant = pyrankability.lop.bilp_two_most_distant(D_N_pal13.values,verbose=True,to_check=to_check)\n",
    "k_two_distant"
   ]
  },
  {
   "cell_type": "code",
   "execution_count": 1125,
   "metadata": {},
   "outputs": [
    {
     "data": {
      "text/plain": [
       "((8, 11, 0, 9, 3, 12, 6, 7, 1, 10, 4, 2, 5),\n",
       " (7, 10, 8, 2, 11, 5, 6, 0, 9, 3, 12, 1, 4))"
      ]
     },
     "execution_count": 1125,
     "metadata": {},
     "output_type": "execute_result"
    }
   ],
   "source": [
    "details_two_distant['perm_x'],details_two_distant['perm_y']"
   ]
  },
  {
   "cell_type": "code",
   "execution_count": 749,
   "metadata": {},
   "outputs": [
    {
     "data": {
      "text/plain": [
       "34"
      ]
     },
     "execution_count": 749,
     "metadata": {},
     "output_type": "execute_result"
    }
   ],
   "source": [
    "np.sum(np.triu(details_two_distant['u'])+np.triu(details_two_distant['v']))"
   ]
  },
  {
   "cell_type": "code",
   "execution_count": 750,
   "metadata": {},
   "outputs": [
    {
     "data": {
      "text/plain": [
       "array([[0, 0, 0, 0, 0, 0, 0, 0, 0, 0, 0, 0, 0],\n",
       "       [0, 0, 0, 0, 0, 0, 0, 0, 0, 0, 0, 0, 0],\n",
       "       [1, 1, 0, 1, 1, 0, 1, 0, 0, 1, 0, 1, 1],\n",
       "       [0, 0, 0, 0, 0, 0, 0, 0, 0, 0, 0, 0, 0],\n",
       "       [0, 0, 0, 0, 0, 0, 0, 0, 0, 0, 0, 0, 0],\n",
       "       [1, 1, 0, 1, 1, 0, 1, 0, 0, 1, 0, 0, 1],\n",
       "       [1, 0, 0, 1, 0, 0, 0, 0, 0, 1, 0, 0, 1],\n",
       "       [1, 0, 0, 1, 0, 0, 1, 0, 1, 1, 0, 1, 1],\n",
       "       [0, 0, 0, 0, 0, 0, 0, 0, 0, 0, 0, 0, 0],\n",
       "       [0, 0, 0, 0, 0, 0, 0, 0, 0, 0, 0, 0, 0],\n",
       "       [1, 1, 0, 1, 0, 0, 1, 0, 1, 1, 0, 1, 1],\n",
       "       [0, 0, 0, 0, 0, 0, 0, 0, 0, 0, 0, 0, 0],\n",
       "       [0, 0, 0, 0, 0, 0, 0, 0, 0, 0, 0, 0, 0]])"
      ]
     },
     "execution_count": 750,
     "metadata": {},
     "output_type": "execute_result"
    }
   ],
   "source": [
    "1*((details_two_distant['y']-details_two_distant['x'])>0)"
   ]
  },
  {
   "cell_type": "code",
   "execution_count": 751,
   "metadata": {},
   "outputs": [
    {
     "data": {
      "text/plain": [
       "array([[0, 0, 0, 0, 0, 0, 0, 0, 0, 0, 0, 0, 0],\n",
       "       [0, 0, 0, 0, 0, 0, 0, 0, 0, 0, 0, 0, 0],\n",
       "       [0, 0, 0, 1, 1, 0, 1, 0, 0, 1, 0, 1, 1],\n",
       "       [0, 0, 1, 0, 0, 0, 0, 0, 0, 0, 0, 0, 0],\n",
       "       [0, 0, 1, 0, 0, 0, 0, 0, 0, 0, 0, 0, 0],\n",
       "       [0, 0, 0, 0, 0, 0, 1, 0, 0, 1, 0, 0, 1],\n",
       "       [0, 0, 1, 0, 0, 1, 0, 0, 0, 1, 0, 0, 1],\n",
       "       [0, 0, 0, 0, 0, 0, 0, 0, 1, 1, 0, 1, 1],\n",
       "       [0, 0, 0, 0, 0, 0, 0, 1, 0, 0, 0, 0, 0],\n",
       "       [0, 0, 1, 0, 0, 1, 1, 1, 0, 0, 0, 0, 0],\n",
       "       [0, 0, 0, 0, 0, 0, 0, 0, 0, 0, 0, 1, 1],\n",
       "       [0, 0, 1, 0, 0, 0, 0, 1, 0, 0, 1, 0, 0],\n",
       "       [0, 0, 1, 0, 0, 1, 1, 1, 0, 0, 1, 0, 0]])"
      ]
     },
     "execution_count": 751,
     "metadata": {},
     "output_type": "execute_result"
    }
   ],
   "source": [
    "details_two_distant['v']"
   ]
  },
  {
   "cell_type": "code",
   "execution_count": 752,
   "metadata": {},
   "outputs": [
    {
     "data": {
      "text/plain": [
       "array([[0, 0, 1, 0, 0, 1, 1, 1, 0, 0, 1, 0, 0],\n",
       "       [0, 0, 1, 0, 0, 1, 0, 0, 0, 0, 1, 0, 0],\n",
       "       [1, 1, 0, 0, 0, 0, 0, 0, 0, 0, 0, 0, 0],\n",
       "       [0, 0, 0, 0, 0, 1, 1, 1, 0, 0, 1, 0, 0],\n",
       "       [0, 0, 0, 0, 0, 1, 0, 0, 0, 0, 0, 0, 0],\n",
       "       [1, 1, 0, 1, 1, 0, 0, 0, 0, 0, 0, 0, 0],\n",
       "       [1, 0, 0, 1, 0, 0, 0, 1, 0, 0, 1, 0, 0],\n",
       "       [1, 0, 0, 1, 0, 0, 1, 0, 0, 0, 0, 0, 0],\n",
       "       [0, 0, 0, 0, 0, 0, 0, 0, 0, 0, 1, 0, 0],\n",
       "       [0, 0, 0, 0, 0, 0, 0, 0, 0, 0, 1, 0, 0],\n",
       "       [1, 1, 0, 1, 0, 0, 1, 0, 1, 1, 0, 0, 0],\n",
       "       [0, 0, 0, 0, 0, 0, 0, 0, 0, 0, 0, 0, 0],\n",
       "       [0, 0, 0, 0, 0, 0, 0, 0, 0, 0, 0, 0, 0]])"
      ]
     },
     "execution_count": 752,
     "metadata": {},
     "output_type": "execute_result"
    }
   ],
   "source": [
    "details_two_distant['u']"
   ]
  },
  {
   "cell_type": "code",
   "execution_count": 753,
   "metadata": {},
   "outputs": [
    {
     "data": {
      "text/plain": [
       "True"
      ]
     },
     "execution_count": 753,
     "metadata": {},
     "output_type": "execute_result"
    }
   ],
   "source": [
    "np.all(np.triu(details_two_distant['v'])==np.triu(1*((details_two_distant['y']-details_two_distant['x'])>0)))"
   ]
  },
  {
   "cell_type": "code",
   "execution_count": 754,
   "metadata": {},
   "outputs": [
    {
     "data": {
      "text/plain": [
       "True"
      ]
     },
     "execution_count": 754,
     "metadata": {},
     "output_type": "execute_result"
    }
   ],
   "source": [
    "np.all(np.tril(details_two_distant['v'])==np.tril(1*((details_two_distant['x']-details_two_distant['y'])>0)))"
   ]
  },
  {
   "cell_type": "code",
   "execution_count": 755,
   "metadata": {},
   "outputs": [
    {
     "data": {
      "text/plain": [
       "True"
      ]
     },
     "execution_count": 755,
     "metadata": {},
     "output_type": "execute_result"
    }
   ],
   "source": [
    "np.all(np.tril(details_two_distant['u'])==np.tril(1*((details_two_distant['y']-details_two_distant['x'])>0)))"
   ]
  },
  {
   "cell_type": "code",
   "execution_count": 756,
   "metadata": {},
   "outputs": [
    {
     "data": {
      "text/plain": [
       "True"
      ]
     },
     "execution_count": 756,
     "metadata": {},
     "output_type": "execute_result"
    }
   ],
   "source": [
    "np.all(np.triu(details_two_distant['u'])==np.triu(1*((details_two_distant['x']-details_two_distant['y'])>0)))"
   ]
  },
  {
   "cell_type": "code",
   "execution_count": 757,
   "metadata": {},
   "outputs": [
    {
     "data": {
      "text/plain": [
       "array([[0, 0, 1, 0, 0, 1, 1, 1, 0, 0, 1, 0, 0],\n",
       "       [0, 0, 1, 0, 0, 1, 0, 0, 0, 0, 1, 0, 0],\n",
       "       [1, 1, 0, 1, 1, 0, 1, 0, 0, 1, 0, 1, 1],\n",
       "       [0, 0, 1, 0, 0, 1, 1, 1, 0, 0, 1, 0, 0],\n",
       "       [0, 0, 1, 0, 0, 1, 0, 0, 0, 0, 0, 0, 0],\n",
       "       [1, 1, 0, 1, 1, 0, 1, 0, 0, 1, 0, 0, 1],\n",
       "       [1, 0, 1, 1, 0, 1, 0, 1, 0, 1, 1, 0, 1],\n",
       "       [1, 0, 0, 1, 0, 0, 1, 0, 1, 1, 0, 1, 1],\n",
       "       [0, 0, 0, 0, 0, 0, 0, 1, 0, 0, 1, 0, 0],\n",
       "       [0, 0, 1, 0, 0, 1, 1, 1, 0, 0, 1, 0, 0],\n",
       "       [1, 1, 0, 1, 0, 0, 1, 0, 1, 1, 0, 1, 1],\n",
       "       [0, 0, 1, 0, 0, 0, 0, 1, 0, 0, 1, 0, 0],\n",
       "       [0, 0, 1, 0, 0, 1, 1, 1, 0, 0, 1, 0, 0]])"
      ]
     },
     "execution_count": 757,
     "metadata": {},
     "output_type": "execute_result"
    }
   ],
   "source": [
    "details_two_distant['u']+details_two_distant['v']"
   ]
  },
  {
   "cell_type": "code",
   "execution_count": 758,
   "metadata": {},
   "outputs": [
    {
     "data": {
      "text/plain": [
       "array([[ 0,  0,  1,  0,  0,  1,  1,  1,  0,  0,  1,  0,  0],\n",
       "       [ 0,  0,  1,  0,  0,  1,  0,  0,  0,  0,  1,  0,  0],\n",
       "       [ 1,  1,  0, -1, -1,  0, -1,  0,  0, -1,  0, -1, -1],\n",
       "       [ 0,  0, -1,  0,  0,  1,  1,  1,  0,  0,  1,  0,  0],\n",
       "       [ 0,  0, -1,  0,  0,  1,  0,  0,  0,  0,  0,  0,  0],\n",
       "       [ 1,  1,  0,  1,  1,  0, -1,  0,  0, -1,  0,  0, -1],\n",
       "       [ 1,  0, -1,  1,  0, -1,  0,  1,  0, -1,  1,  0, -1],\n",
       "       [ 1,  0,  0,  1,  0,  0,  1,  0, -1, -1,  0, -1, -1],\n",
       "       [ 0,  0,  0,  0,  0,  0,  0, -1,  0,  0,  1,  0,  0],\n",
       "       [ 0,  0, -1,  0,  0, -1, -1, -1,  0,  0,  1,  0,  0],\n",
       "       [ 1,  1,  0,  1,  0,  0,  1,  0,  1,  1,  0, -1, -1],\n",
       "       [ 0,  0, -1,  0,  0,  0,  0, -1,  0,  0, -1,  0,  0],\n",
       "       [ 0,  0, -1,  0,  0, -1, -1, -1,  0,  0, -1,  0,  0]])"
      ]
     },
     "execution_count": 758,
     "metadata": {},
     "output_type": "execute_result"
    }
   ],
   "source": [
    "details_two_distant['u']-details_two_distant['v']"
   ]
  },
  {
   "cell_type": "code",
   "execution_count": 759,
   "metadata": {},
   "outputs": [
    {
     "data": {
      "text/plain": [
       "array([[ 0,  0,  1,  0,  0,  1,  1,  1,  0,  0,  1,  0,  0],\n",
       "       [ 0,  0,  1,  0,  0,  1,  0,  0,  0,  0,  1,  0,  0],\n",
       "       [ 0,  0,  0, -1, -1,  0, -1,  0,  0, -1,  0, -1, -1],\n",
       "       [ 0,  0,  0,  0,  0,  1,  1,  1,  0,  0,  1,  0,  0],\n",
       "       [ 0,  0,  0,  0,  0,  1,  0,  0,  0,  0,  0,  0,  0],\n",
       "       [ 0,  0,  0,  0,  0,  0, -1,  0,  0, -1,  0,  0, -1],\n",
       "       [ 0,  0,  0,  0,  0,  0,  0,  1,  0, -1,  1,  0, -1],\n",
       "       [ 0,  0,  0,  0,  0,  0,  0,  0, -1, -1,  0, -1, -1],\n",
       "       [ 0,  0,  0,  0,  0,  0,  0,  0,  0,  0,  1,  0,  0],\n",
       "       [ 0,  0,  0,  0,  0,  0,  0,  0,  0,  0,  1,  0,  0],\n",
       "       [ 0,  0,  0,  0,  0,  0,  0,  0,  0,  0,  0, -1, -1],\n",
       "       [ 0,  0,  0,  0,  0,  0,  0,  0,  0,  0,  0,  0,  0],\n",
       "       [ 0,  0,  0,  0,  0,  0,  0,  0,  0,  0,  0,  0,  0]])"
      ]
     },
     "execution_count": 759,
     "metadata": {},
     "output_type": "execute_result"
    }
   ],
   "source": [
    "np.triu(details_two_distant['x']-details_two_distant['y'])"
   ]
  },
  {
   "cell_type": "code",
   "execution_count": 760,
   "metadata": {},
   "outputs": [
    {
     "data": {
      "text/plain": [
       "array([[ 0,  0,  0,  0,  0,  0,  0,  0,  0,  0,  0,  0,  0],\n",
       "       [ 0,  0,  0,  0,  0,  0,  0,  0,  0,  0,  0,  0,  0],\n",
       "       [ 1,  1,  0,  0,  0,  0,  0,  0,  0,  0,  0,  0,  0],\n",
       "       [ 0,  0, -1,  0,  0,  0,  0,  0,  0,  0,  0,  0,  0],\n",
       "       [ 0,  0, -1,  0,  0,  0,  0,  0,  0,  0,  0,  0,  0],\n",
       "       [ 1,  1,  0,  1,  1,  0,  0,  0,  0,  0,  0,  0,  0],\n",
       "       [ 1,  0, -1,  1,  0, -1,  0,  0,  0,  0,  0,  0,  0],\n",
       "       [ 1,  0,  0,  1,  0,  0,  1,  0,  0,  0,  0,  0,  0],\n",
       "       [ 0,  0,  0,  0,  0,  0,  0, -1,  0,  0,  0,  0,  0],\n",
       "       [ 0,  0, -1,  0,  0, -1, -1, -1,  0,  0,  0,  0,  0],\n",
       "       [ 1,  1,  0,  1,  0,  0,  1,  0,  1,  1,  0,  0,  0],\n",
       "       [ 0,  0, -1,  0,  0,  0,  0, -1,  0,  0, -1,  0,  0],\n",
       "       [ 0,  0, -1,  0,  0, -1, -1, -1,  0,  0, -1,  0,  0]])"
      ]
     },
     "execution_count": 760,
     "metadata": {},
     "output_type": "execute_result"
    }
   ],
   "source": [
    "-1*np.tril(details_two_distant['x']-details_two_distant['y'])"
   ]
  },
  {
   "cell_type": "code",
   "execution_count": 761,
   "metadata": {},
   "outputs": [
    {
     "data": {
      "text/plain": [
       "(8, 11, 0, 9, 3, 12, 6, 7, 1, 10, 4, 2, 5)"
      ]
     },
     "execution_count": 761,
     "metadata": {},
     "output_type": "execute_result"
    }
   ],
   "source": [
    "details_two_distant['perm_x']"
   ]
  },
  {
   "cell_type": "code",
   "execution_count": 762,
   "metadata": {},
   "outputs": [
    {
     "data": {
      "text/plain": [
       "(7, 10, 8, 2, 11, 5, 6, 0, 9, 3, 12, 1, 4)"
      ]
     },
     "execution_count": 762,
     "metadata": {},
     "output_type": "execute_result"
    }
   ],
   "source": [
    "details_two_distant['perm_y']"
   ]
  },
  {
   "cell_type": "code",
   "execution_count": 763,
   "metadata": {},
   "outputs": [
    {
     "data": {
      "text/plain": [
       "((8, 11, 0, 9, 3, 12, 6, 7, 1, 10, 4, 2, 5),\n",
       " (7, 10, 8, 2, 11, 5, 6, 0, 9, 3, 12, 1, 4))"
      ]
     },
     "execution_count": 763,
     "metadata": {},
     "output_type": "execute_result"
    }
   ],
   "source": [
    "details_two_distant['perm_x'], details_two_distant['perm_y']"
   ]
  },
  {
   "cell_type": "code",
   "execution_count": 764,
   "metadata": {},
   "outputs": [
    {
     "data": {
      "text/plain": [
       "-0.25274725274725274"
      ]
     },
     "execution_count": 764,
     "metadata": {},
     "output_type": "execute_result"
    }
   ],
   "source": [
    "r,pval1=stats.spearmanr(details_two_distant['perm_x'], details_two_distant['perm_y'])\n",
    "r"
   ]
  },
  {
   "cell_type": "code",
   "execution_count": 765,
   "metadata": {},
   "outputs": [],
   "source": [
    "rho,pval1=stats.kendalltau(details_two_distant['perm_x'], details_two_distant['perm_y'])"
   ]
  },
  {
   "cell_type": "code",
   "execution_count": 766,
   "metadata": {},
   "outputs": [
    {
     "data": {
      "text/plain": [
       "-0.12820512820512817"
      ]
     },
     "execution_count": 766,
     "metadata": {},
     "output_type": "execute_result"
    }
   ],
   "source": [
    "rho"
   ]
  },
  {
   "cell_type": "code",
   "execution_count": 438,
   "metadata": {},
   "outputs": [
    {
     "name": "stdout",
     "output_type": "stream",
     "text": [
      "[7, 10, 8, 2, 11, 5, 0, 9, 3, 12, 6, 1, 4] [8, 11, 6, 0, 9, 3, 12, 7, 1, 10, 4, 2, 5] 2 8\n",
      "[8, 11, 6, 0, 9, 3, 12, 7, 1, 10, 4, 2, 5] [7, 10, 8, 2, 11, 5, 0, 9, 3, 12, 6, 1, 4] 8 2\n"
     ]
    },
    {
     "data": {
      "text/plain": [
       "[57, 57, 57, 57, 57, 57, 57, 57, 57, 57]"
      ]
     },
     "execution_count": 438,
     "metadata": {},
     "output_type": "execute_result"
    }
   ],
   "source": [
    "pairwise_spearman = np.zeros((len(full_P),len(full_P)))\n",
    "pairwise_tau = np.zeros((len(full_P),len(full_P)))\n",
    "objs = []\n",
    "for i in range(len(full_P)):\n",
    "    p=full_P[i]\n",
    "    a=p[0]\n",
    "    s=0\n",
    "    for k,a in enumerate(p):\n",
    "        for b in p[k+1:]:\n",
    "            s+=D_N_pal13.values[a,b]\n",
    "    objs.append(s)\n",
    "    for j in range(len(full_P)):\n",
    "        if i == j:\n",
    "            pairwise_spearman[i,j]=np.NaN\n",
    "            pairwise_tau[i,j]=np.NaN\n",
    "        else:\n",
    "            pairwise_spearman[i,j],pval = stats.spearmanr(full_P[i],full_P[j])\n",
    "            pairwise_tau[i,j],pval = stats.kendalltau(full_P[i],full_P[j])\n",
    "\n",
    "objs"
   ]
  },
  {
   "cell_type": "code",
   "execution_count": 436,
   "metadata": {},
   "outputs": [
    {
     "data": {
      "text/html": [
       "<div>\n",
       "<style scoped>\n",
       "    .dataframe tbody tr th:only-of-type {\n",
       "        vertical-align: middle;\n",
       "    }\n",
       "\n",
       "    .dataframe tbody tr th {\n",
       "        vertical-align: top;\n",
       "    }\n",
       "\n",
       "    .dataframe thead th {\n",
       "        text-align: right;\n",
       "    }\n",
       "</style>\n",
       "<table border=\"1\" class=\"dataframe\">\n",
       "  <thead>\n",
       "    <tr style=\"text-align: right;\">\n",
       "      <th></th>\n",
       "      <th>0</th>\n",
       "      <th>1</th>\n",
       "      <th>2</th>\n",
       "      <th>3</th>\n",
       "      <th>4</th>\n",
       "      <th>5</th>\n",
       "      <th>6</th>\n",
       "      <th>7</th>\n",
       "      <th>8</th>\n",
       "      <th>9</th>\n",
       "    </tr>\n",
       "  </thead>\n",
       "  <tbody>\n",
       "    <tr>\n",
       "      <td>0</td>\n",
       "      <td>NaN</td>\n",
       "      <td>-0.384615</td>\n",
       "      <td>0.230769</td>\n",
       "      <td>0.230769</td>\n",
       "      <td>0.128205</td>\n",
       "      <td>-0.179487</td>\n",
       "      <td>-0.692308</td>\n",
       "      <td>-0.179487</td>\n",
       "      <td>-0.076923</td>\n",
       "      <td>0.333333</td>\n",
       "    </tr>\n",
       "    <tr>\n",
       "      <td>1</td>\n",
       "      <td>-0.384615</td>\n",
       "      <td>NaN</td>\n",
       "      <td>0.230769</td>\n",
       "      <td>-0.128205</td>\n",
       "      <td>-0.128205</td>\n",
       "      <td>0.282051</td>\n",
       "      <td>0.333333</td>\n",
       "      <td>-0.076923</td>\n",
       "      <td>0.128205</td>\n",
       "      <td>-0.128205</td>\n",
       "    </tr>\n",
       "    <tr>\n",
       "      <td>2</td>\n",
       "      <td>0.230769</td>\n",
       "      <td>0.230769</td>\n",
       "      <td>NaN</td>\n",
       "      <td>-0.179487</td>\n",
       "      <td>-0.076923</td>\n",
       "      <td>-0.282051</td>\n",
       "      <td>-0.076923</td>\n",
       "      <td>0.076923</td>\n",
       "      <td>0.487179</td>\n",
       "      <td>0.128205</td>\n",
       "    </tr>\n",
       "    <tr>\n",
       "      <td>3</td>\n",
       "      <td>0.230769</td>\n",
       "      <td>-0.128205</td>\n",
       "      <td>-0.179487</td>\n",
       "      <td>NaN</td>\n",
       "      <td>-0.025641</td>\n",
       "      <td>0.538462</td>\n",
       "      <td>-0.179487</td>\n",
       "      <td>-0.179487</td>\n",
       "      <td>0.076923</td>\n",
       "      <td>-0.076923</td>\n",
       "    </tr>\n",
       "    <tr>\n",
       "      <td>4</td>\n",
       "      <td>0.128205</td>\n",
       "      <td>-0.128205</td>\n",
       "      <td>-0.076923</td>\n",
       "      <td>-0.025641</td>\n",
       "      <td>NaN</td>\n",
       "      <td>0.230769</td>\n",
       "      <td>-0.179487</td>\n",
       "      <td>0.538462</td>\n",
       "      <td>-0.282051</td>\n",
       "      <td>0.282051</td>\n",
       "    </tr>\n",
       "    <tr>\n",
       "      <td>5</td>\n",
       "      <td>-0.179487</td>\n",
       "      <td>0.282051</td>\n",
       "      <td>-0.282051</td>\n",
       "      <td>0.538462</td>\n",
       "      <td>0.230769</td>\n",
       "      <td>NaN</td>\n",
       "      <td>0.128205</td>\n",
       "      <td>-0.025641</td>\n",
       "      <td>-0.076923</td>\n",
       "      <td>-0.128205</td>\n",
       "    </tr>\n",
       "    <tr>\n",
       "      <td>6</td>\n",
       "      <td>-0.692308</td>\n",
       "      <td>0.333333</td>\n",
       "      <td>-0.076923</td>\n",
       "      <td>-0.179487</td>\n",
       "      <td>-0.179487</td>\n",
       "      <td>0.128205</td>\n",
       "      <td>NaN</td>\n",
       "      <td>0.230769</td>\n",
       "      <td>0.230769</td>\n",
       "      <td>-0.384615</td>\n",
       "    </tr>\n",
       "    <tr>\n",
       "      <td>7</td>\n",
       "      <td>-0.179487</td>\n",
       "      <td>-0.076923</td>\n",
       "      <td>0.076923</td>\n",
       "      <td>-0.179487</td>\n",
       "      <td>0.538462</td>\n",
       "      <td>-0.025641</td>\n",
       "      <td>0.230769</td>\n",
       "      <td>NaN</td>\n",
       "      <td>-0.179487</td>\n",
       "      <td>-0.128205</td>\n",
       "    </tr>\n",
       "    <tr>\n",
       "      <td>8</td>\n",
       "      <td>-0.076923</td>\n",
       "      <td>0.128205</td>\n",
       "      <td>0.487179</td>\n",
       "      <td>0.076923</td>\n",
       "      <td>-0.282051</td>\n",
       "      <td>-0.076923</td>\n",
       "      <td>0.230769</td>\n",
       "      <td>-0.179487</td>\n",
       "      <td>NaN</td>\n",
       "      <td>0.230769</td>\n",
       "    </tr>\n",
       "    <tr>\n",
       "      <td>9</td>\n",
       "      <td>0.333333</td>\n",
       "      <td>-0.128205</td>\n",
       "      <td>0.128205</td>\n",
       "      <td>-0.076923</td>\n",
       "      <td>0.282051</td>\n",
       "      <td>-0.128205</td>\n",
       "      <td>-0.384615</td>\n",
       "      <td>-0.128205</td>\n",
       "      <td>0.230769</td>\n",
       "      <td>NaN</td>\n",
       "    </tr>\n",
       "  </tbody>\n",
       "</table>\n",
       "</div>"
      ],
      "text/plain": [
       "          0         1         2         3         4         5         6  \\\n",
       "0       NaN -0.384615  0.230769  0.230769  0.128205 -0.179487 -0.692308   \n",
       "1 -0.384615       NaN  0.230769 -0.128205 -0.128205  0.282051  0.333333   \n",
       "2  0.230769  0.230769       NaN -0.179487 -0.076923 -0.282051 -0.076923   \n",
       "3  0.230769 -0.128205 -0.179487       NaN -0.025641  0.538462 -0.179487   \n",
       "4  0.128205 -0.128205 -0.076923 -0.025641       NaN  0.230769 -0.179487   \n",
       "5 -0.179487  0.282051 -0.282051  0.538462  0.230769       NaN  0.128205   \n",
       "6 -0.692308  0.333333 -0.076923 -0.179487 -0.179487  0.128205       NaN   \n",
       "7 -0.179487 -0.076923  0.076923 -0.179487  0.538462 -0.025641  0.230769   \n",
       "8 -0.076923  0.128205  0.487179  0.076923 -0.282051 -0.076923  0.230769   \n",
       "9  0.333333 -0.128205  0.128205 -0.076923  0.282051 -0.128205 -0.384615   \n",
       "\n",
       "          7         8         9  \n",
       "0 -0.179487 -0.076923  0.333333  \n",
       "1 -0.076923  0.128205 -0.128205  \n",
       "2  0.076923  0.487179  0.128205  \n",
       "3 -0.179487  0.076923 -0.076923  \n",
       "4  0.538462 -0.282051  0.282051  \n",
       "5 -0.025641 -0.076923 -0.128205  \n",
       "6  0.230769  0.230769 -0.384615  \n",
       "7       NaN -0.179487 -0.128205  \n",
       "8 -0.179487       NaN  0.230769  \n",
       "9 -0.128205  0.230769       NaN  "
      ]
     },
     "execution_count": 436,
     "metadata": {},
     "output_type": "execute_result"
    }
   ],
   "source": [
    "pd.DataFrame(pairwise_tau)"
   ]
  },
  {
   "cell_type": "code",
   "execution_count": 326,
   "metadata": {},
   "outputs": [
    {
     "data": {
      "text/plain": [
       "(0.5384615384615383, -0.6923076923076922)"
      ]
     },
     "execution_count": 326,
     "metadata": {},
     "output_type": "execute_result"
    }
   ],
   "source": [
    "np.nanmax(pairwise_tau),np.nanmin(pairwise_tau)"
   ]
  },
  {
   "cell_type": "code",
   "execution_count": 327,
   "metadata": {},
   "outputs": [
    {
     "data": {
      "text/plain": [
       "(0.6043956043956044, -0.8461538461538461)"
      ]
     },
     "execution_count": 327,
     "metadata": {},
     "output_type": "execute_result"
    }
   ],
   "source": [
    "np.nanmax(pairwise_spearman),np.nanmin(pairwise_spearman)"
   ]
  },
  {
   "cell_type": "code",
   "execution_count": 302,
   "metadata": {},
   "outputs": [
    {
     "data": {
      "text/plain": [
       "57"
      ]
     },
     "execution_count": 302,
     "metadata": {},
     "output_type": "execute_result"
    }
   ],
   "source": [
    "np.sum(np.tril(D_N_pal13.values[[4, 10, 1, 12, 3, 9, 0, 6, 5, 11, 2, 8, 7],:][:,[4, 10, 1, 12, 3, 9, 0, 6, 5, 11, 2, 8, 7]]))"
   ]
  },
  {
   "cell_type": "code",
   "execution_count": 303,
   "metadata": {},
   "outputs": [],
   "source": []
  },
  {
   "cell_type": "code",
   "execution_count": 303,
   "metadata": {},
   "outputs": [
    {
     "data": {
      "text/plain": [
       "57"
      ]
     },
     "execution_count": 303,
     "metadata": {},
     "output_type": "execute_result"
    }
   ],
   "source": [
    "np.sum(np.triu(D_N_pal13.values[np.ix_(details_two_distant['perm_x'],details_two_distant['perm_x'])]))"
   ]
  },
  {
   "cell_type": "code",
   "execution_count": 637,
   "metadata": {},
   "outputs": [],
   "source": []
  },
  {
   "cell_type": "code",
   "execution_count": 637,
   "metadata": {},
   "outputs": [
    {
     "data": {
      "text/html": [
       "<div>\n",
       "<style scoped>\n",
       "    .dataframe tbody tr th:only-of-type {\n",
       "        vertical-align: middle;\n",
       "    }\n",
       "\n",
       "    .dataframe tbody tr th {\n",
       "        vertical-align: top;\n",
       "    }\n",
       "\n",
       "    .dataframe thead th {\n",
       "        text-align: right;\n",
       "    }\n",
       "</style>\n",
       "<table border=\"1\" class=\"dataframe\">\n",
       "  <thead>\n",
       "    <tr style=\"text-align: right;\">\n",
       "      <th></th>\n",
       "      <th>0</th>\n",
       "      <th>1</th>\n",
       "      <th>2</th>\n",
       "    </tr>\n",
       "  </thead>\n",
       "  <tbody>\n",
       "    <tr>\n",
       "      <td>0</td>\n",
       "      <td>0</td>\n",
       "      <td>5</td>\n",
       "      <td>3</td>\n",
       "    </tr>\n",
       "    <tr>\n",
       "      <td>1</td>\n",
       "      <td>5</td>\n",
       "      <td>0</td>\n",
       "      <td>3</td>\n",
       "    </tr>\n",
       "    <tr>\n",
       "      <td>2</td>\n",
       "      <td>3</td>\n",
       "      <td>5</td>\n",
       "      <td>0</td>\n",
       "    </tr>\n",
       "  </tbody>\n",
       "</table>\n",
       "</div>"
      ],
      "text/plain": [
       "   0  1  2\n",
       "0  0  5  3\n",
       "1  5  0  3\n",
       "2  3  5  0"
      ]
     },
     "execution_count": 637,
     "metadata": {},
     "output_type": "execute_result"
    }
   ],
   "source": [
    "# N_tiny_3 example\n",
    "data=open(\"../N_tiny_3\").read().split(\"\\n\")\n",
    "data=data[1:-1]\n",
    "dt = []\n",
    "for line in data:\n",
    "    dt.append([int(k) for k in line.split()])\n",
    "D_N_tiny_3 = pd.DataFrame(dt)\n",
    "D_N_tiny_3"
   ]
  },
  {
   "cell_type": "code",
   "execution_count": 639,
   "metadata": {},
   "outputs": [
    {
     "data": {
      "text/plain": [
       "13.0"
      ]
     },
     "execution_count": 639,
     "metadata": {},
     "output_type": "execute_result"
    }
   ],
   "source": [
    "k_two_distant,details_two_distant = pyrankability.lop.bilp_two_most_distant(D_N_tiny_3.values,verbose=False)\n",
    "k_two_distant"
   ]
  },
  {
   "cell_type": "code",
   "execution_count": 640,
   "metadata": {},
   "outputs": [
    {
     "data": {
      "text/plain": [
       "{'obj': 2.0,\n",
       " 'k_x': 13,\n",
       " 'k_y': 13,\n",
       " 'perm_x': (2, 1, 0),\n",
       " 'perm_y': (0, 2, 1),\n",
       " 'x': array([[0, 0, 0],\n",
       "        [1, 0, 0],\n",
       "        [1, 1, 0]]),\n",
       " 'y': array([[0, 1, 1],\n",
       "        [0, 0, 0],\n",
       "        [0, 1, 0]]),\n",
       " 'u': array([[0, 0, 0],\n",
       "        [0, 0, 0],\n",
       "        [0, 0, 0]]),\n",
       " 'v': array([[0, 1, 1],\n",
       "        [1, 0, 0],\n",
       "        [1, 0, 0]]),\n",
       " 'b': array([[0, 0, 0],\n",
       "        [1, 0, 0],\n",
       "        [1, 1, 0]])}"
      ]
     },
     "execution_count": 640,
     "metadata": {},
     "output_type": "execute_result"
    }
   ],
   "source": [
    "details_two_distant\n"
   ]
  },
  {
   "cell_type": "code",
   "execution_count": 643,
   "metadata": {},
   "outputs": [
    {
     "data": {
      "text/plain": [
       "-0.33333333333333337"
      ]
     },
     "execution_count": 643,
     "metadata": {},
     "output_type": "execute_result"
    }
   ],
   "source": [
    "rho,pval1=stats.kendalltau(details_two_distant['perm_x'], details_two_distant['perm_y'])\n",
    "rho"
   ]
  },
  {
   "cell_type": "code",
   "execution_count": 644,
   "metadata": {},
   "outputs": [
    {
     "data": {
      "text/plain": [
       "[[1, 2, 3], [2, 1, 3], [2, 3, 1]]"
      ]
     },
     "execution_count": 644,
     "metadata": {},
     "output_type": "execute_result"
    }
   ],
   "source": [
    "full_P = [[3,2,1],\n",
    "[3,1,2],\n",
    "[1,3,2]]\n",
    "for i in range(len(full_P)):\n",
    "    full_P[i] = full_P[i][::-1]\n",
    "full_P"
   ]
  },
  {
   "cell_type": "code",
   "execution_count": 645,
   "metadata": {},
   "outputs": [
    {
     "ename": "IndexError",
     "evalue": "index 3 is out of bounds for axis 1 with size 3",
     "output_type": "error",
     "traceback": [
      "\u001b[0;31m---------------------------------------------------------------------------\u001b[0m",
      "\u001b[0;31mIndexError\u001b[0m                                Traceback (most recent call last)",
      "\u001b[0;32m<ipython-input-645-5564446f4f0e>\u001b[0m in \u001b[0;36m<module>\u001b[0;34m\u001b[0m\n\u001b[1;32m      8\u001b[0m     \u001b[0;32mfor\u001b[0m \u001b[0mk\u001b[0m\u001b[0;34m,\u001b[0m\u001b[0ma\u001b[0m \u001b[0;32min\u001b[0m \u001b[0menumerate\u001b[0m\u001b[0;34m(\u001b[0m\u001b[0mp\u001b[0m\u001b[0;34m)\u001b[0m\u001b[0;34m:\u001b[0m\u001b[0;34m\u001b[0m\u001b[0;34m\u001b[0m\u001b[0m\n\u001b[1;32m      9\u001b[0m         \u001b[0;32mfor\u001b[0m \u001b[0mb\u001b[0m \u001b[0;32min\u001b[0m \u001b[0mp\u001b[0m\u001b[0;34m[\u001b[0m\u001b[0mk\u001b[0m\u001b[0;34m+\u001b[0m\u001b[0;36m1\u001b[0m\u001b[0;34m:\u001b[0m\u001b[0;34m]\u001b[0m\u001b[0;34m:\u001b[0m\u001b[0;34m\u001b[0m\u001b[0;34m\u001b[0m\u001b[0m\n\u001b[0;32m---> 10\u001b[0;31m             \u001b[0ms\u001b[0m\u001b[0;34m+=\u001b[0m\u001b[0mD_N_tiny_3\u001b[0m\u001b[0;34m.\u001b[0m\u001b[0mvalues\u001b[0m\u001b[0;34m[\u001b[0m\u001b[0ma\u001b[0m\u001b[0;34m,\u001b[0m\u001b[0mb\u001b[0m\u001b[0;34m]\u001b[0m\u001b[0;34m\u001b[0m\u001b[0;34m\u001b[0m\u001b[0m\n\u001b[0m\u001b[1;32m     11\u001b[0m     \u001b[0mobjs\u001b[0m\u001b[0;34m.\u001b[0m\u001b[0mappend\u001b[0m\u001b[0;34m(\u001b[0m\u001b[0ms\u001b[0m\u001b[0;34m)\u001b[0m\u001b[0;34m\u001b[0m\u001b[0;34m\u001b[0m\u001b[0m\n\u001b[1;32m     12\u001b[0m     \u001b[0;32mfor\u001b[0m \u001b[0mj\u001b[0m \u001b[0;32min\u001b[0m \u001b[0mrange\u001b[0m\u001b[0;34m(\u001b[0m\u001b[0mlen\u001b[0m\u001b[0;34m(\u001b[0m\u001b[0mfull_P\u001b[0m\u001b[0;34m)\u001b[0m\u001b[0;34m)\u001b[0m\u001b[0;34m:\u001b[0m\u001b[0;34m\u001b[0m\u001b[0;34m\u001b[0m\u001b[0m\n",
      "\u001b[0;31mIndexError\u001b[0m: index 3 is out of bounds for axis 1 with size 3"
     ]
    }
   ],
   "source": [
    "pairwise_spearman = np.zeros((len(full_P),len(full_P)))\n",
    "pairwise_tau = np.zeros((len(full_P),len(full_P)))\n",
    "objs = []\n",
    "for i in range(len(full_P)):\n",
    "    p=full_P[i]\n",
    "    a=p[0]\n",
    "    s=0\n",
    "    for k,a in enumerate(p):\n",
    "        for b in p[k+1:]:\n",
    "            s+=D_N_tiny_3.values[a,b]\n",
    "    objs.append(s)\n",
    "    for j in range(len(full_P)):\n",
    "        if i == j:\n",
    "            pairwise_spearman[i,j]=np.NaN\n",
    "            pairwise_tau[i,j]=np.NaN\n",
    "        else:\n",
    "            pairwise_spearman[i,j],pval = stats.spearmanr(full_P[i],full_P[j])\n",
    "            pairwise_tau[i,j],pval = stats.kendalltau(full_P[i],full_P[j])\n",
    "\n",
    "objs"
   ]
  },
  {
   "cell_type": "code",
   "execution_count": 781,
   "metadata": {},
   "outputs": [
    {
     "data": {
      "text/html": [
       "<div>\n",
       "<style scoped>\n",
       "    .dataframe tbody tr th:only-of-type {\n",
       "        vertical-align: middle;\n",
       "    }\n",
       "\n",
       "    .dataframe tbody tr th {\n",
       "        vertical-align: top;\n",
       "    }\n",
       "\n",
       "    .dataframe thead th {\n",
       "        text-align: right;\n",
       "    }\n",
       "</style>\n",
       "<table border=\"1\" class=\"dataframe\">\n",
       "  <thead>\n",
       "    <tr style=\"text-align: right;\">\n",
       "      <th></th>\n",
       "      <th>0</th>\n",
       "      <th>1</th>\n",
       "      <th>2</th>\n",
       "    </tr>\n",
       "  </thead>\n",
       "  <tbody>\n",
       "    <tr>\n",
       "      <td>0</td>\n",
       "      <td>0</td>\n",
       "      <td>5</td>\n",
       "      <td>3</td>\n",
       "    </tr>\n",
       "    <tr>\n",
       "      <td>1</td>\n",
       "      <td>5</td>\n",
       "      <td>0</td>\n",
       "      <td>3</td>\n",
       "    </tr>\n",
       "    <tr>\n",
       "      <td>2</td>\n",
       "      <td>3</td>\n",
       "      <td>5</td>\n",
       "      <td>0</td>\n",
       "    </tr>\n",
       "  </tbody>\n",
       "</table>\n",
       "</div>"
      ],
      "text/plain": [
       "   0  1  2\n",
       "0  0  5  3\n",
       "1  5  0  3\n",
       "2  3  5  0"
      ]
     },
     "execution_count": 781,
     "metadata": {},
     "output_type": "execute_result"
    }
   ],
   "source": [
    "# N_tiny_3 example\n",
    "data=open(\"../N_tiny_3\").read().split(\"\\n\")\n",
    "data=data[1:-1]\n",
    "dt = []\n",
    "for line in data:\n",
    "    dt.append([int(k) for k in line.split()])\n",
    "D_N_tiny_3 = pd.DataFrame(dt)\n",
    "D_N_tiny_3"
   ]
  },
  {
   "cell_type": "code",
   "execution_count": 783,
   "metadata": {},
   "outputs": [
    {
     "ename": "AttributeError",
     "evalue": "b\"Unable to retrieve attribute 'X'\"",
     "output_type": "error",
     "traceback": [
      "\u001b[0;31m---------------------------------------------------------------------------\u001b[0m",
      "\u001b[0;31mAttributeError\u001b[0m                            Traceback (most recent call last)",
      "\u001b[0;32m<ipython-input-783-7222db317edc>\u001b[0m in \u001b[0;36m<module>\u001b[0;34m\u001b[0m\n\u001b[0;32m----> 1\u001b[0;31m \u001b[0mk_two_distant\u001b[0m\u001b[0;34m,\u001b[0m\u001b[0mdetails_two_distant\u001b[0m \u001b[0;34m=\u001b[0m \u001b[0mpyrankability\u001b[0m\u001b[0;34m.\u001b[0m\u001b[0mlop\u001b[0m\u001b[0;34m.\u001b[0m\u001b[0mbilp_two_most_distant_jonad\u001b[0m\u001b[0;34m(\u001b[0m\u001b[0mD_N_tiny_3\u001b[0m\u001b[0;34m.\u001b[0m\u001b[0mvalues\u001b[0m\u001b[0;34m,\u001b[0m\u001b[0mverbose\u001b[0m\u001b[0;34m=\u001b[0m\u001b[0;32mFalse\u001b[0m\u001b[0;34m)\u001b[0m\u001b[0;34m\u001b[0m\u001b[0;34m\u001b[0m\u001b[0m\n\u001b[0m\u001b[1;32m      2\u001b[0m \u001b[0mk_two_distant\u001b[0m\u001b[0;34m\u001b[0m\u001b[0;34m\u001b[0m\u001b[0m\n",
      "\u001b[0;32m~/rankability_toolbox/pyrankability/lop.py\u001b[0m in \u001b[0;36mbilp_two_most_distant_jonad\u001b[0;34m(D, lazy, verbose)\u001b[0m\n\u001b[1;32m    164\u001b[0m         \u001b[0mprint\u001b[0m\u001b[0;34m(\u001b[0m\u001b[0;34m'End optimization'\u001b[0m\u001b[0;34m)\u001b[0m\u001b[0;34m\u001b[0m\u001b[0;34m\u001b[0m\u001b[0m\n\u001b[1;32m    165\u001b[0m \u001b[0;34m\u001b[0m\u001b[0m\n\u001b[0;32m--> 166\u001b[0;31m     \u001b[0msol_x\u001b[0m \u001b[0;34m=\u001b[0m \u001b[0mget_sol_x_by_x\u001b[0m\u001b[0;34m(\u001b[0m\u001b[0mx\u001b[0m\u001b[0;34m,\u001b[0m\u001b[0mn\u001b[0m\u001b[0;34m)\u001b[0m\u001b[0;34m(\u001b[0m\u001b[0;34m)\u001b[0m\u001b[0;34m\u001b[0m\u001b[0;34m\u001b[0m\u001b[0m\n\u001b[0m\u001b[1;32m    167\u001b[0m     \u001b[0msol_y\u001b[0m \u001b[0;34m=\u001b[0m \u001b[0mget_sol_x_by_x\u001b[0m\u001b[0;34m(\u001b[0m\u001b[0my\u001b[0m\u001b[0;34m,\u001b[0m\u001b[0mn\u001b[0m\u001b[0;34m)\u001b[0m\u001b[0;34m(\u001b[0m\u001b[0;34m)\u001b[0m\u001b[0;34m\u001b[0m\u001b[0;34m\u001b[0m\u001b[0m\n\u001b[1;32m    168\u001b[0m     \u001b[0msol_z\u001b[0m \u001b[0;34m=\u001b[0m \u001b[0mget_sol_x_by_x\u001b[0m\u001b[0;34m(\u001b[0m\u001b[0mz\u001b[0m\u001b[0;34m,\u001b[0m\u001b[0mn\u001b[0m\u001b[0;34m)\u001b[0m\u001b[0;34m(\u001b[0m\u001b[0;34m)\u001b[0m\u001b[0;34m\u001b[0m\u001b[0;34m\u001b[0m\u001b[0m\n",
      "\u001b[0;32m~/rankability_toolbox/pyrankability/common.py\u001b[0m in \u001b[0;36mmyfunc\u001b[0;34m()\u001b[0m\n\u001b[1;32m     14\u001b[0m             \u001b[0;32mfor\u001b[0m \u001b[0mj\u001b[0m \u001b[0;32min\u001b[0m \u001b[0mrange\u001b[0m\u001b[0;34m(\u001b[0m\u001b[0mn\u001b[0m\u001b[0;34m)\u001b[0m\u001b[0;34m:\u001b[0m\u001b[0;34m\u001b[0m\u001b[0;34m\u001b[0m\u001b[0m\n\u001b[1;32m     15\u001b[0m                 \u001b[0;32mif\u001b[0m \u001b[0;34m(\u001b[0m\u001b[0mi\u001b[0m\u001b[0;34m,\u001b[0m\u001b[0mj\u001b[0m\u001b[0;34m)\u001b[0m \u001b[0;32min\u001b[0m \u001b[0mx\u001b[0m\u001b[0;34m:\u001b[0m\u001b[0;34m\u001b[0m\u001b[0;34m\u001b[0m\u001b[0m\n\u001b[0;32m---> 16\u001b[0;31m                     \u001b[0mvalues\u001b[0m\u001b[0;34m.\u001b[0m\u001b[0mappend\u001b[0m\u001b[0;34m(\u001b[0m\u001b[0mint\u001b[0m\u001b[0;34m(\u001b[0m\u001b[0mx\u001b[0m\u001b[0;34m[\u001b[0m\u001b[0mi\u001b[0m\u001b[0;34m,\u001b[0m\u001b[0mj\u001b[0m\u001b[0;34m]\u001b[0m\u001b[0;34m.\u001b[0m\u001b[0mX\u001b[0m\u001b[0;34m)\u001b[0m\u001b[0;34m)\u001b[0m\u001b[0;34m\u001b[0m\u001b[0;34m\u001b[0m\u001b[0m\n\u001b[0m\u001b[1;32m     17\u001b[0m                 \u001b[0;32melse\u001b[0m\u001b[0;34m:\u001b[0m\u001b[0;34m\u001b[0m\u001b[0;34m\u001b[0m\u001b[0m\n\u001b[1;32m     18\u001b[0m                     \u001b[0;32mif\u001b[0m \u001b[0mi\u001b[0m\u001b[0;34m==\u001b[0m\u001b[0mj\u001b[0m\u001b[0;34m:\u001b[0m\u001b[0;34m\u001b[0m\u001b[0;34m\u001b[0m\u001b[0m\n",
      "\u001b[0;32mvar.pxi\u001b[0m in \u001b[0;36mgurobipy.Var.__getattr__\u001b[0;34m()\u001b[0m\n",
      "\u001b[0;32mvar.pxi\u001b[0m in \u001b[0;36mgurobipy.Var.getAttr\u001b[0;34m()\u001b[0m\n",
      "\u001b[0;31mAttributeError\u001b[0m: b\"Unable to retrieve attribute 'X'\""
     ]
    }
   ],
   "source": [
    "k_two_distant,details_two_distant = pyrankability.lop.bilp_two_most_distant_jonad(D_N_tiny_3.values,verbose=False)\n",
    "k_two_distant"
   ]
  },
  {
   "cell_type": "code",
   "execution_count": 788,
   "metadata": {},
   "outputs": [
    {
     "data": {
      "text/html": [
       "<div>\n",
       "<style scoped>\n",
       "    .dataframe tbody tr th:only-of-type {\n",
       "        vertical-align: middle;\n",
       "    }\n",
       "\n",
       "    .dataframe tbody tr th {\n",
       "        vertical-align: top;\n",
       "    }\n",
       "\n",
       "    .dataframe thead th {\n",
       "        text-align: right;\n",
       "    }\n",
       "</style>\n",
       "<table border=\"1\" class=\"dataframe\">\n",
       "  <thead>\n",
       "    <tr style=\"text-align: right;\">\n",
       "      <th></th>\n",
       "      <th>0</th>\n",
       "      <th>1</th>\n",
       "      <th>2</th>\n",
       "      <th>3</th>\n",
       "      <th>4</th>\n",
       "      <th>5</th>\n",
       "    </tr>\n",
       "  </thead>\n",
       "  <tbody>\n",
       "    <tr>\n",
       "      <td>0</td>\n",
       "      <td>0</td>\n",
       "      <td>1</td>\n",
       "      <td>0</td>\n",
       "      <td>0</td>\n",
       "      <td>0</td>\n",
       "      <td>1</td>\n",
       "    </tr>\n",
       "    <tr>\n",
       "      <td>1</td>\n",
       "      <td>0</td>\n",
       "      <td>0</td>\n",
       "      <td>1</td>\n",
       "      <td>1</td>\n",
       "      <td>0</td>\n",
       "      <td>0</td>\n",
       "    </tr>\n",
       "    <tr>\n",
       "      <td>2</td>\n",
       "      <td>0</td>\n",
       "      <td>1</td>\n",
       "      <td>0</td>\n",
       "      <td>0</td>\n",
       "      <td>0</td>\n",
       "      <td>0</td>\n",
       "    </tr>\n",
       "    <tr>\n",
       "      <td>3</td>\n",
       "      <td>1</td>\n",
       "      <td>0</td>\n",
       "      <td>0</td>\n",
       "      <td>0</td>\n",
       "      <td>0</td>\n",
       "      <td>1</td>\n",
       "    </tr>\n",
       "    <tr>\n",
       "      <td>4</td>\n",
       "      <td>0</td>\n",
       "      <td>0</td>\n",
       "      <td>0</td>\n",
       "      <td>0</td>\n",
       "      <td>0</td>\n",
       "      <td>0</td>\n",
       "    </tr>\n",
       "    <tr>\n",
       "      <td>5</td>\n",
       "      <td>0</td>\n",
       "      <td>1</td>\n",
       "      <td>1</td>\n",
       "      <td>0</td>\n",
       "      <td>1</td>\n",
       "      <td>0</td>\n",
       "    </tr>\n",
       "  </tbody>\n",
       "</table>\n",
       "</div>"
      ],
      "text/plain": [
       "   0  1  2  3  4  5\n",
       "0  0  1  0  0  0  1\n",
       "1  0  0  1  1  0  0\n",
       "2  0  1  0  0  0  0\n",
       "3  1  0  0  0  0  1\n",
       "4  0  0  0  0  0  0\n",
       "5  0  1  1  0  1  0"
      ]
     },
     "execution_count": 788,
     "metadata": {},
     "output_type": "execute_result"
    }
   ],
   "source": [
    "# N_tiny_6 example\n",
    "data=open(\"../N_tiny_6\").read().split(\"\\n\")\n",
    "data=data[1:-1]\n",
    "dt = []\n",
    "for line in data:\n",
    "    dt.append([int(k) for k in line.split()])\n",
    "D_N_tiny_6 = pd.DataFrame(dt)\n",
    "D_N_tiny_6"
   ]
  },
  {
   "cell_type": "code",
   "execution_count": 789,
   "metadata": {},
   "outputs": [
    {
     "ename": "AttributeError",
     "evalue": "b\"Unable to retrieve attribute 'X'\"",
     "output_type": "error",
     "traceback": [
      "\u001b[0;31m---------------------------------------------------------------------------\u001b[0m",
      "\u001b[0;31mAttributeError\u001b[0m                            Traceback (most recent call last)",
      "\u001b[0;32m<ipython-input-789-9f15d174381b>\u001b[0m in \u001b[0;36m<module>\u001b[0;34m\u001b[0m\n\u001b[0;32m----> 1\u001b[0;31m \u001b[0mk_two_distant\u001b[0m\u001b[0;34m,\u001b[0m\u001b[0mdetails_two_distant\u001b[0m \u001b[0;34m=\u001b[0m \u001b[0mpyrankability\u001b[0m\u001b[0;34m.\u001b[0m\u001b[0mlop\u001b[0m\u001b[0;34m.\u001b[0m\u001b[0mbilp_two_most_distant_jonad\u001b[0m\u001b[0;34m(\u001b[0m\u001b[0mD_N_tiny_6\u001b[0m\u001b[0;34m.\u001b[0m\u001b[0mvalues\u001b[0m\u001b[0;34m,\u001b[0m\u001b[0mverbose\u001b[0m\u001b[0;34m=\u001b[0m\u001b[0;32mFalse\u001b[0m\u001b[0;34m)\u001b[0m\u001b[0;34m\u001b[0m\u001b[0;34m\u001b[0m\u001b[0m\n\u001b[0m\u001b[1;32m      2\u001b[0m \u001b[0mk_two_distant\u001b[0m\u001b[0;34m\u001b[0m\u001b[0;34m\u001b[0m\u001b[0m\n\u001b[1;32m      3\u001b[0m \u001b[0mdetails_two_distant\u001b[0m\u001b[0;34m\u001b[0m\u001b[0;34m\u001b[0m\u001b[0m\n",
      "\u001b[0;32m~/rankability_toolbox/pyrankability/lop.py\u001b[0m in \u001b[0;36mbilp_two_most_distant_jonad\u001b[0;34m(D, lazy, verbose)\u001b[0m\n\u001b[1;32m    164\u001b[0m         \u001b[0mprint\u001b[0m\u001b[0;34m(\u001b[0m\u001b[0;34m'End optimization'\u001b[0m\u001b[0;34m)\u001b[0m\u001b[0;34m\u001b[0m\u001b[0;34m\u001b[0m\u001b[0m\n\u001b[1;32m    165\u001b[0m \u001b[0;34m\u001b[0m\u001b[0m\n\u001b[0;32m--> 166\u001b[0;31m     \u001b[0msol_x\u001b[0m \u001b[0;34m=\u001b[0m \u001b[0mget_sol_x_by_x\u001b[0m\u001b[0;34m(\u001b[0m\u001b[0mx\u001b[0m\u001b[0;34m,\u001b[0m\u001b[0mn\u001b[0m\u001b[0;34m)\u001b[0m\u001b[0;34m(\u001b[0m\u001b[0;34m)\u001b[0m\u001b[0;34m\u001b[0m\u001b[0;34m\u001b[0m\u001b[0m\n\u001b[0m\u001b[1;32m    167\u001b[0m     \u001b[0msol_y\u001b[0m \u001b[0;34m=\u001b[0m \u001b[0mget_sol_x_by_x\u001b[0m\u001b[0;34m(\u001b[0m\u001b[0my\u001b[0m\u001b[0;34m,\u001b[0m\u001b[0mn\u001b[0m\u001b[0;34m)\u001b[0m\u001b[0;34m(\u001b[0m\u001b[0;34m)\u001b[0m\u001b[0;34m\u001b[0m\u001b[0;34m\u001b[0m\u001b[0m\n\u001b[1;32m    168\u001b[0m     \u001b[0msol_z\u001b[0m \u001b[0;34m=\u001b[0m \u001b[0mget_sol_x_by_x\u001b[0m\u001b[0;34m(\u001b[0m\u001b[0mz\u001b[0m\u001b[0;34m,\u001b[0m\u001b[0mn\u001b[0m\u001b[0;34m)\u001b[0m\u001b[0;34m(\u001b[0m\u001b[0;34m)\u001b[0m\u001b[0;34m\u001b[0m\u001b[0;34m\u001b[0m\u001b[0m\n",
      "\u001b[0;32m~/rankability_toolbox/pyrankability/common.py\u001b[0m in \u001b[0;36mmyfunc\u001b[0;34m()\u001b[0m\n\u001b[1;32m     14\u001b[0m             \u001b[0;32mfor\u001b[0m \u001b[0mj\u001b[0m \u001b[0;32min\u001b[0m \u001b[0mrange\u001b[0m\u001b[0;34m(\u001b[0m\u001b[0mn\u001b[0m\u001b[0;34m)\u001b[0m\u001b[0;34m:\u001b[0m\u001b[0;34m\u001b[0m\u001b[0;34m\u001b[0m\u001b[0m\n\u001b[1;32m     15\u001b[0m                 \u001b[0;32mif\u001b[0m \u001b[0;34m(\u001b[0m\u001b[0mi\u001b[0m\u001b[0;34m,\u001b[0m\u001b[0mj\u001b[0m\u001b[0;34m)\u001b[0m \u001b[0;32min\u001b[0m \u001b[0mx\u001b[0m\u001b[0;34m:\u001b[0m\u001b[0;34m\u001b[0m\u001b[0;34m\u001b[0m\u001b[0m\n\u001b[0;32m---> 16\u001b[0;31m                     \u001b[0mvalues\u001b[0m\u001b[0;34m.\u001b[0m\u001b[0mappend\u001b[0m\u001b[0;34m(\u001b[0m\u001b[0mint\u001b[0m\u001b[0;34m(\u001b[0m\u001b[0mx\u001b[0m\u001b[0;34m[\u001b[0m\u001b[0mi\u001b[0m\u001b[0;34m,\u001b[0m\u001b[0mj\u001b[0m\u001b[0;34m]\u001b[0m\u001b[0;34m.\u001b[0m\u001b[0mX\u001b[0m\u001b[0;34m)\u001b[0m\u001b[0;34m)\u001b[0m\u001b[0;34m\u001b[0m\u001b[0;34m\u001b[0m\u001b[0m\n\u001b[0m\u001b[1;32m     17\u001b[0m                 \u001b[0;32melse\u001b[0m\u001b[0;34m:\u001b[0m\u001b[0;34m\u001b[0m\u001b[0;34m\u001b[0m\u001b[0m\n\u001b[1;32m     18\u001b[0m                     \u001b[0;32mif\u001b[0m \u001b[0mi\u001b[0m\u001b[0;34m==\u001b[0m\u001b[0mj\u001b[0m\u001b[0;34m:\u001b[0m\u001b[0;34m\u001b[0m\u001b[0;34m\u001b[0m\u001b[0m\n",
      "\u001b[0;32mvar.pxi\u001b[0m in \u001b[0;36mgurobipy.Var.__getattr__\u001b[0;34m()\u001b[0m\n",
      "\u001b[0;32mvar.pxi\u001b[0m in \u001b[0;36mgurobipy.Var.getAttr\u001b[0;34m()\u001b[0m\n",
      "\u001b[0;31mAttributeError\u001b[0m: b\"Unable to retrieve attribute 'X'\""
     ]
    }
   ],
   "source": [
    "k_two_distant,details_two_distant = pyrankability.lop.bilp_two_most_distant_jonad(D_N_tiny_6.values,verbose=False)\n",
    "k_two_distant\n",
    "details_two_distant"
   ]
  },
  {
   "cell_type": "code",
   "execution_count": 786,
   "metadata": {},
   "outputs": [
    {
     "data": {
      "text/html": [
       "<div>\n",
       "<style scoped>\n",
       "    .dataframe tbody tr th:only-of-type {\n",
       "        vertical-align: middle;\n",
       "    }\n",
       "\n",
       "    .dataframe tbody tr th {\n",
       "        vertical-align: top;\n",
       "    }\n",
       "\n",
       "    .dataframe thead th {\n",
       "        text-align: right;\n",
       "    }\n",
       "</style>\n",
       "<table border=\"1\" class=\"dataframe\">\n",
       "  <thead>\n",
       "    <tr style=\"text-align: right;\">\n",
       "      <th></th>\n",
       "      <th>0</th>\n",
       "      <th>1</th>\n",
       "      <th>2</th>\n",
       "      <th>3</th>\n",
       "      <th>4</th>\n",
       "      <th>5</th>\n",
       "    </tr>\n",
       "  </thead>\n",
       "  <tbody>\n",
       "    <tr>\n",
       "      <td>0</td>\n",
       "      <td>0</td>\n",
       "      <td>1</td>\n",
       "      <td>0</td>\n",
       "      <td>0</td>\n",
       "      <td>0</td>\n",
       "      <td>1</td>\n",
       "    </tr>\n",
       "    <tr>\n",
       "      <td>1</td>\n",
       "      <td>0</td>\n",
       "      <td>0</td>\n",
       "      <td>1</td>\n",
       "      <td>1</td>\n",
       "      <td>0</td>\n",
       "      <td>0</td>\n",
       "    </tr>\n",
       "    <tr>\n",
       "      <td>2</td>\n",
       "      <td>0</td>\n",
       "      <td>1</td>\n",
       "      <td>0</td>\n",
       "      <td>0</td>\n",
       "      <td>0</td>\n",
       "      <td>0</td>\n",
       "    </tr>\n",
       "    <tr>\n",
       "      <td>3</td>\n",
       "      <td>1</td>\n",
       "      <td>0</td>\n",
       "      <td>0</td>\n",
       "      <td>0</td>\n",
       "      <td>0</td>\n",
       "      <td>1</td>\n",
       "    </tr>\n",
       "    <tr>\n",
       "      <td>4</td>\n",
       "      <td>0</td>\n",
       "      <td>0</td>\n",
       "      <td>0</td>\n",
       "      <td>0</td>\n",
       "      <td>0</td>\n",
       "      <td>0</td>\n",
       "    </tr>\n",
       "    <tr>\n",
       "      <td>5</td>\n",
       "      <td>0</td>\n",
       "      <td>1</td>\n",
       "      <td>1</td>\n",
       "      <td>0</td>\n",
       "      <td>1</td>\n",
       "      <td>0</td>\n",
       "    </tr>\n",
       "  </tbody>\n",
       "</table>\n",
       "</div>"
      ],
      "text/plain": [
       "   0  1  2  3  4  5\n",
       "0  0  1  0  0  0  1\n",
       "1  0  0  1  1  0  0\n",
       "2  0  1  0  0  0  0\n",
       "3  1  0  0  0  0  1\n",
       "4  0  0  0  0  0  0\n",
       "5  0  1  1  0  1  0"
      ]
     },
     "execution_count": 786,
     "metadata": {},
     "output_type": "execute_result"
    }
   ],
   "source": [
    " N_tiny_6 example\n",
    "data=open(\"../N_tiny_6\").read().split(\"\\n\")\n",
    "data=data[1:-1]\n",
    "dt = []\n",
    "for line in data:\n",
    "    dt.append([int(k) for k in line.split()])\n",
    "D_N_tiny_6 = pd.DataFrame(dt)\n",
    "D_N_tiny_6"
   ]
  },
  {
   "cell_type": "code",
   "execution_count": 787,
   "metadata": {},
   "outputs": [
    {
     "data": {
      "text/plain": [
       "{'obj': 12.0,\n",
       " 'k_x': 8,\n",
       " 'k_y': 8,\n",
       " 'perm_x': (3, 0, 5, 1, 2, 4),\n",
       " 'perm_y': (3, 0, 5, 4, 2, 1),\n",
       " 'x': array([[0, 1, 1, 0, 1, 1],\n",
       "        [0, 0, 1, 0, 1, 0],\n",
       "        [0, 0, 0, 0, 1, 0],\n",
       "        [1, 1, 1, 0, 1, 1],\n",
       "        [0, 0, 0, 0, 0, 0],\n",
       "        [0, 1, 1, 0, 1, 0]]),\n",
       " 'y': array([[0, 1, 1, 0, 1, 1],\n",
       "        [0, 0, 0, 0, 0, 0],\n",
       "        [0, 1, 0, 0, 0, 0],\n",
       "        [1, 1, 1, 0, 1, 1],\n",
       "        [0, 1, 1, 0, 0, 0],\n",
       "        [0, 1, 1, 0, 1, 0]]),\n",
       " 'u': array([[0, 0, 0, 1, 0, 0],\n",
       "        [0, 0, 0, 1, 0, 1],\n",
       "        [0, 0, 0, 1, 0, 1],\n",
       "        [1, 1, 1, 0, 0, 0],\n",
       "        [0, 0, 0, 0, 0, 1],\n",
       "        [0, 1, 1, 0, 1, 0]]),\n",
       " 'v': array([[0, 1, 1, 0, 1, 1],\n",
       "        [1, 0, 0, 0, 0, 0],\n",
       "        [1, 0, 0, 0, 0, 0],\n",
       "        [0, 0, 0, 0, 1, 1],\n",
       "        [1, 0, 0, 1, 0, 0],\n",
       "        [1, 0, 0, 1, 0, 0]]),\n",
       " 'b': array([[0, 1, 1, 0, 1, 1],\n",
       "        [0, 0, 1, 0, 1, 0],\n",
       "        [0, 0, 0, 0, 1, 0],\n",
       "        [1, 1, 1, 0, 1, 1],\n",
       "        [0, 0, 0, 0, 0, 0],\n",
       "        [0, 1, 1, 0, 1, 0]])}"
      ]
     },
     "execution_count": 787,
     "metadata": {},
     "output_type": "execute_result"
    }
   ],
   "source": [
    "k_two_distant,details_two_distant = pyrankability.lop.bilp_two_most_distant2(D_N_tiny_6.values,verbose=False)\n",
    "k_two_distant\n",
    "details_two_distant"
   ]
  },
  {
   "cell_type": "code",
   "execution_count": 646,
   "metadata": {},
   "outputs": [
    {
     "data": {
      "text/html": [
       "<div>\n",
       "<style scoped>\n",
       "    .dataframe tbody tr th:only-of-type {\n",
       "        vertical-align: middle;\n",
       "    }\n",
       "\n",
       "    .dataframe tbody tr th {\n",
       "        vertical-align: top;\n",
       "    }\n",
       "\n",
       "    .dataframe thead th {\n",
       "        text-align: right;\n",
       "    }\n",
       "</style>\n",
       "<table border=\"1\" class=\"dataframe\">\n",
       "  <thead>\n",
       "    <tr style=\"text-align: right;\">\n",
       "      <th></th>\n",
       "      <th>0</th>\n",
       "      <th>1</th>\n",
       "      <th>2</th>\n",
       "      <th>3</th>\n",
       "      <th>4</th>\n",
       "      <th>5</th>\n",
       "    </tr>\n",
       "  </thead>\n",
       "  <tbody>\n",
       "    <tr>\n",
       "      <td>0</td>\n",
       "      <td>0</td>\n",
       "      <td>1</td>\n",
       "      <td>0</td>\n",
       "      <td>0</td>\n",
       "      <td>0</td>\n",
       "      <td>1</td>\n",
       "    </tr>\n",
       "    <tr>\n",
       "      <td>1</td>\n",
       "      <td>0</td>\n",
       "      <td>0</td>\n",
       "      <td>1</td>\n",
       "      <td>1</td>\n",
       "      <td>0</td>\n",
       "      <td>0</td>\n",
       "    </tr>\n",
       "    <tr>\n",
       "      <td>2</td>\n",
       "      <td>0</td>\n",
       "      <td>1</td>\n",
       "      <td>0</td>\n",
       "      <td>0</td>\n",
       "      <td>0</td>\n",
       "      <td>0</td>\n",
       "    </tr>\n",
       "    <tr>\n",
       "      <td>3</td>\n",
       "      <td>1</td>\n",
       "      <td>0</td>\n",
       "      <td>0</td>\n",
       "      <td>0</td>\n",
       "      <td>0</td>\n",
       "      <td>1</td>\n",
       "    </tr>\n",
       "    <tr>\n",
       "      <td>4</td>\n",
       "      <td>0</td>\n",
       "      <td>0</td>\n",
       "      <td>0</td>\n",
       "      <td>0</td>\n",
       "      <td>0</td>\n",
       "      <td>0</td>\n",
       "    </tr>\n",
       "    <tr>\n",
       "      <td>5</td>\n",
       "      <td>0</td>\n",
       "      <td>1</td>\n",
       "      <td>1</td>\n",
       "      <td>0</td>\n",
       "      <td>1</td>\n",
       "      <td>0</td>\n",
       "    </tr>\n",
       "  </tbody>\n",
       "</table>\n",
       "</div>"
      ],
      "text/plain": [
       "   0  1  2  3  4  5\n",
       "0  0  1  0  0  0  1\n",
       "1  0  0  1  1  0  0\n",
       "2  0  1  0  0  0  0\n",
       "3  1  0  0  0  0  1\n",
       "4  0  0  0  0  0  0\n",
       "5  0  1  1  0  1  0"
      ]
     },
     "execution_count": 646,
     "metadata": {},
     "output_type": "execute_result"
    }
   ],
   "source": [
    "# N_tiny_6 example\n",
    "data=open(\"../N_tiny_6\").read().split(\"\\n\")\n",
    "data=data[1:-1]\n",
    "dt = []\n",
    "for line in data:\n",
    "    dt.append([int(k) for k in line.split()])\n",
    "D_N_tiny_6 = pd.DataFrame(dt)\n",
    "D_N_tiny_6"
   ]
  },
  {
   "cell_type": "code",
   "execution_count": 649,
   "metadata": {},
   "outputs": [
    {
     "data": {
      "text/plain": [
       "{'obj': 3.0,\n",
       " 'k_x': 8,\n",
       " 'k_y': 8,\n",
       " 'perm_x': (3, 0, 5, 1, 2, 4),\n",
       " 'perm_y': (3, 0, 5, 4, 2, 1),\n",
       " 'x': array([[0, 1, 1, 0, 1, 1],\n",
       "        [0, 0, 1, 0, 1, 0],\n",
       "        [0, 0, 0, 0, 1, 0],\n",
       "        [1, 1, 1, 0, 1, 1],\n",
       "        [0, 0, 0, 0, 0, 0],\n",
       "        [0, 1, 1, 0, 1, 0]]),\n",
       " 'y': array([[0, 1, 1, 0, 1, 1],\n",
       "        [0, 0, 0, 0, 0, 0],\n",
       "        [0, 1, 0, 0, 0, 0],\n",
       "        [1, 1, 1, 0, 1, 1],\n",
       "        [0, 1, 1, 0, 0, 0],\n",
       "        [0, 1, 1, 0, 1, 0]]),\n",
       " 'u': array([[0, 0, 0, 0, 0, 0],\n",
       "        [0, 0, 1, 0, 1, 0],\n",
       "        [0, 1, 0, 0, 1, 0],\n",
       "        [0, 0, 0, 0, 0, 0],\n",
       "        [0, 1, 1, 0, 0, 0],\n",
       "        [0, 0, 0, 0, 0, 0]]),\n",
       " 'v': array([[0, 0, 0, 0, 0, 0],\n",
       "        [0, 0, 0, 0, 0, 0],\n",
       "        [0, 0, 0, 0, 0, 0],\n",
       "        [0, 0, 0, 0, 0, 0],\n",
       "        [0, 0, 0, 0, 0, 0],\n",
       "        [0, 0, 0, 0, 0, 0]]),\n",
       " 'b': array([[0, 0, 0, 0, 0, 0],\n",
       "        [1, 0, 1, 0, 1, 0],\n",
       "        [1, 0, 0, 0, 1, 0],\n",
       "        [1, 1, 1, 0, 0, 0],\n",
       "        [1, 0, 0, 1, 0, 0],\n",
       "        [1, 1, 1, 1, 1, 0]])}"
      ]
     },
     "execution_count": 649,
     "metadata": {},
     "output_type": "execute_result"
    }
   ],
   "source": [
    "k_two_distant,details_two_distant = pyrankability.lop.bilp_two_most_distant(D_N_tiny_6.values,verbose=False)\n",
    "k_two_distant\n",
    "details_two_distant"
   ]
  },
  {
   "cell_type": "code",
   "execution_count": 650,
   "metadata": {},
   "outputs": [
    {
     "data": {
      "text/plain": [
       "0.3333333333333333"
      ]
     },
     "execution_count": 650,
     "metadata": {},
     "output_type": "execute_result"
    }
   ],
   "source": [
    "rho,pval1=stats.kendalltau(details_two_distant['perm_x'], details_two_distant['perm_y'])\n",
    "rho"
   ]
  },
  {
   "cell_type": "code",
   "execution_count": null,
   "metadata": {},
   "outputs": [],
   "source": []
  }
 ],
 "metadata": {
  "kernelspec": {
   "display_name": "Python 3",
   "language": "python",
   "name": "python3"
  },
  "language_info": {
   "codemirror_mode": {
    "name": "ipython",
    "version": 3
   },
   "file_extension": ".py",
   "mimetype": "text/x-python",
   "name": "python",
   "nbconvert_exporter": "python",
   "pygments_lexer": "ipython3",
   "version": "3.6.9"
  }
 },
 "nbformat": 4,
 "nbformat_minor": 4
}
