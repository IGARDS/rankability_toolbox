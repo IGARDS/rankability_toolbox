{
 "cells": [
  {
   "cell_type": "markdown",
   "metadata": {},
   "source": [
    "# Examples of the pyrankability package"
   ]
  },
  {
   "cell_type": "code",
   "execution_count": 1,
   "metadata": {},
   "outputs": [],
   "source": [
    "%load_ext autoreload\n",
    "%autoreload 2"
   ]
  },
  {
   "cell_type": "code",
   "execution_count": 2,
   "metadata": {},
   "outputs": [],
   "source": [
    "from IPython.core.display import display, HTML\n",
    "import pandas as pd\n",
    "import numpy as np\n",
    "import copy\n",
    "import os"
   ]
  },
  {
   "cell_type": "code",
   "execution_count": 3,
   "metadata": {},
   "outputs": [],
   "source": [
    "import sys\n",
    "sys.path.insert(0,\".\")"
   ]
  },
  {
   "cell_type": "code",
   "execution_count": 4,
   "metadata": {},
   "outputs": [],
   "source": [
    "import pyrankability"
   ]
  },
  {
   "cell_type": "markdown",
   "metadata": {},
   "source": [
    "## Simple examples"
   ]
  },
  {
   "cell_type": "code",
   "execution_count": 5,
   "metadata": {},
   "outputs": [
    {
     "data": {
      "text/plain": [
       "array([[0., 1., 1., 1., 1., 1., 1., 1.],\n",
       "       [0., 0., 1., 1., 1., 1., 1., 1.],\n",
       "       [0., 0., 0., 1., 1., 1., 1., 1.],\n",
       "       [1., 1., 1., 1., 0., 0., 0., 0.],\n",
       "       [0., 0., 0., 0., 0., 1., 1., 1.],\n",
       "       [1., 1., 1., 1., 1., 1., 0., 0.],\n",
       "       [0., 0., 0., 0., 0., 0., 0., 1.],\n",
       "       [1., 1., 1., 1., 1., 1., 1., 1.]])"
      ]
     },
     "execution_count": 5,
     "metadata": {},
     "output_type": "execute_result"
    }
   ],
   "source": [
    "n=8\n",
    "D=np.zeros((n,n))\n",
    "D[np.triu_indices(n,1)]=1\n",
    "D[[5,3,7]] = 1-D[[5,3,7]]\n",
    "D"
   ]
  },
  {
   "cell_type": "markdown",
   "metadata": {},
   "source": [
    "### Hillside"
   ]
  },
  {
   "cell_type": "code",
   "execution_count": 6,
   "metadata": {},
   "outputs": [
    {
     "name": "stdout",
     "output_type": "stream",
     "text": [
      "Academic license - for non-commercial use only\n"
     ]
    },
    {
     "data": {
      "text/plain": [
       "54"
      ]
     },
     "execution_count": 6,
     "metadata": {},
     "output_type": "execute_result"
    }
   ],
   "source": [
    "k_hillside,details_hillside = pyrankability.hillside.bilp(D)\n",
    "k_hillside"
   ]
  },
  {
   "cell_type": "code",
   "execution_count": 7,
   "metadata": {},
   "outputs": [
    {
     "data": {
      "text/plain": [
       "[(0, 7, 1, 5, 2, 4, 3, 6)]"
      ]
     },
     "execution_count": 7,
     "metadata": {},
     "output_type": "execute_result"
    }
   ],
   "source": [
    "details_hillside['P']"
   ]
  },
  {
   "cell_type": "markdown",
   "metadata": {},
   "source": [
    "### LOP"
   ]
  },
  {
   "cell_type": "code",
   "execution_count": 8,
   "metadata": {},
   "outputs": [
    {
     "data": {
      "text/plain": [
       "25.0"
      ]
     },
     "execution_count": 8,
     "metadata": {},
     "output_type": "execute_result"
    }
   ],
   "source": [
    "k_lop,details_lop = pyrankability.lop.bilp(D)\n",
    "k_lop"
   ]
  },
  {
   "cell_type": "code",
   "execution_count": 9,
   "metadata": {},
   "outputs": [
    {
     "data": {
      "text/plain": [
       "[(7, 0, 1, 2, 4, 6, 5, 3)]"
      ]
     },
     "execution_count": 9,
     "metadata": {},
     "output_type": "execute_result"
    }
   ],
   "source": [
    "details_lop['P']"
   ]
  },
  {
   "cell_type": "markdown",
   "metadata": {},
   "source": [
    "### Multiple solutions with random restarts"
   ]
  },
  {
   "cell_type": "code",
   "execution_count": 10,
   "metadata": {},
   "outputs": [
    {
     "name": "stdout",
     "output_type": "stream",
     "text": [
      "Read MPS format model from file /tmp/tmpyd7enj5k/model.mps\n",
      "Reading time = 0.00 seconds\n",
      "lop: 400 rows, 64 columns, 1128 nonzeros\n",
      "Read MPS format model from file /tmp/tmpyd7enj5k/model.mps\n",
      "Reading time = 0.00 seconds\n",
      "lop: 400 rows, 64 columns, 1128 nonzeros\n",
      "Read MPS format model from file /tmp/tmpyd7enj5k/model.mps\n",
      "Reading time = 0.00 seconds\n",
      "lop: 400 rows, 64 columns, 1128 nonzeros\n",
      "Read MPS format model from file /tmp/tmpyd7enj5k/model.mps\n",
      "Reading time = 0.00 seconds\n",
      "lop: 400 rows, 64 columns, 1128 nonzeros\n",
      "Read MPS format model from file /tmp/tmpyd7enj5k/model.mps\n",
      "Reading time = 0.00 seconds\n",
      "lop: 400 rows, 64 columns, 1128 nonzeros\n",
      "Read MPS format model from file /tmp/tmpyd7enj5k/model.mps\n",
      "Reading time = 0.00 seconds\n",
      "lop: 400 rows, 64 columns, 1128 nonzeros\n",
      "Read MPS format model from file /tmp/tmpyd7enj5k/model.mps\n",
      "Reading time = 0.00 seconds\n",
      "lop: 400 rows, 64 columns, 1128 nonzeros\n",
      "Read MPS format model from file /tmp/tmpyd7enj5k/model.mps\n",
      "Reading time = 0.00 seconds\n",
      "lop: 400 rows, 64 columns, 1128 nonzeros\n",
      "Read MPS format model from file /tmp/tmpyd7enj5k/model.mps\n",
      "Reading time = 0.00 seconds\n",
      "lop: 400 rows, 64 columns, 1128 nonzeros\n",
      "Read MPS format model from file /tmp/tmpyd7enj5k/model.mps\n",
      "Reading time = 0.00 seconds\n",
      "lop: 400 rows, 64 columns, 1128 nonzeros\n"
     ]
    },
    {
     "data": {
      "text/plain": [
       "54"
      ]
     },
     "execution_count": 10,
     "metadata": {},
     "output_type": "execute_result"
    }
   ],
   "source": [
    "k_hillside_10,details_hillside_10 = pyrankability.hillside.bilp(D,num_random_restarts=10)\n",
    "k_hillside_10"
   ]
  },
  {
   "cell_type": "code",
   "execution_count": 11,
   "metadata": {},
   "outputs": [
    {
     "data": {
      "text/plain": [
       "[(0, 7, 1, 5, 2, 4, 3, 6),\n",
       " (0, 7, 1, 5, 2, 3, 4, 6),\n",
       " (0, 1, 7, 5, 2, 3, 4, 6),\n",
       " (0, 7, 1, 5, 2, 4, 3, 6),\n",
       " (0, 7, 1, 2, 5, 4, 3, 6),\n",
       " (0, 7, 1, 2, 5, 3, 4, 6),\n",
       " (0, 1, 7, 2, 5, 4, 3, 6),\n",
       " (0, 7, 1, 2, 5, 4, 3, 6),\n",
       " (0, 7, 1, 2, 5, 4, 3, 6),\n",
       " (0, 7, 1, 5, 2, 4, 3, 6),\n",
       " (0, 1, 7, 5, 2, 3, 4, 6)]"
      ]
     },
     "execution_count": 11,
     "metadata": {},
     "output_type": "execute_result"
    }
   ],
   "source": [
    "details_hillside_10['P']"
   ]
  },
  {
   "cell_type": "code",
   "execution_count": 12,
   "metadata": {},
   "outputs": [
    {
     "name": "stdout",
     "output_type": "stream",
     "text": [
      "Read MPS format model from file /tmp/tmpg6vngqow/model.mps\n",
      "Reading time = 0.00 seconds\n",
      "lop: 400 rows, 64 columns, 1128 nonzeros\n",
      "Read MPS format model from file /tmp/tmpg6vngqow/model.mps\n",
      "Reading time = 0.00 seconds\n",
      "lop: 400 rows, 64 columns, 1128 nonzeros\n",
      "Read MPS format model from file /tmp/tmpg6vngqow/model.mps\n",
      "Reading time = 0.00 seconds\n",
      "lop: 400 rows, 64 columns, 1128 nonzeros\n",
      "Read MPS format model from file /tmp/tmpg6vngqow/model.mps\n",
      "Reading time = 0.00 seconds\n",
      "lop: 400 rows, 64 columns, 1128 nonzeros\n",
      "Read MPS format model from file /tmp/tmpg6vngqow/model.mps\n",
      "Reading time = 0.00 seconds\n",
      "lop: 400 rows, 64 columns, 1128 nonzeros\n",
      "Read MPS format model from file /tmp/tmpg6vngqow/model.mps\n",
      "Reading time = 0.00 seconds\n",
      "lop: 400 rows, 64 columns, 1128 nonzeros\n",
      "Read MPS format model from file /tmp/tmpg6vngqow/model.mps\n",
      "Reading time = 0.00 seconds\n",
      "lop: 400 rows, 64 columns, 1128 nonzeros\n",
      "Read MPS format model from file /tmp/tmpg6vngqow/model.mps\n",
      "Reading time = 0.00 seconds\n",
      "lop: 400 rows, 64 columns, 1128 nonzeros\n",
      "Read MPS format model from file /tmp/tmpg6vngqow/model.mps\n",
      "Reading time = 0.00 seconds\n",
      "lop: 400 rows, 64 columns, 1128 nonzeros\n",
      "Read MPS format model from file /tmp/tmpg6vngqow/model.mps\n",
      "Reading time = 0.00 seconds\n",
      "lop: 400 rows, 64 columns, 1128 nonzeros\n"
     ]
    },
    {
     "data": {
      "text/plain": [
       "25.0"
      ]
     },
     "execution_count": 12,
     "metadata": {},
     "output_type": "execute_result"
    }
   ],
   "source": [
    "k_lop_10,details_lop_10 = pyrankability.lop.bilp(D,num_random_restarts=10)\n",
    "k_lop_10"
   ]
  },
  {
   "cell_type": "code",
   "execution_count": 14,
   "metadata": {},
   "outputs": [
    {
     "data": {
      "text/plain": [
       "[(7, 0, 1, 2, 4, 6, 5, 3),\n",
       " (0, 7, 1, 2, 5, 4, 3, 6),\n",
       " (0, 7, 1, 5, 2, 4, 3, 6),\n",
       " (0, 7, 1, 2, 5, 4, 3, 6),\n",
       " (0, 7, 1, 5, 2, 4, 3, 6),\n",
       " (0, 7, 1, 2, 5, 4, 3, 6),\n",
       " (0, 7, 1, 5, 2, 4, 3, 6),\n",
       " (0, 7, 1, 5, 2, 4, 3, 6),\n",
       " (0, 7, 1, 5, 2, 4, 3, 6),\n",
       " (0, 7, 1, 2, 5, 4, 3, 6),\n",
       " (0, 7, 1, 2, 5, 4, 3, 6)]"
      ]
     },
     "execution_count": 14,
     "metadata": {},
     "output_type": "execute_result"
    }
   ],
   "source": [
    "details_lop_10['P']"
   ]
  },
  {
   "cell_type": "markdown",
   "metadata": {},
   "source": [
    "### Multiple solutions with pairs"
   ]
  },
  {
   "cell_type": "code",
   "execution_count": 16,
   "metadata": {},
   "outputs": [
    {
     "name": "stdout",
     "output_type": "stream",
     "text": [
      "Read MPS format model from file /tmp/tmp5n4z0h6s/model.mps\n",
      "Reading time = 0.00 seconds\n",
      "lop: 400 rows, 64 columns, 1128 nonzeros\n",
      "Read MPS format model from file /tmp/tmp5n4z0h6s/model.mps\n",
      "Reading time = 0.00 seconds\n",
      "lop: 400 rows, 64 columns, 1128 nonzeros\n",
      "Read MPS format model from file /tmp/tmp5n4z0h6s/model.mps\n",
      "Reading time = 0.00 seconds\n",
      "lop: 400 rows, 64 columns, 1128 nonzeros\n",
      "Read MPS format model from file /tmp/tmp5n4z0h6s/model.mps\n",
      "Reading time = 0.00 seconds\n",
      "lop: 400 rows, 64 columns, 1128 nonzeros\n",
      "Read MPS format model from file /tmp/tmp5n4z0h6s/model.mps\n",
      "Reading time = 0.00 seconds\n",
      "lop: 400 rows, 64 columns, 1128 nonzeros\n",
      "Read MPS format model from file /tmp/tmp5n4z0h6s/model.mps\n",
      "Reading time = 0.00 seconds\n",
      "lop: 400 rows, 64 columns, 1128 nonzeros\n",
      "Read MPS format model from file /tmp/tmp5n4z0h6s/model.mps\n",
      "Reading time = 0.00 seconds\n",
      "lop: 400 rows, 64 columns, 1128 nonzeros\n",
      "Read MPS format model from file /tmp/tmp5n4z0h6s/model.mps\n",
      "Reading time = 0.00 seconds\n",
      "lop: 400 rows, 64 columns, 1128 nonzeros\n",
      "Read MPS format model from file /tmp/tmp5n4z0h6s/model.mps\n",
      "Reading time = 0.00 seconds\n",
      "lop: 400 rows, 64 columns, 1128 nonzeros\n",
      "Read MPS format model from file /tmp/tmp5n4z0h6s/model.mps\n",
      "Reading time = 0.00 seconds\n",
      "lop: 400 rows, 64 columns, 1128 nonzeros\n",
      "Read MPS format model from file /tmp/tmp5n4z0h6s/model.mps\n",
      "Reading time = 0.00 seconds\n",
      "lop: 400 rows, 64 columns, 1128 nonzeros\n",
      "Read MPS format model from file /tmp/tmp5n4z0h6s/model.mps\n",
      "Reading time = 0.00 seconds\n",
      "lop: 400 rows, 64 columns, 1128 nonzeros\n",
      "Read MPS format model from file /tmp/tmp5n4z0h6s/model.mps\n",
      "Reading time = 0.00 seconds\n",
      "lop: 400 rows, 64 columns, 1128 nonzeros\n",
      "Read MPS format model from file /tmp/tmp5n4z0h6s/model.mps\n",
      "Reading time = 0.00 seconds\n",
      "lop: 400 rows, 64 columns, 1128 nonzeros\n",
      "Read MPS format model from file /tmp/tmp5n4z0h6s/model.mps\n",
      "Reading time = 0.00 seconds\n",
      "lop: 400 rows, 64 columns, 1128 nonzeros\n",
      "Read MPS format model from file /tmp/tmp5n4z0h6s/model.mps\n",
      "Reading time = 0.00 seconds\n",
      "lop: 400 rows, 64 columns, 1128 nonzeros\n",
      "Read MPS format model from file /tmp/tmp5n4z0h6s/model.mps\n",
      "Reading time = 0.00 seconds\n",
      "lop: 400 rows, 64 columns, 1128 nonzeros\n",
      "Read MPS format model from file /tmp/tmp5n4z0h6s/model.mps\n",
      "Reading time = 0.00 seconds\n",
      "lop: 400 rows, 64 columns, 1128 nonzeros\n",
      "Read MPS format model from file /tmp/tmp5n4z0h6s/model.mps\n",
      "Reading time = 0.00 seconds\n",
      "lop: 400 rows, 64 columns, 1128 nonzeros\n",
      "Read MPS format model from file /tmp/tmp5n4z0h6s/model.mps\n",
      "Reading time = 0.00 seconds\n",
      "lop: 400 rows, 64 columns, 1128 nonzeros\n",
      "Read MPS format model from file /tmp/tmp5n4z0h6s/model.mps\n",
      "Reading time = 0.00 seconds\n",
      "lop: 400 rows, 64 columns, 1128 nonzeros\n"
     ]
    },
    {
     "data": {
      "text/plain": [
       "54.0"
      ]
     },
     "execution_count": 16,
     "metadata": {},
     "output_type": "execute_result"
    }
   ],
   "source": [
    "k_hillside_10_paired,details_hillside_10_paired = pyrankability.hillside.bilp(D,num_random_restarts=10,find_pair=True)\n",
    "k_hillside_10_paired"
   ]
  },
  {
   "cell_type": "code",
   "execution_count": 17,
   "metadata": {},
   "outputs": [
    {
     "data": {
      "text/plain": [
       "dict_keys(['Pfirst', 'P', 'x', 'objs', 'xs', 'pair_details'])"
      ]
     },
     "execution_count": 17,
     "metadata": {},
     "output_type": "execute_result"
    }
   ],
   "source": [
    "details_hillside_10_paired.keys()"
   ]
  },
  {
   "cell_type": "markdown",
   "metadata": {},
   "source": [
    "If you want to check out the second pair:"
   ]
  },
  {
   "cell_type": "code",
   "execution_count": 19,
   "metadata": {},
   "outputs": [
    {
     "data": {
      "text/plain": [
       "((0, 1, 7, 2, 5, 4, 3, 6), (0, 7, 1, 5, 2, 3, 4, 6))"
      ]
     },
     "execution_count": 19,
     "metadata": {},
     "output_type": "execute_result"
    }
   ],
   "source": [
    "details_hillside_10_paired['P'][1],details_hillside_10_paired['pair_details']['P'][1]"
   ]
  },
  {
   "cell_type": "markdown",
   "metadata": {},
   "source": [
    "Visualize it"
   ]
  },
  {
   "cell_type": "code",
   "execution_count": 20,
   "metadata": {},
   "outputs": [
    {
     "name": "stderr",
     "output_type": "stream",
     "text": [
      "/data/env/lib/python3.6/site-packages/networkx/drawing/nx_pylab.py:579: MatplotlibDeprecationWarning: \n",
      "The iterable function was deprecated in Matplotlib 3.1 and will be removed in 3.3. Use np.iterable instead.\n",
      "  if not cb.iterable(width):\n"
     ]
    },
    {
     "data": {
      "image/png": "[encoded data removed]",
      "text/plain": [
       "<Figure size 360x720 with 1 Axes>"
      ]
     },
     "metadata": {},
     "output_type": "display_data"
    }
   ],
   "source": [
    "pyrankability.plot.spider(pyrankability.plot.AB_to_P2(details_hillside_10_paired['P'][1],details_hillside_10_paired['pair_details']['P'][1]))"
   ]
  },
  {
   "cell_type": "code",
   "execution_count": 23,
   "metadata": {},
   "outputs": [
    {
     "name": "stdout",
     "output_type": "stream",
     "text": [
      "Read MPS format model from file /tmp/tmp2wd_2xe8/model.mps\n",
      "Reading time = 0.00 seconds\n",
      "lop: 400 rows, 64 columns, 1128 nonzeros\n",
      "Read MPS format model from file /tmp/tmp2wd_2xe8/model.mps\n",
      "Reading time = 0.00 seconds\n",
      "lop: 400 rows, 64 columns, 1128 nonzeros\n",
      "Read MPS format model from file /tmp/tmp2wd_2xe8/model.mps\n",
      "Reading time = 0.00 seconds\n",
      "lop: 400 rows, 64 columns, 1128 nonzeros\n",
      "Read MPS format model from file /tmp/tmp2wd_2xe8/model.mps\n",
      "Reading time = 0.00 seconds\n",
      "lop: 400 rows, 64 columns, 1128 nonzeros\n",
      "Read MPS format model from file /tmp/tmp2wd_2xe8/model.mps\n",
      "Reading time = 0.00 seconds\n",
      "lop: 400 rows, 64 columns, 1128 nonzeros\n",
      "Read MPS format model from file /tmp/tmp2wd_2xe8/model.mps\n",
      "Reading time = 0.00 seconds\n",
      "lop: 400 rows, 64 columns, 1128 nonzeros\n",
      "Read MPS format model from file /tmp/tmp2wd_2xe8/model.mps\n",
      "Reading time = 0.00 seconds\n",
      "lop: 400 rows, 64 columns, 1128 nonzeros\n",
      "Read MPS format model from file /tmp/tmp2wd_2xe8/model.mps\n",
      "Reading time = 0.00 seconds\n",
      "lop: 400 rows, 64 columns, 1128 nonzeros\n",
      "Read MPS format model from file /tmp/tmp2wd_2xe8/model.mps\n",
      "Reading time = 0.00 seconds\n",
      "lop: 400 rows, 64 columns, 1128 nonzeros\n",
      "Read MPS format model from file /tmp/tmp2wd_2xe8/model.mps\n",
      "Reading time = 0.00 seconds\n",
      "lop: 400 rows, 64 columns, 1128 nonzeros\n",
      "Read MPS format model from file /tmp/tmp2wd_2xe8/model.mps\n",
      "Reading time = 0.00 seconds\n",
      "lop: 400 rows, 64 columns, 1128 nonzeros\n",
      "Read MPS format model from file /tmp/tmp2wd_2xe8/model.mps\n",
      "Reading time = 0.00 seconds\n",
      "lop: 400 rows, 64 columns, 1128 nonzeros\n",
      "Read MPS format model from file /tmp/tmp2wd_2xe8/model.mps\n",
      "Reading time = 0.00 seconds\n",
      "lop: 400 rows, 64 columns, 1128 nonzeros\n",
      "Read MPS format model from file /tmp/tmp2wd_2xe8/model.mps\n",
      "Reading time = 0.00 seconds\n",
      "lop: 400 rows, 64 columns, 1128 nonzeros\n",
      "Read MPS format model from file /tmp/tmp2wd_2xe8/model.mps\n",
      "Reading time = 0.00 seconds\n",
      "lop: 400 rows, 64 columns, 1128 nonzeros\n",
      "Read MPS format model from file /tmp/tmp2wd_2xe8/model.mps\n",
      "Reading time = 0.00 seconds\n",
      "lop: 400 rows, 64 columns, 1128 nonzeros\n",
      "Read MPS format model from file /tmp/tmp2wd_2xe8/model.mps\n",
      "Reading time = 0.00 seconds\n",
      "lop: 400 rows, 64 columns, 1128 nonzeros\n",
      "Read MPS format model from file /tmp/tmp2wd_2xe8/model.mps\n",
      "Reading time = 0.00 seconds\n",
      "lop: 400 rows, 64 columns, 1128 nonzeros\n",
      "Read MPS format model from file /tmp/tmp2wd_2xe8/model.mps\n",
      "Reading time = 0.00 seconds\n",
      "lop: 400 rows, 64 columns, 1128 nonzeros\n",
      "Read MPS format model from file /tmp/tmp2wd_2xe8/model.mps\n",
      "Reading time = 0.00 seconds\n",
      "lop: 400 rows, 64 columns, 1128 nonzeros\n",
      "Read MPS format model from file /tmp/tmp2wd_2xe8/model.mps\n",
      "Reading time = 0.00 seconds\n",
      "lop: 400 rows, 64 columns, 1128 nonzeros\n"
     ]
    },
    {
     "data": {
      "text/plain": [
       "25.0"
      ]
     },
     "execution_count": 23,
     "metadata": {},
     "output_type": "execute_result"
    }
   ],
   "source": [
    "k_lop_10_paired,details_lop_10_paired = pyrankability.lop.bilp(D,num_random_restarts=10,find_pair=True)\n",
    "k_lop_10_paired"
   ]
  },
  {
   "cell_type": "code",
   "execution_count": 25,
   "metadata": {},
   "outputs": [
    {
     "data": {
      "image/png": "[encoded data removed]",
      "text/plain": [
       "<Figure size 360x720 with 1 Axes>"
      ]
     },
     "metadata": {},
     "output_type": "display_data"
    }
   ],
   "source": [
    "pyrankability.plot.spider(pyrankability.plot.AB_to_P2(details_lop_10_paired['P'][1],details_lop_10_paired['pair_details']['P'][1]))"
   ]
  }
 ],
 "metadata": {
  "kernelspec": {
   "display_name": "Python 3",
   "language": "python",
   "name": "python3"
  },
  "language_info": {
   "codemirror_mode": {
    "name": "ipython",
    "version": 3
   },
   "file_extension": ".py",
   "mimetype": "text/x-python",
   "name": "python",
   "nbconvert_exporter": "python",
   "pygments_lexer": "ipython3",
   "version": "3.6.8"
  }
 },
 "nbformat": 4,
 "nbformat_minor": 4
}
