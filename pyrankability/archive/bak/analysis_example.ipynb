{
 "cells": [
  {
   "cell_type": "code",
   "execution_count": 1,
   "metadata": {},
   "outputs": [],
   "source": [
    "%load_ext autoreload\n",
    "%autoreload 2\n",
    "%matplotlib inline"
   ]
  },
  {
   "cell_type": "code",
   "execution_count": 2,
   "metadata": {},
   "outputs": [],
   "source": [
    "import sys\n",
    "sys.path.append('..')\n",
    "sys.path.append('../..')"
   ]
  },
  {
   "cell_type": "code",
   "execution_count": 3,
   "metadata": {},
   "outputs": [],
   "source": [
    "import pyrankability"
   ]
  },
  {
   "cell_type": "code",
   "execution_count": 29,
   "metadata": {},
   "outputs": [],
   "source": [
    "import ranklib"
   ]
  },
  {
   "cell_type": "code",
   "execution_count": 5,
   "metadata": {},
   "outputs": [],
   "source": [
    "import os\n",
    "ranklib_path = os.path.dirname(ranklib.__file__)"
   ]
  },
  {
   "cell_type": "code",
   "execution_count": 46,
   "metadata": {},
   "outputs": [],
   "source": [
    "instance = ranklib.common.load_instance(ranklib_path+\"/problem_instances/instances/D_strong_dom_25_flip_20.json\")"
   ]
  },
  {
   "cell_type": "code",
   "execution_count": 55,
   "metadata": {},
   "outputs": [],
   "source": [
    "mdg,dg = pyrankability.analysis.get_graph(instance['P'])"
   ]
  },
  {
   "cell_type": "code",
   "execution_count": 78,
   "metadata": {},
   "outputs": [
    {
     "name": "stdout",
     "output_type": "stream",
     "text": [
      "[0, 1, 2, 3, 4]\n",
      "[5]\n",
      "[6]\n",
      "[7, 8, 9, 10, 11, 12, 13, 14, 15, 16]\n",
      "[17]\n",
      "[18]\n",
      "[19, 20, 21, 22, 23, 24]\n",
      "[{0: [0, 0, 0, 0]}, {1: [1, 1, 1, 1]}, {2: [2, 2, 2, 2]}, {3: [3, 3, 3, 3]}, {4: [4, 4, 4, 4]}, {5: [5, 5], 6: [6, 6]}, {6: [6, 6], 5: [5, 5]}, {7: [7, 7, 7, 7]}, {8: [8, 8, 8, 8]}, {9: [9, 9, 9, 9]}, {10: [10, 10, 10, 10]}, {11: [11, 11, 11, 11]}, {12: [12, 12, 12, 12]}, {13: [13, 13, 13, 13]}, {14: [14, 14, 14, 14]}, {15: [15, 15, 15, 15]}, {16: [16, 16, 16, 16]}, {17: [17, 17], 18: [18, 18]}, {18: [18, 18], 17: [17, 17]}, {19: [19, 19, 19, 19]}, {20: [20, 20, 20, 20]}, {21: [21, 21, 21, 21]}, {22: [22, 22, 22, 22]}, {23: [23, 23, 23, 23]}, {24: [24, 24, 24, 24]}]\n"
     ]
    }
   ],
   "source": [
    "# what's the longest string that exists in all of the P set?\n",
    "longest = {}\n",
    "for starting_item, nbrs in mdg.adjacency():\n",
    "    if starting_item in longest and longest[starting_item] == None: # already in a path\n",
    "        continue\n",
    "    current_item = starting_item\n",
    "    current_nbrs = list(mdg.neighbors(current_item))\n",
    "    longest[starting_item] = [starting_item]\n",
    "    while (len(current_nbrs) == 1):\n",
    "        current_item = current_nbrs[0]\n",
    "        longest[current_item] = None\n",
    "        longest[starting_item].append(current_item)\n",
    "        current_nbrs = list(mdg.neighbors(current_item))\n",
    "    print(longest[starting_item])\n",
    "\n",
    "longest_starting_items = list(longest.keys())\n",
    "mapping = {}\n",
    "for i,start_item in enumerate(longest_starting_items):\n",
    "    if longest[start_item] == None:\n",
    "        continue\n",
    "    mapping[i] = \",\".join([str(v) for v in longest[start_item]])\n",
    "longest_dg = nx.DiGraph()\n",
    "        \n",
    "#now add in the perm_i\n",
    "for j in range(len(instance[\"P\"])):\n",
    "    perm_j = instance[\"P\"][j,:]\n",
    "    for i in range(len(perm_j)-1):\n",
    "        i_t = perm_j[i]\n",
    "        j_t = perm_j[i+1]\n",
    "        i_t_longest = None\n",
    "        j_t_longest = None\n",
    "        for start_item in longest_starting_items:\n",
    "            if longest[start_item] == None:\n",
    "                continue\n",
    "            if i_t in longest[start_item]:\n",
    "                i_t_longest = start_item\n",
    "            if j_t in longest[start_item]:\n",
    "                j_t_longest = start_item\n",
    "        if i_t_longest != j_t_longest:\n",
    "            longest_dg.add_weighted_edges_from([(i_t_longest,j_t_longest, 1.0)])\n",
    "\n",
    "longest_dg_with_names=nx.relabel_nodes(longest_dg,mapping)\n",
    "\n",
    "levels = []\n",
    "for level_ix in range(instance[\"P\"].shape[1]):\n",
    "    level = {}\n",
    "    for perm_ix in range(instance[\"P\"].shape[0]):\n",
    "        item = instance[\"P\"][perm_ix,level_ix]\n",
    "        if item not in level: # First time\n",
    "            level[item] = []\n",
    "        level[item].append(item)\n",
    "    levels.append(level)\n",
    "print(levels)\n",
    "\n"
   ]
  },
  {
   "cell_type": "code",
   "execution_count": 68,
   "metadata": {},
   "outputs": [
    {
     "name": "stdout",
     "output_type": "stream",
     "text": [
      "[1]\n"
     ]
    }
   ],
   "source": [
    "print(list(current_nbrs))"
   ]
  },
  {
   "cell_type": "code",
   "execution_count": 48,
   "metadata": {},
   "outputs": [],
   "source": []
  },
  {
   "cell_type": "code",
   "execution_count": 49,
   "metadata": {},
   "outputs": [
    {
     "name": "stdout",
     "output_type": "stream",
     "text": [
      "0\n",
      "1 {0: {'index': 0, 'weight': 1.0}, 1: {'index': 1, 'weight': 1.0}, 2: {'index': 2, 'weight': 1.0}, 3: {'index': 3, 'weight': 1.0}}\n",
      "1\n",
      "2 {0: {'index': 0, 'weight': 1.0}, 1: {'index': 1, 'weight': 1.0}, 2: {'index': 2, 'weight': 1.0}, 3: {'index': 3, 'weight': 1.0}}\n",
      "2\n",
      "3 {0: {'index': 0, 'weight': 1.0}, 1: {'index': 1, 'weight': 1.0}, 2: {'index': 2, 'weight': 1.0}, 3: {'index': 3, 'weight': 1.0}}\n",
      "3\n",
      "4 {0: {'index': 0, 'weight': 1.0}, 1: {'index': 1, 'weight': 1.0}, 2: {'index': 2, 'weight': 1.0}, 3: {'index': 3, 'weight': 1.0}}\n",
      "4\n",
      "5 {0: {'index': 0, 'weight': 1.0}, 1: {'index': 1, 'weight': 1.0}}\n",
      "6 {0: {'index': 2, 'weight': 1.0}, 1: {'index': 3, 'weight': 1.0}}\n",
      "5\n",
      "6 {0: {'index': 0, 'weight': 1.0}, 1: {'index': 1, 'weight': 1.0}}\n",
      "7 {0: {'index': 2, 'weight': 1.0}, 1: {'index': 3, 'weight': 1.0}}\n",
      "6\n",
      "7 {0: {'index': 0, 'weight': 1.0}, 1: {'index': 1, 'weight': 1.0}}\n",
      "5 {0: {'index': 2, 'weight': 1.0}, 1: {'index': 3, 'weight': 1.0}}\n",
      "7\n",
      "8 {0: {'index': 0, 'weight': 1.0}, 1: {'index': 1, 'weight': 1.0}, 2: {'index': 2, 'weight': 1.0}, 3: {'index': 3, 'weight': 1.0}}\n",
      "8\n",
      "9 {0: {'index': 0, 'weight': 1.0}, 1: {'index': 1, 'weight': 1.0}, 2: {'index': 2, 'weight': 1.0}, 3: {'index': 3, 'weight': 1.0}}\n",
      "9\n",
      "10 {0: {'index': 0, 'weight': 1.0}, 1: {'index': 1, 'weight': 1.0}, 2: {'index': 2, 'weight': 1.0}, 3: {'index': 3, 'weight': 1.0}}\n",
      "10\n",
      "11 {0: {'index': 0, 'weight': 1.0}, 1: {'index': 1, 'weight': 1.0}, 2: {'index': 2, 'weight': 1.0}, 3: {'index': 3, 'weight': 1.0}}\n",
      "11\n",
      "12 {0: {'index': 0, 'weight': 1.0}, 1: {'index': 1, 'weight': 1.0}, 2: {'index': 2, 'weight': 1.0}, 3: {'index': 3, 'weight': 1.0}}\n",
      "12\n",
      "13 {0: {'index': 0, 'weight': 1.0}, 1: {'index': 1, 'weight': 1.0}, 2: {'index': 2, 'weight': 1.0}, 3: {'index': 3, 'weight': 1.0}}\n",
      "13\n",
      "14 {0: {'index': 0, 'weight': 1.0}, 1: {'index': 1, 'weight': 1.0}, 2: {'index': 2, 'weight': 1.0}, 3: {'index': 3, 'weight': 1.0}}\n",
      "14\n",
      "15 {0: {'index': 0, 'weight': 1.0}, 1: {'index': 1, 'weight': 1.0}, 2: {'index': 2, 'weight': 1.0}, 3: {'index': 3, 'weight': 1.0}}\n",
      "15\n",
      "16 {0: {'index': 0, 'weight': 1.0}, 1: {'index': 1, 'weight': 1.0}, 2: {'index': 2, 'weight': 1.0}, 3: {'index': 3, 'weight': 1.0}}\n",
      "16\n",
      "17 {0: {'index': 0, 'weight': 1.0}, 1: {'index': 2, 'weight': 1.0}}\n",
      "18 {0: {'index': 1, 'weight': 1.0}, 1: {'index': 3, 'weight': 1.0}}\n",
      "17\n",
      "18 {0: {'index': 0, 'weight': 1.0}, 1: {'index': 2, 'weight': 1.0}}\n",
      "19 {0: {'index': 1, 'weight': 1.0}, 1: {'index': 3, 'weight': 1.0}}\n",
      "18\n",
      "19 {0: {'index': 0, 'weight': 1.0}, 1: {'index': 2, 'weight': 1.0}}\n",
      "17 {0: {'index': 1, 'weight': 1.0}, 1: {'index': 3, 'weight': 1.0}}\n",
      "19\n",
      "20 {0: {'index': 0, 'weight': 1.0}, 1: {'index': 1, 'weight': 1.0}, 2: {'index': 2, 'weight': 1.0}, 3: {'index': 3, 'weight': 1.0}}\n",
      "20\n",
      "21 {0: {'index': 0, 'weight': 1.0}, 1: {'index': 1, 'weight': 1.0}, 2: {'index': 2, 'weight': 1.0}, 3: {'index': 3, 'weight': 1.0}}\n",
      "21\n",
      "22 {0: {'index': 0, 'weight': 1.0}, 1: {'index': 1, 'weight': 1.0}, 2: {'index': 2, 'weight': 1.0}, 3: {'index': 3, 'weight': 1.0}}\n",
      "22\n",
      "23 {0: {'index': 0, 'weight': 1.0}, 1: {'index': 1, 'weight': 1.0}, 2: {'index': 2, 'weight': 1.0}, 3: {'index': 3, 'weight': 1.0}}\n",
      "23\n",
      "24 {0: {'index': 0, 'weight': 1.0}, 1: {'index': 1, 'weight': 1.0}, 2: {'index': 2, 'weight': 1.0}, 3: {'index': 3, 'weight': 1.0}}\n",
      "24\n"
     ]
    }
   ],
   "source": [
    "for n, nbrs in mdg.adjacency():\n",
    "    print(n)\n",
    "    for nbr, edict in nbrs.items():\n",
    "        print(nbr,edict)"
   ]
  },
  {
   "cell_type": "code",
   "execution_count": 52,
   "metadata": {},
   "outputs": [
    {
     "data": {
      "image/png": "[encoded data removed]",
      "text/plain": [
       "<Figure size 432x288 with 1 Axes>"
      ]
     },
     "metadata": {},
     "output_type": "display_data"
    }
   ],
   "source": [
    "import networkx as nx\n",
    "\n",
    "edges = dg.edges()\n",
    "weights = [dg[u][v]['weight'] for u,v in edges]\n",
    "\n",
    "#pos = nx.spectral_layout(dg)\n",
    "nx.draw(dg, width=weights,with_labels=True)\n",
    "\n",
    "#nx.draw(dg, with_labels=True, font_weight='bold')"
   ]
  },
  {
   "cell_type": "code",
   "execution_count": 79,
   "metadata": {},
   "outputs": [
    {
     "data": {
      "image/png": "[encoded data removed]",
      "text/plain": [
       "<Figure size 432x288 with 1 Axes>"
      ]
     },
     "metadata": {},
     "output_type": "display_data"
    }
   ],
   "source": [
    "nx.draw(longest_dg_with_names, with_labels=True)\n"
   ]
  },
  {
   "cell_type": "code",
   "execution_count": 20,
   "metadata": {},
   "outputs": [
    {
     "name": "stderr",
     "output_type": "stream",
     "text": [
      "/usr/local/lib/python3.6/dist-packages/igraph/drawing/__init__.py:263: UserWarning: <module 'igraph' from '/usr/local/lib/python3.6/dist-packages/igraph/__init__.py'> does not support plotting\n",
      "  warn(\"%s does not support plotting\" % obj)\n"
     ]
    }
   ],
   "source": [
    "import tempfile\n",
    "f = tempfile.NamedTemporaryFile(delete=False,suffix=\".png\")\n",
    "#layout = g.layout_reingold_tilford_circular(root=[0])\n",
    "#visual_style = {}\n",
    "#visual_style[\"vertex_size\"] = 20\n",
    "#>>> visual_style[\"vertex_color\"] = [color_dict[gender] for gender in g.vs[\"gender\"]]\n",
    "#visual_style[\"vertex_label\"] = g.vs[\"name\"]\n",
    "#>>> visual_style[\"edge_width\"] = [1 + 2 * int(is_formal) for is_formal in g.es[\"is_formal\"]]\n",
    "#visual_style[\"layout\"] = layout\n",
    "res = ig.plot(g,target=f.name)"
   ]
  },
  {
   "cell_type": "code",
   "execution_count": 21,
   "metadata": {},
   "outputs": [
    {
     "data": {
      "image/png": "[encoded data removed]",
      "text/plain": [
       "<IPython.core.display.Image object>"
      ]
     },
     "execution_count": 21,
     "metadata": {},
     "output_type": "execute_result"
    }
   ],
   "source": [
    "from IPython.display import Image\n",
    "from IPython.core.display import HTML \n",
    "Image(filename= f.name)"
   ]
  },
  {
   "cell_type": "code",
   "execution_count": 18,
   "metadata": {},
   "outputs": [
    {
     "data": {
      "text/plain": [
       "'file://tmp/tmpag4vq3ng.png'"
      ]
     },
     "execution_count": 18,
     "metadata": {},
     "output_type": "execute_result"
    }
   ],
   "source": [
    "\"file:/\"+f.name"
   ]
  },
  {
   "cell_type": "code",
   "execution_count": 5,
   "metadata": {},
   "outputs": [],
   "source": [
    "import os\n",
    "\n",
    "path = '/dev/shm/test'\n",
    "notP = []\n",
    "for (dirpath, dirnames, filenames) in os.walk(path):\n",
    "    for filename in filenames:\n",
    "        contents = open(path+\"/\"+filename).read().strip()\n",
    "        if len(contents) > 0:\n",
    "            notP.append([int(v) for v in contents.split(\",\")])"
   ]
  },
  {
   "cell_type": "code",
   "execution_count": 9,
   "metadata": {},
   "outputs": [],
   "source": [
    "import numpy as np\n",
    "notP_array = np.array(notP)"
   ]
  },
  {
   "cell_type": "code",
   "execution_count": 35,
   "metadata": {},
   "outputs": [
    {
     "data": {
      "text/plain": [
       "array([], shape=(0, 5), dtype=int64)"
      ]
     },
     "execution_count": 35,
     "metadata": {},
     "output_type": "execute_result"
    }
   ],
   "source": [
    "notP_array[np.where(notP_array[:,4] != -1)[0],:5]"
   ]
  },
  {
   "cell_type": "code",
   "execution_count": 31,
   "metadata": {},
   "outputs": [
    {
     "data": {
      "text/plain": [
       "array([ True,  True,  True, ...,  True,  True,  True])"
      ]
     },
     "execution_count": 31,
     "metadata": {},
     "output_type": "execute_result"
    }
   ],
   "source": [
    "notP_array[:,3] != -1"
   ]
  },
  {
   "cell_type": "code",
   "execution_count": null,
   "metadata": {},
   "outputs": [],
   "source": []
  }
 ],
 "metadata": {
  "kernelspec": {
   "display_name": "Python 3.6",
   "language": "python",
   "name": "python3.6"
  },
  "language_info": {
   "codemirror_mode": {
    "name": "ipython",
    "version": 3
   },
   "file_extension": ".py",
   "mimetype": "text/x-python",
   "name": "python",
   "nbconvert_exporter": "python",
   "pygments_lexer": "ipython3",
   "version": "3.6.5"
  }
 },
 "nbformat": 4,
 "nbformat_minor": 2
}
