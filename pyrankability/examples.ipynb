{
 "cells": [
  {
   "cell_type": "code",
   "execution_count": 139,
   "metadata": {},
   "outputs": [],
   "source": [
    "import sys"
   ]
  },
  {
   "cell_type": "code",
   "execution_count": 140,
   "metadata": {},
   "outputs": [],
   "source": [
    "sys.path.append(\"/home/panderson/rankability_toolbox\")"
   ]
  },
  {
   "cell_type": "code",
   "execution_count": 141,
   "metadata": {},
   "outputs": [
    {
     "name": "stdout",
     "output_type": "stream",
     "text": [
      "The autoreload extension is already loaded. To reload it, use:\n",
      "  %reload_ext autoreload\n"
     ]
    }
   ],
   "source": [
    "%load_ext autoreload\n",
    "%autoreload 2\n",
    "%matplotlib inline"
   ]
  },
  {
   "cell_type": "code",
   "execution_count": 142,
   "metadata": {},
   "outputs": [],
   "source": [
    "import itertools"
   ]
  },
  {
   "cell_type": "code",
   "execution_count": 143,
   "metadata": {},
   "outputs": [],
   "source": [
    "import numpy as np"
   ]
  },
  {
   "cell_type": "code",
   "execution_count": 144,
   "metadata": {},
   "outputs": [],
   "source": [
    "import pyrankability"
   ]
  },
  {
   "cell_type": "code",
   "execution_count": 7,
   "metadata": {},
   "outputs": [],
   "source": [
    "D=np.array([[0,0,0,0,1,19,0,0],\n",
    "[7,0,21,24,23,29,0,0],\n",
    "[20,0,0,14,0,18,7,11],\n",
    "[5,0,0,0,3,21,0,0],\n",
    "[0,0,7,0,0,30,0,32],\n",
    "[0,0,0,0,0,0,0,3],\n",
    "[6,3,0,45,22,38,0,0],\n",
    "[3,14,0,14,0,0,14,0]])"
   ]
  },
  {
   "cell_type": "code",
   "execution_count": 9,
   "metadata": {},
   "outputs": [
    {
     "data": {
      "text/plain": [
       "array([[ 0,  0,  0,  0,  1, 19,  0,  0],\n",
       "       [ 7,  0, 21, 24, 23, 29,  0,  0],\n",
       "       [20,  0,  0, 14,  0, 18,  7, 11],\n",
       "       [ 5,  0,  0,  0,  3, 21,  0,  0],\n",
       "       [ 0,  0,  7,  0,  0, 30,  0, 32],\n",
       "       [ 0,  0,  0,  0,  0,  0,  0,  3],\n",
       "       [ 6,  3,  0, 45, 22, 38,  0,  0],\n",
       "       [ 3, 14,  0, 14,  0,  0, 14,  0]])"
      ]
     },
     "execution_count": 9,
     "metadata": {},
     "output_type": "execute_result"
    }
   ],
   "source": [
    "D"
   ]
  },
  {
   "cell_type": "code",
   "execution_count": 21,
   "metadata": {},
   "outputs": [],
   "source": [
    "k,details = pyrankability.hillside.count_lp(D)"
   ]
  },
  {
   "cell_type": "code",
   "execution_count": 23,
   "metadata": {},
   "outputs": [
    {
     "data": {
      "text/plain": [
       "[[0, 1, 2, 3, 4, 5, 6, 7], [1, 0, 2, 3, 4, 5, 6, 7]]"
      ]
     },
     "execution_count": 23,
     "metadata": {},
     "output_type": "execute_result"
    }
   ],
   "source": [
    "details[\"P\"]"
   ]
  },
  {
   "cell_type": "code",
   "execution_count": 26,
   "metadata": {},
   "outputs": [
    {
     "data": {
      "text/plain": [
       "array([[ 0,  0,  0, 18, 12,  0, 35,  0,  0],\n",
       "       [21,  0, 10,  3,  0,  0, 41,  0, 14],\n",
       "       [18,  0,  0, 10,  0,  0,  4,  4,  8],\n",
       "       [ 0,  0,  0,  0, 23,  0,  2,  4,  3],\n",
       "       [ 0, 21, 20,  0,  0,  0,  0,  9, 13],\n",
       "       [38,  1, 27, 21,  3,  0, 48,  3, 14],\n",
       "       [ 0,  0,  0,  0,  3,  0,  0,  0,  0],\n",
       "       [ 3,  7,  0,  0,  0,  0, 10,  0, 30],\n",
       "       [ 1,  0,  0,  0,  0,  0, 25,  0,  0]])"
      ]
     },
     "execution_count": 26,
     "metadata": {},
     "output_type": "execute_result"
    }
   ],
   "source": [
    "D=np.array([[0,0,0,18,12,0,35,0,0],\n",
    "[21,0,10,3,0,0,41,0,14],\n",
    "[18,0,0,10,0,0,4,4,8],\n",
    "[0,0,0,0,23,0,2,4,3],\n",
    "[0,21,20,0,0,0,0,9,13],\n",
    "[38,1,27,21,3,0,48,3,14],\n",
    "[0,0,0,0,3,0,0,0,0],\n",
    "[3,7,0,0,0,0,10,0,30],\n",
    "[1,0,0,0,0,0,25,0,0]])\n",
    "D"
   ]
  },
  {
   "cell_type": "code",
   "execution_count": 119,
   "metadata": {},
   "outputs": [
    {
     "name": "stdout",
     "output_type": "stream",
     "text": [
      "[0 3 7 5 1 2 6 4]\n"
     ]
    },
    {
     "data": {
      "text/plain": [
       "(154,\n",
       " {'x': array([[1.00000000e+00, 1.00000000e+00, 1.00000000e+00, 1.00000000e+00,\n",
       "          1.00000000e+00, 1.00000000e+00, 1.00000000e+00, 1.00000000e+00],\n",
       "         [2.26114683e-11, 1.00000000e+00, 5.00985101e-01, 5.57709187e-11,\n",
       "          9.99999963e-01, 9.11356041e-10, 1.00000000e+00, 4.90648750e-10],\n",
       "         [2.22069030e-11, 4.99014899e-01, 1.00000000e+00, 3.20329736e-11,\n",
       "          9.99999963e-01, 7.84071071e-10, 9.99999999e-01, 2.77786100e-11],\n",
       "         [3.73525766e-10, 1.00000000e+00, 1.00000000e+00, 1.00000000e+00,\n",
       "          1.00000000e+00, 1.00000000e+00, 1.00000000e+00, 5.97121933e-01],\n",
       "         [2.00451877e-11, 3.72340434e-08, 3.65647091e-08, 6.64728272e-11,\n",
       "          1.00000000e+00, 7.00390214e-11, 3.72993197e-08, 5.65432269e-11],\n",
       "         [6.52436993e-11, 9.99999999e-01, 9.99999999e-01, 1.16271548e-10,\n",
       "          1.00000000e+00, 1.00000000e+00, 1.00000000e+00, 3.99427238e-01],\n",
       "         [2.32263098e-11, 4.20954827e-10, 9.07128594e-10, 3.84499099e-11,\n",
       "          9.99999963e-01, 3.76945031e-10, 1.00000000e+00, 1.27858235e-10],\n",
       "         [1.70590098e-10, 1.00000000e+00, 1.00000000e+00, 4.02878067e-01,\n",
       "          1.00000000e+00, 6.00572762e-01, 1.00000000e+00, 1.00000000e+00]]),\n",
       "  'c': array([[ 0.,  4.,  4.,  5.,  4.,  4.,  3.,  4.],\n",
       "         [10.,  0.,  7., 10.,  8.,  8.,  5.,  9.],\n",
       "         [12.,  7.,  0., 12.,  8.,  8.,  6., 11.],\n",
       "         [ 9.,  5.,  4.,  0.,  6.,  5.,  5.,  6.],\n",
       "         [11.,  8.,  8.,  8.,  0., 11.,  8.,  8.],\n",
       "         [10.,  7.,  7., 10.,  4.,  0.,  7.,  8.],\n",
       "         [10.,  8.,  8., 10.,  7.,  8.,  0.,  8.],\n",
       "         [ 9.,  7.,  4.,  6.,  5.,  8.,  6.,  0.]]),\n",
       "  'model': <gurobi.Model Continuous instance rankability_hillside_count: 392 constrs, 64 vars, Parameter changes: Method=2, Crossover=0, LogFile=gurobi.log, CSIdleTimeout=1800, OutputFlag=0>,\n",
       "  'P': [[4, 6, 3, 7, 5, 1, 2, 0]]})"
      ]
     },
     "execution_count": 119,
     "metadata": {},
     "output_type": "execute_result"
    }
   ],
   "source": [
    "k,details = pyrankability.hillside.count_lp(D)\n",
    "k,details"
   ]
  },
  {
   "cell_type": "code",
   "execution_count": 145,
   "metadata": {},
   "outputs": [
    {
     "data": {
      "text/plain": [
       "array([[ 0., 34.,  4., 22., 18., 23., 25.,  0.],\n",
       "       [ 0.,  0., 19.,  2., 14.,  5.,  3.,  2.],\n",
       "       [ 4.,  0.,  0., 10.,  8.,  2.,  0.,  9.],\n",
       "       [ 0.,  6., 14.,  0., 20.,  3.,  8., 18.],\n",
       "       [ 2., 11., 10.,  0.,  0., 20., 18.,  0.],\n",
       "       [ 0., 25., 12.,  1.,  8.,  0., 18.,  4.],\n",
       "       [ 0., 10., 13.,  3.,  7.,  5.,  0.,  0.],\n",
       "       [26.,  8.,  6.,  0., 17.,  2., 15.,  0.]])"
      ]
     },
     "execution_count": 145,
     "metadata": {},
     "output_type": "execute_result"
    }
   ],
   "source": [
    "import pandas as pd\n",
    "\n",
    "D = pd.read_csv(\"~/rankabilitylib-data/college_football/MBB/PatriotLeague/2008d1Matrix.csv\",header=None).values\n",
    "D"
   ]
  },
  {
   "cell_type": "code",
   "execution_count": 146,
   "metadata": {},
   "outputs": [
    {
     "data": {
      "text/plain": [
       "array([[ 0., 34.,  4., 22., 18., 23., 25.,  0.],\n",
       "       [ 0.,  0., 19.,  2., 14.,  5.,  3.,  2.],\n",
       "       [ 4.,  0.,  0., 10.,  8.,  2.,  0.,  9.],\n",
       "       [ 0.,  6., 14.,  0., 20.,  3.,  8., 18.],\n",
       "       [ 2., 11., 10.,  0.,  0., 20., 18.,  0.],\n",
       "       [ 0., 25., 12.,  1.,  8.,  0., 18.,  4.],\n",
       "       [ 0., 10., 13.,  3.,  7.,  5.,  0.,  0.],\n",
       "       [26.,  8.,  6.,  0., 17.,  2., 15.,  0.]])"
      ]
     },
     "execution_count": 146,
     "metadata": {},
     "output_type": "execute_result"
    }
   ],
   "source": [
    "D"
   ]
  },
  {
   "cell_type": "code",
   "execution_count": 166,
   "metadata": {},
   "outputs": [
    {
     "data": {
      "text/plain": [
       "(154,\n",
       " {'x': array([[1.00000000e+00, 1.00000000e+00, 1.00000000e+00, 1.00000000e+00,\n",
       "          1.00000000e+00, 1.00000000e+00, 1.00000000e+00, 1.00000000e+00],\n",
       "         [2.26114683e-11, 1.00000000e+00, 5.00985101e-01, 5.57709187e-11,\n",
       "          9.99999963e-01, 9.11356041e-10, 1.00000000e+00, 4.90648750e-10],\n",
       "         [2.22069030e-11, 4.99014899e-01, 1.00000000e+00, 3.20329736e-11,\n",
       "          9.99999963e-01, 7.84071071e-10, 9.99999999e-01, 2.77786100e-11],\n",
       "         [3.73525766e-10, 1.00000000e+00, 1.00000000e+00, 1.00000000e+00,\n",
       "          1.00000000e+00, 1.00000000e+00, 1.00000000e+00, 5.97121933e-01],\n",
       "         [2.00451877e-11, 3.72340434e-08, 3.65647091e-08, 6.64728272e-11,\n",
       "          1.00000000e+00, 7.00390214e-11, 3.72993197e-08, 5.65432269e-11],\n",
       "         [6.52436993e-11, 9.99999999e-01, 9.99999999e-01, 1.16271548e-10,\n",
       "          1.00000000e+00, 1.00000000e+00, 1.00000000e+00, 3.99427238e-01],\n",
       "         [2.32263098e-11, 4.20954827e-10, 9.07128594e-10, 3.84499099e-11,\n",
       "          9.99999963e-01, 3.76945031e-10, 1.00000000e+00, 1.27858235e-10],\n",
       "         [1.70590098e-10, 1.00000000e+00, 1.00000000e+00, 4.02878067e-01,\n",
       "          1.00000000e+00, 6.00572762e-01, 1.00000000e+00, 1.00000000e+00]]),\n",
       "  'c': array([[ 0.,  4.,  4.,  5.,  4.,  4.,  3.,  4.],\n",
       "         [10.,  0.,  7., 10.,  8.,  8.,  5.,  9.],\n",
       "         [12.,  7.,  0., 12.,  8.,  8.,  6., 11.],\n",
       "         [ 9.,  5.,  4.,  0.,  6.,  5.,  5.,  6.],\n",
       "         [11.,  8.,  8.,  8.,  0., 11.,  8.,  8.],\n",
       "         [10.,  7.,  7., 10.,  4.,  0.,  7.,  8.],\n",
       "         [10.,  8.,  8., 10.,  7.,  8.,  0.,  8.],\n",
       "         [ 9.,  7.,  4.,  6.,  5.,  8.,  6.,  0.]]),\n",
       "  'model': <gurobi.Model Continuous instance rankability_hillside_count: 392 constrs, 64 vars, Parameter changes: Method=2, Crossover=0, LogFile=gurobi.log, CSIdleTimeout=1800, OutputFlag=0>,\n",
       "  'P': [[4, 6, 1, 2, 5, 7, 3, 0],\n",
       "   [4, 6, 1, 2, 7, 5, 3, 0],\n",
       "   [4, 6, 2, 1, 5, 7, 3, 0],\n",
       "   [4, 6, 2, 1, 7, 5, 3, 0],\n",
       "   [4, 6, 2, 1, 5, 3, 7, 0],\n",
       "   [4, 6, 1, 2, 5, 3, 7, 0]]})"
      ]
     },
     "execution_count": 166,
     "metadata": {},
     "output_type": "execute_result"
    }
   ],
   "source": [
    "k,details = pyrankability.hillside.count_lp(D)\n",
    "k,details"
   ]
  },
  {
   "cell_type": "code",
   "execution_count": 16,
   "metadata": {},
   "outputs": [
    {
     "data": {
      "text/plain": [
       "(155,\n",
       " {'P': [(4, 6, 1, 2, 5, 3, 7, 0),\n",
       "   (4, 6, 1, 2, 5, 7, 3, 0),\n",
       "   (4, 6, 1, 2, 7, 5, 3, 0),\n",
       "   (4, 6, 2, 1, 5, 3, 7, 0),\n",
       "   (4, 6, 2, 1, 5, 7, 3, 0),\n",
       "   (4, 6, 2, 1, 7, 5, 3, 0)]})"
      ]
     },
     "execution_count": 16,
     "metadata": {},
     "output_type": "execute_result"
    }
   ],
   "source": [
    "pyrankability.hillside.objective_count_exhaustive(D)"
   ]
  },
  {
   "cell_type": "code",
   "execution_count": 118,
   "metadata": {},
   "outputs": [
    {
     "data": {
      "text/plain": [
       "[3, 2, 1]"
      ]
     },
     "execution_count": 118,
     "metadata": {},
     "output_type": "execute_result"
    }
   ],
   "source": [
    "[1,2,3][::-1]"
   ]
  },
  {
   "cell_type": "code",
   "execution_count": 162,
   "metadata": {},
   "outputs": [
    {
     "data": {
      "text/plain": [
       "{(4, 6, 1, 2, 3, 5, 7, 0),\n",
       " (4, 6, 1, 2, 3, 7, 5, 0),\n",
       " (4, 6, 1, 2, 5, 3, 7, 0),\n",
       " (4, 6, 1, 2, 5, 7, 3, 0),\n",
       " (4, 6, 1, 2, 7, 3, 5, 0),\n",
       " (4, 6, 1, 2, 7, 5, 3, 0),\n",
       " (4, 6, 2, 1, 3, 5, 7, 0),\n",
       " (4, 6, 2, 1, 3, 7, 5, 0),\n",
       " (4, 6, 2, 1, 5, 3, 7, 0),\n",
       " (4, 6, 2, 1, 5, 7, 3, 0),\n",
       " (4, 6, 2, 1, 7, 3, 5, 0),\n",
       " (4, 6, 2, 1, 7, 5, 3, 0)}"
      ]
     },
     "execution_count": 162,
     "metadata": {},
     "output_type": "execute_result"
    }
   ],
   "source": []
  },
  {
   "cell_type": "code",
   "execution_count": 163,
   "metadata": {},
   "outputs": [
    {
     "name": "stdout",
     "output_type": "stream",
     "text": [
      "155\n",
      "160\n",
      "160\n",
      "160\n",
      "155\n",
      "155\n",
      "155\n",
      "160\n",
      "155\n",
      "160\n",
      "160\n",
      "155\n"
     ]
    }
   ],
   "source": [
    "for perm in P:\n",
    "    pyrankability.hillside.objective_count_perm(D,perm))"
   ]
  },
  {
   "cell_type": "code",
   "execution_count": null,
   "metadata": {},
   "outputs": [],
   "source": []
  }
 ],
 "metadata": {
  "kernelspec": {
   "display_name": "Python 3 ~/env",
   "language": "python",
   "name": "home_env"
  },
  "language_info": {
   "codemirror_mode": {
    "name": "ipython",
    "version": 3
   },
   "file_extension": ".py",
   "mimetype": "text/x-python",
   "name": "python",
   "nbconvert_exporter": "python",
   "pygments_lexer": "ipython3",
   "version": "3.6.8"
  }
 },
 "nbformat": 4,
 "nbformat_minor": 2
}
